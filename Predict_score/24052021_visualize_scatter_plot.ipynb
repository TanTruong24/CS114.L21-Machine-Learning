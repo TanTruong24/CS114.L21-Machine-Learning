{
  "nbformat": 4,
  "nbformat_minor": 0,
  "metadata": {
    "colab": {
      "name": "24052021_visualize-scatter-plot.ipynb",
      "provenance": [],
      "collapsed_sections": [],
      "toc_visible": true,
      "include_colab_link": true
    },
    "kernelspec": {
      "name": "python3",
      "display_name": "Python 3"
    },
    "language_info": {
      "name": "python"
    }
  },
  "cells": [
    {
      "cell_type": "markdown",
      "metadata": {
        "id": "view-in-github",
        "colab_type": "text"
      },
      "source": [
        "<a href=\"https://colab.research.google.com/github/TanTruong24/CS114.L21-Machine-Learning/blob/main/Predict_score/24052021_visualize_scatter_plot.ipynb\" target=\"_parent\"><img src=\"https://colab.research.google.com/assets/colab-badge.svg\" alt=\"Open In Colab\"/></a>"
      ]
    },
    {
      "cell_type": "markdown",
      "metadata": {
        "id": "qghR9QIDi5nm"
      },
      "source": [
        "#**1. Cài các công cụ cần thiết và tải file dữ liệu**"
      ]
    },
    {
      "cell_type": "code",
      "metadata": {
        "id": "xPfxzhJuSxdw",
        "colab": {
          "base_uri": "https://localhost:8080/"
        },
        "outputId": "302fd45c-519f-44c8-a120-e655d13ebf03"
      },
      "source": [
        "!sudo apt install sqlite3"
      ],
      "execution_count": null,
      "outputs": [
        {
          "output_type": "stream",
          "text": [
            "Reading package lists... Done\n",
            "Building dependency tree       \n",
            "Reading state information... Done\n",
            "The following package was automatically installed and is no longer required:\n",
            "  libnvidia-common-460\n",
            "Use 'sudo apt autoremove' to remove it.\n",
            "Suggested packages:\n",
            "  sqlite3-doc\n",
            "The following NEW packages will be installed:\n",
            "  sqlite3\n",
            "0 upgraded, 1 newly installed, 0 to remove and 34 not upgraded.\n",
            "Need to get 752 kB of archives.\n",
            "After this operation, 2,482 kB of additional disk space will be used.\n",
            "Get:1 http://archive.ubuntu.com/ubuntu bionic-updates/main amd64 sqlite3 amd64 3.22.0-1ubuntu0.4 [752 kB]\n",
            "Fetched 752 kB in 1s (1,208 kB/s)\n",
            "debconf: unable to initialize frontend: Dialog\n",
            "debconf: (No usable dialog-like program is installed, so the dialog based frontend cannot be used. at /usr/share/perl5/Debconf/FrontEnd/Dialog.pm line 76, <> line 1.)\n",
            "debconf: falling back to frontend: Readline\n",
            "debconf: unable to initialize frontend: Readline\n",
            "debconf: (This frontend requires a controlling tty.)\n",
            "debconf: falling back to frontend: Teletype\n",
            "dpkg-preconfigure: unable to re-open stdin: \n",
            "Selecting previously unselected package sqlite3.\n",
            "(Reading database ... 160706 files and directories currently installed.)\n",
            "Preparing to unpack .../sqlite3_3.22.0-1ubuntu0.4_amd64.deb ...\n",
            "Unpacking sqlite3 (3.22.0-1ubuntu0.4) ...\n",
            "Setting up sqlite3 (3.22.0-1ubuntu0.4) ...\n",
            "Processing triggers for man-db (2.8.3-2ubuntu0.1) ...\n"
          ],
          "name": "stdout"
        }
      ]
    },
    {
      "cell_type": "code",
      "metadata": {
        "id": "Sel-u33-BX8v",
        "colab": {
          "base_uri": "https://localhost:8080/"
        },
        "outputId": "206c5b07-ee50-49a1-dad4-a4f12b4d9580"
      },
      "source": [
        "# DOWLOAD WECODE.CSV VÀ SCORE_TRAIN.CSV\n",
        "!gdown --id 1Otyf4okdrqXiGhUHOOldq-uj_WnX-LFx\n",
        "!gdown --id 1i5q2-xC39eSReAIgTUNhFTdm7UIMHA8_"
      ],
      "execution_count": null,
      "outputs": [
        {
          "output_type": "stream",
          "text": [
            "Downloading...\n",
            "From: https://drive.google.com/uc?id=1Otyf4okdrqXiGhUHOOldq-uj_WnX-LFx\n",
            "To: /content/score_training.csv\n",
            "100% 23.9k/23.9k [00:00<00:00, 3.54MB/s]\n",
            "Downloading...\n",
            "From: https://drive.google.com/uc?id=1i5q2-xC39eSReAIgTUNhFTdm7UIMHA8_\n",
            "To: /content/wecode.csv\n",
            "30.8MB [00:00, 84.5MB/s]\n"
          ],
          "name": "stdout"
        }
      ]
    },
    {
      "cell_type": "code",
      "metadata": {
        "colab": {
          "base_uri": "https://localhost:8080/"
        },
        "id": "clbChelO93Ln",
        "outputId": "bb7273cf-d19b-443e-9618-f7804ff7652c"
      },
      "source": [
        "# ĐẾM SỐ DÒNG CỦA CÁC FILE CSV\n",
        "!wc -l < wecode.csv\n",
        "!wc -l < score_training.csv"
      ],
      "execution_count": null,
      "outputs": [
        {
          "output_type": "stream",
          "text": [
            "264607\n",
            "976\n"
          ],
          "name": "stdout"
        }
      ]
    },
    {
      "cell_type": "markdown",
      "metadata": {
        "id": "CKYkZFydjXg9"
      },
      "source": [
        "#**2. Tiền xử lý file csv**"
      ]
    },
    {
      "cell_type": "markdown",
      "metadata": {
        "id": "1rIZ9UA9iwE2"
      },
      "source": [
        "##**2.1. File score_traning.csv**"
      ]
    },
    {
      "cell_type": "code",
      "metadata": {
        "id": "Mg5ARXC-IDHn"
      },
      "source": [
        "# IMPORT CÁC THƯ VIỆN CẦN THIẾT\n",
        "import pandas as pd\n",
        "import matplotlib.pyplot as plt\n",
        "import math"
      ],
      "execution_count": null,
      "outputs": []
    },
    {
      "cell_type": "code",
      "metadata": {
        "colab": {
          "base_uri": "https://localhost:8080/",
          "height": 669
        },
        "id": "WBPH8N8lw6B2",
        "outputId": "d26dc300-0474-4e3b-c5be-811380ef26f7"
      },
      "source": [
        "# VIEW 20 DÒNG ĐẦU CỦA FILE score_training.csv\n",
        "score = pd.read_csv('/content/score_training.csv')\n",
        "score.head(20)"
      ],
      "execution_count": null,
      "outputs": [
        {
          "output_type": "execute_result",
          "data": {
            "text/html": [
              "<div>\n",
              "<style scoped>\n",
              "    .dataframe tbody tr th:only-of-type {\n",
              "        vertical-align: middle;\n",
              "    }\n",
              "\n",
              "    .dataframe tbody tr th {\n",
              "        vertical-align: top;\n",
              "    }\n",
              "\n",
              "    .dataframe thead th {\n",
              "        text-align: right;\n",
              "    }\n",
              "</style>\n",
              "<table border=\"1\" class=\"dataframe\">\n",
              "  <thead>\n",
              "    <tr style=\"text-align: right;\">\n",
              "      <th></th>\n",
              "      <th>id</th>\n",
              "      <th>QT</th>\n",
              "      <th>GK</th>\n",
              "      <th>TH</th>\n",
              "      <th>CK</th>\n",
              "      <th>TBM</th>\n",
              "      <th>TBTL</th>\n",
              "    </tr>\n",
              "  </thead>\n",
              "  <tbody>\n",
              "    <tr>\n",
              "      <th>0</th>\n",
              "      <td>22</td>\n",
              "      <td>10</td>\n",
              "      <td>9</td>\n",
              "      <td>8.5</td>\n",
              "      <td>8.5</td>\n",
              "      <td>8.8</td>\n",
              "      <td>8.52</td>\n",
              "    </tr>\n",
              "    <tr>\n",
              "      <th>1</th>\n",
              "      <td>24</td>\n",
              "      <td>10</td>\n",
              "      <td>8</td>\n",
              "      <td>10</td>\n",
              "      <td>9.5</td>\n",
              "      <td>9.4</td>\n",
              "      <td>8.41</td>\n",
              "    </tr>\n",
              "    <tr>\n",
              "      <th>2</th>\n",
              "      <td>27</td>\n",
              "      <td>10</td>\n",
              "      <td>10</td>\n",
              "      <td>10</td>\n",
              "      <td>10</td>\n",
              "      <td>10</td>\n",
              "      <td>8.67</td>\n",
              "    </tr>\n",
              "    <tr>\n",
              "      <th>3</th>\n",
              "      <td>28</td>\n",
              "      <td>10</td>\n",
              "      <td>9.5</td>\n",
              "      <td>7.5</td>\n",
              "      <td>9.5</td>\n",
              "      <td>9.2</td>\n",
              "      <td>7.39</td>\n",
              "    </tr>\n",
              "    <tr>\n",
              "      <th>4</th>\n",
              "      <td>29</td>\n",
              "      <td>10</td>\n",
              "      <td>9.5</td>\n",
              "      <td>5</td>\n",
              "      <td>8.5</td>\n",
              "      <td>8.2</td>\n",
              "      <td>8.05</td>\n",
              "    </tr>\n",
              "    <tr>\n",
              "      <th>5</th>\n",
              "      <td>30</td>\n",
              "      <td>10</td>\n",
              "      <td>10</td>\n",
              "      <td>9</td>\n",
              "      <td>9</td>\n",
              "      <td>9.3</td>\n",
              "      <td>8.63</td>\n",
              "    </tr>\n",
              "    <tr>\n",
              "      <th>6</th>\n",
              "      <td>34</td>\n",
              "      <td></td>\n",
              "      <td></td>\n",
              "      <td>9</td>\n",
              "      <td>6.5</td>\n",
              "      <td></td>\n",
              "      <td>6.24</td>\n",
              "    </tr>\n",
              "    <tr>\n",
              "      <th>7</th>\n",
              "      <td>35</td>\n",
              "      <td>7</td>\n",
              "      <td>9.5</td>\n",
              "      <td>6</td>\n",
              "      <td>4.5</td>\n",
              "      <td>6.2</td>\n",
              "      <td>5.75</td>\n",
              "    </tr>\n",
              "    <tr>\n",
              "      <th>8</th>\n",
              "      <td>36</td>\n",
              "      <td>4.5</td>\n",
              "      <td>8</td>\n",
              "      <td>9</td>\n",
              "      <td>7</td>\n",
              "      <td>7.6</td>\n",
              "      <td>8.51</td>\n",
              "    </tr>\n",
              "    <tr>\n",
              "      <th>9</th>\n",
              "      <td>37</td>\n",
              "      <td>5.5</td>\n",
              "      <td>5.5</td>\n",
              "      <td>7.5</td>\n",
              "      <td>7.5</td>\n",
              "      <td>6.9</td>\n",
              "      <td>8.27</td>\n",
              "    </tr>\n",
              "    <tr>\n",
              "      <th>10</th>\n",
              "      <td>40</td>\n",
              "      <td>10</td>\n",
              "      <td>7</td>\n",
              "      <td>10</td>\n",
              "      <td>8</td>\n",
              "      <td>8.6</td>\n",
              "      <td>8.54</td>\n",
              "    </tr>\n",
              "    <tr>\n",
              "      <th>11</th>\n",
              "      <td>41</td>\n",
              "      <td></td>\n",
              "      <td></td>\n",
              "      <td>6.5</td>\n",
              "      <td>8</td>\n",
              "      <td></td>\n",
              "      <td>6.33</td>\n",
              "    </tr>\n",
              "    <tr>\n",
              "      <th>12</th>\n",
              "      <td>42</td>\n",
              "      <td>7.5</td>\n",
              "      <td>10</td>\n",
              "      <td>9</td>\n",
              "      <td>7.5</td>\n",
              "      <td>8.5</td>\n",
              "      <td>8.72</td>\n",
              "    </tr>\n",
              "    <tr>\n",
              "      <th>13</th>\n",
              "      <td>43</td>\n",
              "      <td>10</td>\n",
              "      <td>8.5</td>\n",
              "      <td>7</td>\n",
              "      <td>6</td>\n",
              "      <td>7.2</td>\n",
              "      <td>7.97</td>\n",
              "    </tr>\n",
              "    <tr>\n",
              "      <th>14</th>\n",
              "      <td>44</td>\n",
              "      <td>3</td>\n",
              "      <td>7.5</td>\n",
              "      <td>7.5</td>\n",
              "      <td>5</td>\n",
              "      <td>6.1</td>\n",
              "      <td>7.17</td>\n",
              "    </tr>\n",
              "    <tr>\n",
              "      <th>15</th>\n",
              "      <td>45</td>\n",
              "      <td></td>\n",
              "      <td></td>\n",
              "      <td>7</td>\n",
              "      <td>7.5</td>\n",
              "      <td></td>\n",
              "      <td>5.45</td>\n",
              "    </tr>\n",
              "    <tr>\n",
              "      <th>16</th>\n",
              "      <td>47</td>\n",
              "      <td></td>\n",
              "      <td></td>\n",
              "      <td>8.5</td>\n",
              "      <td>4</td>\n",
              "      <td></td>\n",
              "      <td>6.69</td>\n",
              "    </tr>\n",
              "    <tr>\n",
              "      <th>17</th>\n",
              "      <td>48</td>\n",
              "      <td></td>\n",
              "      <td></td>\n",
              "      <td>5.5</td>\n",
              "      <td>3</td>\n",
              "      <td></td>\n",
              "      <td>4.25</td>\n",
              "    </tr>\n",
              "    <tr>\n",
              "      <th>18</th>\n",
              "      <td>49</td>\n",
              "      <td>4.5</td>\n",
              "      <td>4</td>\n",
              "      <td>8</td>\n",
              "      <td>5.5</td>\n",
              "      <td>5.9</td>\n",
              "      <td>6.74</td>\n",
              "    </tr>\n",
              "    <tr>\n",
              "      <th>19</th>\n",
              "      <td>51</td>\n",
              "      <td>NaN</td>\n",
              "      <td>NaN</td>\n",
              "      <td>NaN</td>\n",
              "      <td>NaN</td>\n",
              "      <td>NaN</td>\n",
              "      <td>NaN</td>\n",
              "    </tr>\n",
              "  </tbody>\n",
              "</table>\n",
              "</div>"
            ],
            "text/plain": [
              "    id   QT   GK   TH   CK  TBM  TBTL\n",
              "0   22   10    9  8.5  8.5  8.8  8.52\n",
              "1   24   10    8   10  9.5  9.4  8.41\n",
              "2   27   10   10   10   10   10  8.67\n",
              "3   28   10  9.5  7.5  9.5  9.2  7.39\n",
              "4   29   10  9.5    5  8.5  8.2  8.05\n",
              "5   30   10   10    9    9  9.3  8.63\n",
              "6   34              9  6.5       6.24\n",
              "7   35    7  9.5    6  4.5  6.2  5.75\n",
              "8   36  4.5    8    9    7  7.6  8.51\n",
              "9   37  5.5  5.5  7.5  7.5  6.9  8.27\n",
              "10  40   10    7   10    8  8.6  8.54\n",
              "11  41            6.5    8       6.33\n",
              "12  42  7.5   10    9  7.5  8.5  8.72\n",
              "13  43   10  8.5    7    6  7.2  7.97\n",
              "14  44    3  7.5  7.5    5  6.1  7.17\n",
              "15  45              7  7.5       5.45\n",
              "16  47            8.5    4       6.69\n",
              "17  48            5.5    3       4.25\n",
              "18  49  4.5    4    8  5.5  5.9  6.74\n",
              "19  51  NaN  NaN  NaN  NaN  NaN   NaN"
            ]
          },
          "metadata": {
            "tags": []
          },
          "execution_count": 5
        }
      ]
    },
    {
      "cell_type": "code",
      "metadata": {
        "colab": {
          "base_uri": "https://localhost:8080/"
        },
        "id": "kLl3kGpaSKYM",
        "outputId": "77fed1b2-26da-45bd-a455-acff3524773a"
      },
      "source": [
        "# ĐẾM SỐ LƯỢNG DỮ LIỆU MÀ HÀNG CK BỊ THIẾU\n",
        "score = pd.read_csv('/content/score_training.csv').values\n",
        "data = score[:, 4].reshape(-1, 1)\n",
        "\n",
        "i = 0\n",
        "sum = 0\n",
        "while i < len(data):\n",
        "  if data[i] == '\\xa0' or math.isnan(data[i]):\n",
        "    # print(i + 1)\n",
        "    sum += 1\n",
        "  i += 1\n",
        "print(f\"Mat {sum} tren tong so {len(data)} diem du lieu, chiem: {(sum / len(data) * 100):.4f}%\")"
      ],
      "execution_count": null,
      "outputs": [
        {
          "output_type": "stream",
          "text": [
            "Mat 55 tren tong so 975 diem du lieu, chiem: 5.6410%\n"
          ],
          "name": "stdout"
        }
      ]
    },
    {
      "cell_type": "code",
      "metadata": {
        "id": "I9IL3NURalm2"
      },
      "source": [
        "# XÓA DÒNG 21 DO NÓ KHÔNG CÓ DỮ LIỆU\n",
        "!sed -i '21d' score_training.csv\n",
        "\n",
        "# THAY TẤT CẢ CÁC KHOẢNG TRẮNG BẰNG NULL\n",
        "!sed -i 's/ /NULL/g' score_training.csv\n",
        "\n",
        "# THAY CÁC GIÁ TRỊ NAN CÒN LẠI THÀNH NULL\n",
        "!sed -i 's/,,/,NULL,/g' score_training.csv"
      ],
      "execution_count": null,
      "outputs": []
    },
    {
      "cell_type": "markdown",
      "metadata": {
        "id": "nu3LbsA-jTeS"
      },
      "source": [
        "##**2.2. File wecode.csv**"
      ]
    },
    {
      "cell_type": "code",
      "metadata": {
        "colab": {
          "base_uri": "https://localhost:8080/",
          "height": 359
        },
        "id": "8jnUoEZhb7Gw",
        "outputId": "872735fc-9017-4d52-f844-2813f36c6d9c"
      },
      "source": [
        "# VIEW FILE wecode.csv\n",
        "wecode = pd.read_csv('/content/wecode.csv')\n",
        "wecode.head(10)"
      ],
      "execution_count": null,
      "outputs": [
        {
          "output_type": "execute_result",
          "data": {
            "text/html": [
              "<div>\n",
              "<style scoped>\n",
              "    .dataframe tbody tr th:only-of-type {\n",
              "        vertical-align: middle;\n",
              "    }\n",
              "\n",
              "    .dataframe tbody tr th {\n",
              "        vertical-align: top;\n",
              "    }\n",
              "\n",
              "    .dataframe thead th {\n",
              "        text-align: right;\n",
              "    }\n",
              "</style>\n",
              "<table border=\"1\" class=\"dataframe\">\n",
              "  <thead>\n",
              "    <tr style=\"text-align: right;\">\n",
              "      <th></th>\n",
              "      <th>id</th>\n",
              "      <th>assignment_id</th>\n",
              "      <th>problem_id</th>\n",
              "      <th>user_id</th>\n",
              "      <th>is_final</th>\n",
              "      <th>status</th>\n",
              "      <th>pre_score</th>\n",
              "      <th>coefficient</th>\n",
              "      <th>file_name</th>\n",
              "      <th>language_id</th>\n",
              "      <th>created_at</th>\n",
              "      <th>updated_at</th>\n",
              "    </tr>\n",
              "  </thead>\n",
              "  <tbody>\n",
              "    <tr>\n",
              "      <th>0</th>\n",
              "      <td>4</td>\n",
              "      <td>0</td>\n",
              "      <td>3</td>\n",
              "      <td>4</td>\n",
              "      <td>1</td>\n",
              "      <td>SCORE</td>\n",
              "      <td>10000</td>\n",
              "      <td>100</td>\n",
              "      <td>solution-0</td>\n",
              "      <td>2</td>\n",
              "      <td>2020-10-30 10:58:11</td>\n",
              "      <td>2020-10-30 10:58:19</td>\n",
              "    </tr>\n",
              "    <tr>\n",
              "      <th>1</th>\n",
              "      <td>5</td>\n",
              "      <td>0</td>\n",
              "      <td>4</td>\n",
              "      <td>4</td>\n",
              "      <td>1</td>\n",
              "      <td>SCORE</td>\n",
              "      <td>10000</td>\n",
              "      <td>100</td>\n",
              "      <td>solution-1</td>\n",
              "      <td>2</td>\n",
              "      <td>2020-10-30 11:07:09</td>\n",
              "      <td>2020-10-30 11:07:17</td>\n",
              "    </tr>\n",
              "    <tr>\n",
              "      <th>2</th>\n",
              "      <td>6</td>\n",
              "      <td>0</td>\n",
              "      <td>5</td>\n",
              "      <td>4</td>\n",
              "      <td>0</td>\n",
              "      <td>Compilation Error</td>\n",
              "      <td>0</td>\n",
              "      <td>100</td>\n",
              "      <td>solution-2</td>\n",
              "      <td>2</td>\n",
              "      <td>2020-10-30 11:08:01</td>\n",
              "      <td>2020-10-30 11:23:36</td>\n",
              "    </tr>\n",
              "    <tr>\n",
              "      <th>3</th>\n",
              "      <td>7</td>\n",
              "      <td>0</td>\n",
              "      <td>5</td>\n",
              "      <td>4</td>\n",
              "      <td>0</td>\n",
              "      <td>Compilation Error</td>\n",
              "      <td>0</td>\n",
              "      <td>100</td>\n",
              "      <td>solution-3</td>\n",
              "      <td>2</td>\n",
              "      <td>2020-10-30 11:11:41</td>\n",
              "      <td>2020-10-30 11:11:42</td>\n",
              "    </tr>\n",
              "    <tr>\n",
              "      <th>4</th>\n",
              "      <td>8</td>\n",
              "      <td>0</td>\n",
              "      <td>5</td>\n",
              "      <td>4</td>\n",
              "      <td>0</td>\n",
              "      <td>Compilation Error</td>\n",
              "      <td>0</td>\n",
              "      <td>100</td>\n",
              "      <td>solution-4</td>\n",
              "      <td>2</td>\n",
              "      <td>2020-10-30 11:15:06</td>\n",
              "      <td>2020-10-30 11:15:07</td>\n",
              "    </tr>\n",
              "    <tr>\n",
              "      <th>5</th>\n",
              "      <td>9</td>\n",
              "      <td>0</td>\n",
              "      <td>5</td>\n",
              "      <td>4</td>\n",
              "      <td>0</td>\n",
              "      <td>Compilation Error</td>\n",
              "      <td>0</td>\n",
              "      <td>100</td>\n",
              "      <td>solution-5</td>\n",
              "      <td>2</td>\n",
              "      <td>2020-10-30 11:16:57</td>\n",
              "      <td>2020-10-30 11:16:58</td>\n",
              "    </tr>\n",
              "    <tr>\n",
              "      <th>6</th>\n",
              "      <td>10</td>\n",
              "      <td>0</td>\n",
              "      <td>6</td>\n",
              "      <td>4</td>\n",
              "      <td>1</td>\n",
              "      <td>SCORE</td>\n",
              "      <td>10000</td>\n",
              "      <td>100</td>\n",
              "      <td>solution-6</td>\n",
              "      <td>2</td>\n",
              "      <td>2020-10-30 11:18:47</td>\n",
              "      <td>2020-10-30 11:18:55</td>\n",
              "    </tr>\n",
              "    <tr>\n",
              "      <th>7</th>\n",
              "      <td>11</td>\n",
              "      <td>0</td>\n",
              "      <td>7</td>\n",
              "      <td>4</td>\n",
              "      <td>1</td>\n",
              "      <td>SCORE</td>\n",
              "      <td>10000</td>\n",
              "      <td>100</td>\n",
              "      <td>solution-7</td>\n",
              "      <td>2</td>\n",
              "      <td>2020-10-30 11:20:07</td>\n",
              "      <td>2020-10-30 11:20:15</td>\n",
              "    </tr>\n",
              "    <tr>\n",
              "      <th>8</th>\n",
              "      <td>12</td>\n",
              "      <td>0</td>\n",
              "      <td>8</td>\n",
              "      <td>4</td>\n",
              "      <td>1</td>\n",
              "      <td>SCORE</td>\n",
              "      <td>10000</td>\n",
              "      <td>100</td>\n",
              "      <td>solution-8</td>\n",
              "      <td>2</td>\n",
              "      <td>2020-10-30 11:21:02</td>\n",
              "      <td>2020-10-30 11:21:10</td>\n",
              "    </tr>\n",
              "    <tr>\n",
              "      <th>9</th>\n",
              "      <td>13</td>\n",
              "      <td>0</td>\n",
              "      <td>9</td>\n",
              "      <td>4</td>\n",
              "      <td>1</td>\n",
              "      <td>SCORE</td>\n",
              "      <td>10000</td>\n",
              "      <td>100</td>\n",
              "      <td>solution-9</td>\n",
              "      <td>2</td>\n",
              "      <td>2020-10-30 11:21:36</td>\n",
              "      <td>2020-10-30 11:21:44</td>\n",
              "    </tr>\n",
              "  </tbody>\n",
              "</table>\n",
              "</div>"
            ],
            "text/plain": [
              "   id  assignment_id  ...           created_at           updated_at\n",
              "0   4              0  ...  2020-10-30 10:58:11  2020-10-30 10:58:19\n",
              "1   5              0  ...  2020-10-30 11:07:09  2020-10-30 11:07:17\n",
              "2   6              0  ...  2020-10-30 11:08:01  2020-10-30 11:23:36\n",
              "3   7              0  ...  2020-10-30 11:11:41  2020-10-30 11:11:42\n",
              "4   8              0  ...  2020-10-30 11:15:06  2020-10-30 11:15:07\n",
              "5   9              0  ...  2020-10-30 11:16:57  2020-10-30 11:16:58\n",
              "6  10              0  ...  2020-10-30 11:18:47  2020-10-30 11:18:55\n",
              "7  11              0  ...  2020-10-30 11:20:07  2020-10-30 11:20:15\n",
              "8  12              0  ...  2020-10-30 11:21:02  2020-10-30 11:21:10\n",
              "9  13              0  ...  2020-10-30 11:21:36  2020-10-30 11:21:44\n",
              "\n",
              "[10 rows x 12 columns]"
            ]
          },
          "metadata": {
            "tags": []
          },
          "execution_count": 8
        }
      ]
    },
    {
      "cell_type": "markdown",
      "metadata": {
        "id": "L4z2V2X4etwX"
      },
      "source": [
        "#**3. Tạo file sql dùng cho việc tạo database**"
      ]
    },
    {
      "cell_type": "code",
      "metadata": {
        "colab": {
          "base_uri": "https://localhost:8080/"
        },
        "id": "Z4-f6CsKYWOO",
        "outputId": "cfe92307-42c0-43fe-80c4-93fa508272a2"
      },
      "source": [
        "# TẠO FILE Create_Database.sql VÀ GHI NỘI DUNG SAU VÀO FILE ĐÓ.\n",
        "%%writefile Create_Database.sql\n",
        "\n",
        "-- # Bảng WECODE lưu dự liệu của file wecode.csv.\n",
        "CREATE TABLE WECODE (\n",
        "    id INTEGER PRIMARY KEY, \n",
        "    assignment_id INTEGER,\n",
        "    problem_id INTEGER,\n",
        "    user_id INTEGER,\n",
        "    is_final INTEGER,\n",
        "    status TEXT,\n",
        "    pre_score INTEGER,\n",
        "    coefficient INTEGER,\n",
        "    file_name TEXT,\n",
        "    language_id INTEGER,\n",
        "    created_at TEXT,\n",
        "    updated_at TEXT\n",
        "    );\n",
        "\n",
        "-- # Bảng SCORE lưu dữ liệu của file score_training.csv.\n",
        "CREATE TABLE SCORE (\n",
        "    id INTEGER PRIMARY KEY,\n",
        "    QT FLOAT,\n",
        "    GK FLOAT,\n",
        "    TH FLOAT,\n",
        "    CK FLOAT,\n",
        "    TBM FLOAT,\n",
        "    TBTL FLOAT\n",
        "    );"
      ],
      "execution_count": null,
      "outputs": [
        {
          "output_type": "stream",
          "text": [
            "Writing Create_Database.sql\n"
          ],
          "name": "stdout"
        }
      ]
    },
    {
      "cell_type": "code",
      "metadata": {
        "colab": {
          "base_uri": "https://localhost:8080/"
        },
        "id": "uGTn5A-H3MEG",
        "outputId": "6142d652-0e2a-46f1-d36e-baa7df4968d3"
      },
      "source": [
        "# CODE NÀY DÙNG ĐỂ TẠO CÁC CÂU TRUY VẦN DÙNG CHO VIỆC TẠO DATABASE, CÁC CÂU TRUY VẤN NÀY ĐƯỢC GHI TIẾP (KHÔNG GHI ĐÈ) VÀO FILE Create_Database.sql\n",
        "\n",
        "%%writefile Create_sql_files.cpp\n",
        "#include <fstream>  // std::ofstream, std::ifstream\n",
        "#include <string>   // std::string, getline\n",
        "\n",
        "void make_sql_file(const std::string& input_file_path, int&& num_lines, const char* table_name) {\n",
        "    std::ofstream ofs;\n",
        "    std::ifstream ifs;\n",
        "    ofs.open(\"Create_Database.sql\", std::ios::app);\n",
        "    ifs.open(input_file_path);\n",
        "    std::string data;\n",
        "\n",
        "    // # bỏ qua dòng đầu tiên trong input file\n",
        "    getline(ifs, data);\n",
        "\n",
        "    int mod_lines = num_lines % 1000;\n",
        "    num_lines -= mod_lines;\n",
        "\n",
        "    // # Lặp cho đến khi số dòng còn lại của input file ít hơn 1000\n",
        "    for (int i = 0; i < num_lines; ++i) {\n",
        "        // # INSERT INTO \"table_name\" VALUES (\"data\"), ...;\n",
        "        ofs << \"\\nINSERT INTO \" << table_name <<\" VALUES \";\n",
        "        // # Một dòng insert sẽ có 1000 record\n",
        "        int LIMIT = i + 999;\n",
        "        while (i xor LIMIT) {\n",
        "            getline(ifs, data);\n",
        "            ofs << \"(\" << data << \"), \";\n",
        "            ++i;\n",
        "        }\n",
        "        getline(ifs, data);\n",
        "        ofs << \"(\" << data << \");\";\n",
        "    }\n",
        "\n",
        "    // # Điền tất cả số hàng còn lại trong input file vào 1 hàng insert\n",
        "    if (mod_lines) {\n",
        "        // # INSERT INTO \"table_name\" VALUES (\"data\"), ...;\n",
        "        ofs << \"\\nINSERT INTO \" << table_name <<\" VALUES \";\n",
        "        for (int i = 1; i < mod_lines; ++i) {\n",
        "            getline(ifs, data);\n",
        "            ofs << \"(\" << data << \"), \";\n",
        "        }\n",
        "        getline(ifs, data);\n",
        "        ofs << \"(\" << data << \");\\n\";\n",
        "    }\n",
        "    ifs.close();\n",
        "    ofs.close();\n",
        "}\n",
        "\n",
        "int main(int argc, char **argv)\n",
        "{\n",
        "    // # Viết lệnh sql cho bảng WECODE\n",
        "    make_sql_file(\"wecode.csv\", int(std::stoi(argv[1]) - 1), \"WECODE\");\n",
        "    // # Viết lệnh sql cho bảng SCORE\n",
        "    make_sql_file(\"score_training.csv\", int(std::stoi(argv[2]) - 1), \"SCORE\");\n",
        "    return 0;\n",
        "}"
      ],
      "execution_count": null,
      "outputs": [
        {
          "output_type": "stream",
          "text": [
            "Writing Create_sql_files.cpp\n"
          ],
          "name": "stdout"
        }
      ]
    },
    {
      "cell_type": "code",
      "metadata": {
        "id": "Og0kFGYW5B8D"
      },
      "source": [
        "# BUILD Create_sql_files.cpp, RUN\n",
        "!g++ Create_sql_files.cpp -o Create_sql_files && ./Create_sql_files `wc -l < wecode.csv` `wc -l < score_training.csv`\n",
        "\n",
        "# XÓA FILE THỰC THI\n",
        "!rm -f Create_sql_files"
      ],
      "execution_count": null,
      "outputs": []
    },
    {
      "cell_type": "code",
      "metadata": {
        "colab": {
          "base_uri": "https://localhost:8080/"
        },
        "id": "OVlcwYO3S2Zn",
        "outputId": "869ce711-c8fb-4de5-da91-19ab379a8891"
      },
      "source": [
        "# TẠO DATABASE\n",
        "!rm -f database.db\n",
        "!sqlite3 database.db < ./Create_Database.sql\n",
        "\n",
        "# # ĐẾM SỐ LƯỢNG RECORD CÓ TRONG TABLE SCORE ĐÓ\n",
        "!sqlite3 database.db \"SELECT COUNT(*) FROM SCORE;\"\n",
        "\n",
        "# ĐẾM SỐ LƯỢNG RECORD CÓ TRONG TABLE WECODE ĐÓ\n",
        "!sqlite3 database.db \"SELECT COUNT(*) FROM WECODE;\""
      ],
      "execution_count": null,
      "outputs": [
        {
          "output_type": "stream",
          "text": [
            "974\n",
            "264606\n"
          ],
          "name": "stdout"
        }
      ]
    },
    {
      "cell_type": "markdown",
      "metadata": {
        "id": "QZ0taZUBjKpb"
      },
      "source": [
        "#**4. Trích xuất các thông tin cần thiết từ database**"
      ]
    },
    {
      "cell_type": "markdown",
      "metadata": {
        "id": "zGNaiUmH5dW2"
      },
      "source": [
        "##**4.1. Tiền truy vấn để xác định sơ lược số recordrecord**"
      ]
    },
    {
      "cell_type": "code",
      "metadata": {
        "id": "E0ynEVvShKuM"
      },
      "source": [
        "# ĐỔI pre_score THÀNH ĐƠN VỊ %\n",
        "!sqlite3 database.db \"UPDATE WECODE SET pre_score = pre_score / 100;\""
      ],
      "execution_count": null,
      "outputs": []
    },
    {
      "cell_type": "code",
      "metadata": {
        "colab": {
          "base_uri": "https://localhost:8080/"
        },
        "id": "3JkgzOwqS5UN",
        "outputId": "36f50f99-9459-4432-ffac-0010450f173b"
      },
      "source": [
        "%%writefile query.sql\n",
        "-- # 1159 user_id\n",
        "SELECT COUNT(DISTINCT user_id) FROM WECODE;\n",
        "\n",
        "-- # 974 user_id\n",
        "SELECT COUNT(DISTINCT id) FROM SCORE;"
      ],
      "execution_count": null,
      "outputs": [
        {
          "output_type": "stream",
          "text": [
            "Writing query.sql\n"
          ],
          "name": "stdout"
        }
      ]
    },
    {
      "cell_type": "code",
      "metadata": {
        "colab": {
          "base_uri": "https://localhost:8080/"
        },
        "id": "0Usnt2hQUAay",
        "outputId": "17945971-41fd-4ab8-9e08-a33bf4a753b7"
      },
      "source": [
        "!sqlite3 database.db <./query.sql"
      ],
      "execution_count": null,
      "outputs": [
        {
          "output_type": "stream",
          "text": [
            "1159\n",
            "974\n"
          ],
          "name": "stdout"
        }
      ]
    },
    {
      "cell_type": "markdown",
      "metadata": {
        "id": "c2fb_Yrf5vb-"
      },
      "source": [
        "##**4.2. Tạo bảng NUM_PROBLEMS để lưu số  problem mà các user đã làm (hoàn thành lẫn không hoàn thành)**"
      ]
    },
    {
      "cell_type": "code",
      "metadata": {
        "colab": {
          "base_uri": "https://localhost:8080/"
        },
        "id": "zBFDNnl2TOGP",
        "outputId": "103d2877-285a-44c2-f6a3-5086c1a87e7d"
      },
      "source": [
        "%%writefile query.sql\n",
        "-- # Dem so problem_id ma cac user da lam\n",
        "-- DROP TABLE NUM_PROBLEMS;\n",
        "\n",
        "CREATE TABLE NUM_PROBLEMS (\n",
        "    user_id PRIMARY KEY,\n",
        "    num_problems INTEGER NOT NULL\n",
        ");\n",
        "\n",
        "INSERT INTO NUM_PROBLEMS\n",
        "    SELECT user_id, COUNT(DISTINCT problem_id) as num_problems\n",
        "    FROM WECODE\n",
        "    GROUP BY user_id"
      ],
      "execution_count": null,
      "outputs": [
        {
          "output_type": "stream",
          "text": [
            "Overwriting query.sql\n"
          ],
          "name": "stdout"
        }
      ]
    },
    {
      "cell_type": "code",
      "metadata": {
        "id": "IlB5eGLsUA2Y"
      },
      "source": [
        "!sqlite3 database.db <./query.sql"
      ],
      "execution_count": null,
      "outputs": []
    },
    {
      "cell_type": "markdown",
      "metadata": {
        "id": "ev0ua4EM6HHt"
      },
      "source": [
        "##**4.3. Tạo bảng NUM_TRUE_PROBLEMS để lưu số problem mà user đã làm đúng**"
      ]
    },
    {
      "cell_type": "code",
      "metadata": {
        "colab": {
          "base_uri": "https://localhost:8080/"
        },
        "id": "QIndbklRTERU",
        "outputId": "c252881d-265f-451f-8b73-5c6c3c8c53f6"
      },
      "source": [
        "%%writefile query.sql\n",
        "-- # Dem so problem_id ma cac user lam dung\n",
        "-- DROP TABLE  NUM_TRUE_PROBLEMS;\n",
        "\n",
        "CREATE TABLE NUM_TRUE_PROBLEMS (\n",
        "    user_id PRIMARY KEY,\n",
        "    num_true_problems INTEGER NOT NULL\n",
        ");\n",
        "\n",
        "INSERT INTO NUM_TRUE_PROBLEMS\n",
        "    SELECT USER_ID_TABLE.user_id, IFNULL(num_true_problems, 0)\n",
        "    FROM (\n",
        "        SELECT DISTINCT user_id\n",
        "        FROM WECODE\n",
        "    ) AS USER_ID_TABLE\n",
        "    LEFT JOIN (\n",
        "        SELECT user_id, COUNT(DISTINCT problem_id) as num_true_problems\n",
        "        FROM WECODE\n",
        "        WHERE pre_score >= 100\n",
        "        GROUP BY user_id\n",
        "    ) AS TRUE_PROBLEMS_TABLE\n",
        "    ON USER_ID_TABLE.user_id = TRUE_PROBLEMS_TABLE.user_id"
      ],
      "execution_count": null,
      "outputs": [
        {
          "output_type": "stream",
          "text": [
            "Overwriting query.sql\n"
          ],
          "name": "stdout"
        }
      ]
    },
    {
      "cell_type": "code",
      "metadata": {
        "id": "I-gyXRGxUBJu"
      },
      "source": [
        "!sqlite3 database.db <./query.sql"
      ],
      "execution_count": null,
      "outputs": []
    },
    {
      "cell_type": "markdown",
      "metadata": {
        "id": "epoKjhj_6ZCV"
      },
      "source": [
        "##**4.4. Tạo bảng NUM_SUBMITIONS để lưu số lần submit của từng user**"
      ]
    },
    {
      "cell_type": "code",
      "metadata": {
        "colab": {
          "base_uri": "https://localhost:8080/"
        },
        "id": "2uOw20RFradG",
        "outputId": "8fa8fe79-98ae-4309-b379-b9d34eda190b"
      },
      "source": [
        "%%writefile query.sql\n",
        "-- # Dem so lan submit cua cac user\n",
        "-- DROP TABLE NUM_SUBMITIONS;\n",
        "\n",
        "CREATE TABLE NUM_SUBMITIONS (\n",
        "    user_id PRIMARY KEY,\n",
        "    num_submitions INTEGER NOT NULL\n",
        ");\n",
        "\n",
        "INSERT INTO NUM_SUBMITIONS\n",
        "    SELECT user_id, COUNT(problem_id) as num_submitions\n",
        "    FROM WECODE\n",
        "    GROUP BY user_id"
      ],
      "execution_count": null,
      "outputs": [
        {
          "output_type": "stream",
          "text": [
            "Overwriting query.sql\n"
          ],
          "name": "stdout"
        }
      ]
    },
    {
      "cell_type": "code",
      "metadata": {
        "id": "Gf8g4HTaUBjw"
      },
      "source": [
        "!sqlite3 database.db <./query.sql"
      ],
      "execution_count": null,
      "outputs": []
    },
    {
      "cell_type": "markdown",
      "metadata": {
        "id": "doBHuqEY6wBl"
      },
      "source": [
        "##**4.5. Tạo bảng TRAINING_TABLE để gộp thông tin của 3 bảng trên lại để tạo thành 1 bảng chứa dữ liệu train**"
      ]
    },
    {
      "cell_type": "code",
      "metadata": {
        "colab": {
          "base_uri": "https://localhost:8080/"
        },
        "id": "nsZrUuk8avzN",
        "outputId": "95ec3f8b-22bd-4f61-8eac-73eb1cede4c4"
      },
      "source": [
        "%%writefile query.sql\n",
        "-- DROP TABLE TRAINING_TABLE;\n",
        "\n",
        "-- # Bảng TRAINING_TABLE lưu các dữ liệu cần cho việc huấn luyện mô hình.\n",
        "-- # Dữ liệu của bảng này được lấy từ 2 bảng WECODE và SCORE.\n",
        "CREATE TABLE TRAINING_TABLE (\n",
        "    user_id INTEGER PRIMARY KEY,\n",
        "    num_problems INTEGER NOT NULL,\n",
        "    num_submitions INTEGER NOT NULL,\n",
        "    num_true_problems INTEGER NOT NULL,\n",
        "    CK FLOAT NOT NULL\n",
        ");\n",
        "\n",
        "INSERT INTO TRAINING_TABLE\n",
        "    SELECT NUM_PROBLEMS.user_id as user_id,   --# user_id\n",
        "        num_problems,                         --# num_problems\n",
        "        num_submitions,                       --# num_submitions\n",
        "        num_true_problems,                    --# num_true_problems\n",
        "        CK                                    --# CK\n",
        "      \n",
        "    FROM NUM_PROBLEMS, NUM_TRUE_PROBLEMS, NUM_SUBMITIONS, SCORE\n",
        "\n",
        "    WHERE (NUM_PROBLEMS.user_id = NUM_TRUE_PROBLEMS.user_id)\n",
        "          and (NUM_PROBLEMS.user_id = NUM_SUBMITIONS.user_id)\n",
        "          and (NUM_PROBLEMS.user_id = SCORE.id) and (SCORE.CK IS NOT NULL)"
      ],
      "execution_count": null,
      "outputs": [
        {
          "output_type": "stream",
          "text": [
            "Overwriting query.sql\n"
          ],
          "name": "stdout"
        }
      ]
    },
    {
      "cell_type": "code",
      "metadata": {
        "id": "6YDZMC1j2gD-"
      },
      "source": [
        "!sqlite3 database.db <./query.sql"
      ],
      "execution_count": null,
      "outputs": []
    },
    {
      "cell_type": "markdown",
      "metadata": {
        "id": "OTw-5AvV7EV_"
      },
      "source": [
        "##**4.6. Kiểm tra lại kết quả sau khi gộp bảng**"
      ]
    },
    {
      "cell_type": "code",
      "metadata": {
        "colab": {
          "base_uri": "https://localhost:8080/"
        },
        "id": "XcJR8yN2BqJ0",
        "outputId": "d88ce680-8b0e-455f-ca57-84a7a20de0cc"
      },
      "source": [
        "!sqlite3 database.db \"select COUNT(DISTINCT user_id) from WECODE, SCORE WHERE (SCORE.id = user_id) and (CK IS NOT NULL)\"\n",
        "!sqlite3 database.db \"SELECT COUNT(*) FROM TRAINING_TABLE\""
      ],
      "execution_count": null,
      "outputs": [
        {
          "output_type": "stream",
          "text": [
            "806\n",
            "806\n"
          ],
          "name": "stdout"
        }
      ]
    },
    {
      "cell_type": "code",
      "metadata": {
        "colab": {
          "base_uri": "https://localhost:8080/"
        },
        "id": "0RDkIuqOOLFk",
        "outputId": "8d7805a7-e365-4bed-fab5-95bab2f29746"
      },
      "source": [
        "%%writefile query.sql\n",
        "--# Truy vấn các record còn thiếu trong bảng TRAINING_TABLE\n",
        "SELECT DISTINCT WECODE.user_id\n",
        "FROM WECODE, SCORE, TRAINING_TABLE\n",
        "WHERE (SCORE.id = WECODE.user_id)\n",
        "      and (SCORE.CK IS NOT NULL)\n",
        "      and WECODE.user_id NOT IN (\n",
        "          SELECT user_id FROM TRAINING_TABLE\n",
        "      )"
      ],
      "execution_count": null,
      "outputs": [
        {
          "output_type": "stream",
          "text": [
            "Overwriting query.sql\n"
          ],
          "name": "stdout"
        }
      ]
    },
    {
      "cell_type": "code",
      "metadata": {
        "id": "ds6bv4F5OwxC"
      },
      "source": [
        "!sqlite3 database.db <./query.sql"
      ],
      "execution_count": null,
      "outputs": []
    },
    {
      "cell_type": "markdown",
      "metadata": {
        "id": "zKiifAVe7MgR"
      },
      "source": [
        "##**4.7. Lưu bảng TRAINING_TABLE thành file csv**"
      ]
    },
    {
      "cell_type": "code",
      "metadata": {
        "id": "20ia5jEf30BY"
      },
      "source": [
        "!sqlite3 -header -csv database.db \"SELECT * FROM TRAINING_TABLE\" > training_data.csv"
      ],
      "execution_count": null,
      "outputs": []
    },
    {
      "cell_type": "markdown",
      "metadata": {
        "id": "lyjKvAx_tsuv"
      },
      "source": [
        "#**5. Vẽ tương quan tỉ lệ**"
      ]
    },
    {
      "cell_type": "code",
      "metadata": {
        "id": "rlZzi9Khre4x"
      },
      "source": [
        "prob_dung = pd.read_csv(\"training_data.csv\", usecols=['num_true_problems']).values\n",
        "prob = pd.read_csv(\"training_data.csv\", usecols=['num_problems']).values\n",
        "submitions = pd.read_csv(\"training_data.csv\", usecols=['num_submitions']).values\n",
        "CK = pd.read_csv(\"training_data.csv\", usecols=['CK']).values\n",
        "W = 20\n",
        "H = 8"
      ],
      "execution_count": null,
      "outputs": []
    },
    {
      "cell_type": "code",
      "metadata": {
        "colab": {
          "base_uri": "https://localhost:8080/",
          "height": 500
        },
        "id": "BdvxzZqesMO6",
        "outputId": "6e2e41f9-e666-4bf4-8e73-c409c6af2ef5"
      },
      "source": [
        "# 1) Tổng số problem đã solved (is_final = 1 && pre_score=10000) / Tổng số problem có submit\n",
        "X = []\n",
        "i = 0;\n",
        "while i < len(prob):\n",
        "  X.append(prob_dung[i] / prob[i])\n",
        "  i += 1\n",
        "\n",
        "Y = CK\n",
        "plt.figure(figsize=(W, H))\n",
        "plt.scatter(X, Y)\n",
        "# plt.plot(X, Y)\n",
        "plt.show"
      ],
      "execution_count": null,
      "outputs": [
        {
          "output_type": "execute_result",
          "data": {
            "text/plain": [
              "<function matplotlib.pyplot.show>"
            ]
          },
          "metadata": {
            "tags": []
          },
          "execution_count": 41
        },
        {
          "output_type": "display_data",
          "data": {
            "image/png": "[encoded data removed]",
            "text/plain": [
              "<Figure size 1440x576 with 1 Axes>"
            ]
          },
          "metadata": {
            "tags": [],
            "needs_background": "light"
          }
        }
      ]
    },
    {
      "cell_type": "code",
      "metadata": {
        "colab": {
          "base_uri": "https://localhost:8080/",
          "height": 500
        },
        "id": "vxB_zjiFtXQd",
        "outputId": "77f0003e-7d63-4992-f246-9b28a665d182"
      },
      "source": [
        "# 2) Tổng số problem đã sumbit / Tổng số submissions \n",
        "X = []\n",
        "i = 0;\n",
        "while i < len(prob):\n",
        "  X.append(prob[i] / submitions[i])\n",
        "  i += 1\n",
        "\n",
        "Y = CK\n",
        "plt.figure(figsize=(W, H))\n",
        "plt.scatter(X, Y)\n",
        "# plt.plot(X, Y)\n",
        "plt.show"
      ],
      "execution_count": null,
      "outputs": [
        {
          "output_type": "execute_result",
          "data": {
            "text/plain": [
              "<function matplotlib.pyplot.show>"
            ]
          },
          "metadata": {
            "tags": []
          },
          "execution_count": 42
        },
        {
          "output_type": "display_data",
          "data": {
            "image/png": "[encoded data removed]",
            "text/plain": [
              "<Figure size 1440x576 with 1 Axes>"
            ]
          },
          "metadata": {
            "tags": [],
            "needs_background": "light"
          }
        }
      ]
    },
    {
      "cell_type": "code",
      "metadata": {
        "colab": {
          "base_uri": "https://localhost:8080/",
          "height": 500
        },
        "id": "o8TUH-rwtYip",
        "outputId": "67abc660-5dc6-4df1-873d-0c654353a1a2"
      },
      "source": [
        "# 3) Số lần submit đúng (pre_score=10000) / tổng số submissions \n",
        "X = []\n",
        "i = 0;\n",
        "while i < len(prob):\n",
        "  X.append(prob_dung[i] / submitions[i])\n",
        "  i += 1\n",
        "\n",
        "Y = CK\n",
        "plt.figure(figsize=(W, H))\n",
        "plt.scatter(X, Y)\n",
        "# plt.plot(X, Y)\n",
        "plt.show"
      ],
      "execution_count": null,
      "outputs": [
        {
          "output_type": "execute_result",
          "data": {
            "text/plain": [
              "<function matplotlib.pyplot.show>"
            ]
          },
          "metadata": {
            "tags": []
          },
          "execution_count": 43
        },
        {
          "output_type": "display_data",
          "data": {
            "image/png": "[encoded data removed]",
            "text/plain": [
              "<Figure size 1440x576 with 1 Axes>"
            ]
          },
          "metadata": {
            "tags": [],
            "needs_background": "light"
          }
        }
      ]
    },
    {
      "cell_type": "code",
      "metadata": {
        "colab": {
          "base_uri": "https://localhost:8080/",
          "height": 513
        },
        "id": "xua5ZO4_tZWp",
        "outputId": "c0bf3163-a201-4887-adb3-b4cbdfacfe2f"
      },
      "source": [
        "# 4) Tổng pre_score của các submssion có is_final = 1 \n",
        "X = []\n",
        "i = 0;\n",
        "while i < len(prob):\n",
        "  X.append(prob_dung[i] * 10000)\n",
        "  i += 1\n",
        "\n",
        "Y = CK\n",
        "plt.figure(figsize=(W, H))\n",
        "plt.scatter(X, Y)\n",
        "# plt.plot(X, Y)\n",
        "plt.show"
      ],
      "execution_count": null,
      "outputs": [
        {
          "output_type": "execute_result",
          "data": {
            "text/plain": [
              "<function matplotlib.pyplot.show>"
            ]
          },
          "metadata": {
            "tags": []
          },
          "execution_count": 44
        },
        {
          "output_type": "display_data",
          "data": {
            "image/png": "[encoded data removed]",
            "text/plain": [
              "<Figure size 1440x576 with 1 Axes>"
            ]
          },
          "metadata": {
            "tags": [],
            "needs_background": "light"
          }
        }
      ]
    }
  ]
}