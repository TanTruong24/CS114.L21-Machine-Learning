{
  "nbformat": 4,
  "nbformat_minor": 0,
  "metadata": {
    "colab": {
      "name": "24052021_predic-score-Huong2.ipynb",
      "provenance": [],
      "collapsed_sections": [],
      "toc_visible": true,
      "authorship_tag": "ABX9TyM/571FQMw1TOg3R1FNn0j1",
      "include_colab_link": true
    },
    "kernelspec": {
      "name": "python3",
      "display_name": "Python 3"
    },
    "language_info": {
      "name": "python"
    }
  },
  "cells": [
    {
      "cell_type": "markdown",
      "metadata": {
        "id": "view-in-github",
        "colab_type": "text"
      },
      "source": [
        "<a href=\"https://colab.research.google.com/github/TanTruong24/CS114.L21-Machine-Learning/blob/main/Predict_score/24052021_predic_score_Huong2.ipynb\" target=\"_parent\"><img src=\"https://colab.research.google.com/assets/colab-badge.svg\" alt=\"Open In Colab\"/></a>"
      ]
    },
    {
      "cell_type": "markdown",
      "metadata": {
        "id": "9tem9B21YUki"
      },
      "source": [
        "<center> <h1> <b> CS114.L21: MACHINE LEARNING <center> <h1> <b>\n",
        "\n",
        "<center> <h2> <b> BÀI TẬP COLAB SỐ 03: DỰ ĐOÁN ĐIỂM CUỐI KỲ TẬP DỮ LIỆU WECODE (Ngày 17/5/2021) <center> <h> <b>"
      ]
    },
    {
      "cell_type": "markdown",
      "metadata": {
        "id": "3Y_GmeyIYkdu"
      },
      "source": [
        "###**1. Nhóm thực hiện**\n",
        "\n",
        "* 19522246 - Vũ Nguyễn Nhật Thanh\n",
        "* 19522180 - Trương Thế Tấn\n",
        "* 19521551 - Nông Thanh Hồng"
      ]
    },
    {
      "cell_type": "code",
      "metadata": {
        "id": "DSgPKI-wJ6P5",
        "colab": {
          "base_uri": "https://localhost:8080/"
        },
        "outputId": "1960be3d-58f7-41cd-e626-7e8531d4a1c1"
      },
      "source": [
        "# DOWLOAD WECODE.CSV AND SCORE_TRAIN.CSV\n",
        "!gdown --id 1Oxicp0c_Z37N2OmZ7CxEQBepE7Wnz8Sc\n",
        "!gdown --id 1eNiHRT4FMBDjCk9q3FCnd3oydgS1taOW"
      ],
      "execution_count": null,
      "outputs": [
        {
          "output_type": "stream",
          "text": [
            "Downloading...\n",
            "From: https://drive.google.com/uc?id=1Oxicp0c_Z37N2OmZ7CxEQBepE7Wnz8Sc\n",
            "To: /content/score_training.csv\n",
            "100% 23.9k/23.9k [00:00<00:00, 19.3MB/s]\n",
            "Downloading...\n",
            "From: https://drive.google.com/uc?id=1eNiHRT4FMBDjCk9q3FCnd3oydgS1taOW\n",
            "To: /content/wecode.csv\n",
            "30.8MB [00:00, 143MB/s]\n"
          ],
          "name": "stdout"
        }
      ]
    },
    {
      "cell_type": "markdown",
      "metadata": {
        "id": "a2CVZ9OxYp02"
      },
      "source": [
        "#**I. Tham khảo**\n",
        "\n",
        "1. [Read specific column from CSV](https://www.kite.com/python/answers/how-to-read-specific-column-from-csv-file-in-python)\n",
        "2. [pandas.DataFrame.sort_values](https://pandas.pydata.org/docs/reference/api/pandas.DataFrame.sort_values.html)\n",
        "3. [Drop rows from the dataframe based on certain condition applied on a column](https://www.geeksforgeeks.org/drop-rows-from-the-dataframe-based-on-certain-condition-applied-on-a-column/)\n",
        "4. [Merge two csv files by specific column using Pandas](https://www.geeksforgeeks.org/how-to-merge-two-csv-files-by-specific-column-using-pandas-in-python/)\n",
        "5. [Find empty or NaN entry in Pandas Dataframe](https://stackoverflow.com/questions/27159189/find-empty-or-nan-entry-in-pandas-dataframe)\n",
        "6. [Visualization data](https://pandas.pydata.org/pandas-docs/stable/user_guide/visualization.html)\n"
      ]
    },
    {
      "cell_type": "markdown",
      "metadata": {
        "id": "lzL5pSkZY43q"
      },
      "source": [
        "#**II. Xử lý data**"
      ]
    },
    {
      "cell_type": "markdown",
      "metadata": {
        "id": "Nhz30jiwZBD9"
      },
      "source": [
        "##**1. Thư viện cần thiết**"
      ]
    },
    {
      "cell_type": "code",
      "metadata": {
        "id": "VzsNHvZEFqCv"
      },
      "source": [
        "# importing panda library\n",
        "import pandas as pd\n",
        "from pandas import DataFrame\n",
        "\n",
        "#  importing Matplotlib’s Pyplot module\n",
        "import matplotlib.pyplot as plt\n",
        "\n",
        "# importing numpy library\n",
        "import numpy as np\n",
        "\n",
        "from sklearn import linear_model\n",
        "from sklearn.metrics import mean_squared_error\n",
        "from sklearn.model_selection import train_test_split"
      ],
      "execution_count": null,
      "outputs": []
    },
    {
      "cell_type": "markdown",
      "metadata": {
        "id": "VqEKM3p0lKF9"
      },
      "source": [
        "##**2. Xử lý file wecode.csv**"
      ]
    },
    {
      "cell_type": "markdown",
      "metadata": {
        "id": "ulyWUSzEZWaL"
      },
      "source": [
        "- Từ file wecode.csv nhóm quyết định lấy ra 5 cột là: **assignment_id,\tproblem_id,\tuser_id,\tis_final,\tpre_score**"
      ]
    },
    {
      "cell_type": "code",
      "metadata": {
        "id": "1U8buOQ9Ft_-",
        "colab": {
          "base_uri": "https://localhost:8080/",
          "height": 419
        },
        "outputId": "ec1249f4-92ba-43de-a942-e1004b2647c7"
      },
      "source": [
        "#https://www.kite.com/python/answers/how-to-read-specific-column-from-csv-file-in-python\n",
        "df = pd.read_csv('/content/wecode.csv', usecols = ['assignment_id','problem_id','user_id','is_final',\t'pre_score'])\n",
        "df\n",
        "\n"
      ],
      "execution_count": null,
      "outputs": [
        {
          "output_type": "execute_result",
          "data": {
            "text/html": [
              "<div>\n",
              "<style scoped>\n",
              "    .dataframe tbody tr th:only-of-type {\n",
              "        vertical-align: middle;\n",
              "    }\n",
              "\n",
              "    .dataframe tbody tr th {\n",
              "        vertical-align: top;\n",
              "    }\n",
              "\n",
              "    .dataframe thead th {\n",
              "        text-align: right;\n",
              "    }\n",
              "</style>\n",
              "<table border=\"1\" class=\"dataframe\">\n",
              "  <thead>\n",
              "    <tr style=\"text-align: right;\">\n",
              "      <th></th>\n",
              "      <th>assignment_id</th>\n",
              "      <th>problem_id</th>\n",
              "      <th>user_id</th>\n",
              "      <th>is_final</th>\n",
              "      <th>pre_score</th>\n",
              "    </tr>\n",
              "  </thead>\n",
              "  <tbody>\n",
              "    <tr>\n",
              "      <th>0</th>\n",
              "      <td>0</td>\n",
              "      <td>3</td>\n",
              "      <td>4</td>\n",
              "      <td>1</td>\n",
              "      <td>10000</td>\n",
              "    </tr>\n",
              "    <tr>\n",
              "      <th>1</th>\n",
              "      <td>0</td>\n",
              "      <td>4</td>\n",
              "      <td>4</td>\n",
              "      <td>1</td>\n",
              "      <td>10000</td>\n",
              "    </tr>\n",
              "    <tr>\n",
              "      <th>2</th>\n",
              "      <td>0</td>\n",
              "      <td>5</td>\n",
              "      <td>4</td>\n",
              "      <td>0</td>\n",
              "      <td>0</td>\n",
              "    </tr>\n",
              "    <tr>\n",
              "      <th>3</th>\n",
              "      <td>0</td>\n",
              "      <td>5</td>\n",
              "      <td>4</td>\n",
              "      <td>0</td>\n",
              "      <td>0</td>\n",
              "    </tr>\n",
              "    <tr>\n",
              "      <th>4</th>\n",
              "      <td>0</td>\n",
              "      <td>5</td>\n",
              "      <td>4</td>\n",
              "      <td>0</td>\n",
              "      <td>0</td>\n",
              "    </tr>\n",
              "    <tr>\n",
              "      <th>...</th>\n",
              "      <td>...</td>\n",
              "      <td>...</td>\n",
              "      <td>...</td>\n",
              "      <td>...</td>\n",
              "      <td>...</td>\n",
              "    </tr>\n",
              "    <tr>\n",
              "      <th>264601</th>\n",
              "      <td>0</td>\n",
              "      <td>25</td>\n",
              "      <td>1796</td>\n",
              "      <td>0</td>\n",
              "      <td>0</td>\n",
              "    </tr>\n",
              "    <tr>\n",
              "      <th>264602</th>\n",
              "      <td>0</td>\n",
              "      <td>25</td>\n",
              "      <td>1796</td>\n",
              "      <td>0</td>\n",
              "      <td>0</td>\n",
              "    </tr>\n",
              "    <tr>\n",
              "      <th>264603</th>\n",
              "      <td>0</td>\n",
              "      <td>25</td>\n",
              "      <td>1796</td>\n",
              "      <td>1</td>\n",
              "      <td>10000</td>\n",
              "    </tr>\n",
              "    <tr>\n",
              "      <th>264604</th>\n",
              "      <td>0</td>\n",
              "      <td>150</td>\n",
              "      <td>255</td>\n",
              "      <td>1</td>\n",
              "      <td>6250</td>\n",
              "    </tr>\n",
              "    <tr>\n",
              "      <th>264605</th>\n",
              "      <td>21</td>\n",
              "      <td>24</td>\n",
              "      <td>1568</td>\n",
              "      <td>0</td>\n",
              "      <td>10000</td>\n",
              "    </tr>\n",
              "  </tbody>\n",
              "</table>\n",
              "<p>264606 rows × 5 columns</p>\n",
              "</div>"
            ],
            "text/plain": [
              "        assignment_id  problem_id  user_id  is_final  pre_score\n",
              "0                   0           3        4         1      10000\n",
              "1                   0           4        4         1      10000\n",
              "2                   0           5        4         0          0\n",
              "3                   0           5        4         0          0\n",
              "4                   0           5        4         0          0\n",
              "...               ...         ...      ...       ...        ...\n",
              "264601              0          25     1796         0          0\n",
              "264602              0          25     1796         0          0\n",
              "264603              0          25     1796         1      10000\n",
              "264604              0         150      255         1       6250\n",
              "264605             21          24     1568         0      10000\n",
              "\n",
              "[264606 rows x 5 columns]"
            ]
          },
          "metadata": {
            "tags": []
          },
          "execution_count": 105
        }
      ]
    },
    {
      "cell_type": "markdown",
      "metadata": {
        "id": "uf16kAtvZkJz"
      },
      "source": [
        "- Sau khi lấy ra 5 cột như trên. để dễ quan sát thì tụi em sort lại theo user_id từ bé đến lớn và sắp xếp lại các cột"
      ]
    },
    {
      "cell_type": "code",
      "metadata": {
        "id": "K2VR5C3Gz6w6",
        "colab": {
          "base_uri": "https://localhost:8080/",
          "height": 204
        },
        "outputId": "0b838a80-98f1-4308-a9f3-8baeb85b0e03"
      },
      "source": [
        "# sorting dựa vào user_id\n",
        "#https://pandas.pydata.org/docs/reference/api/pandas.DataFrame.sort_values.html\n",
        "\n",
        "df_wecode = df.sort_values(\n",
        "    by=[\"user_id\", \"assignment_id\",\"problem_id\", \"is_final\",'pre_score']\n",
        "    )[[\"user_id\", \"assignment_id\",\"problem_id\", \"is_final\",\t'pre_score']]\n",
        "df_wecode.head()\n",
        "\n"
      ],
      "execution_count": null,
      "outputs": [
        {
          "output_type": "execute_result",
          "data": {
            "text/html": [
              "<div>\n",
              "<style scoped>\n",
              "    .dataframe tbody tr th:only-of-type {\n",
              "        vertical-align: middle;\n",
              "    }\n",
              "\n",
              "    .dataframe tbody tr th {\n",
              "        vertical-align: top;\n",
              "    }\n",
              "\n",
              "    .dataframe thead th {\n",
              "        text-align: right;\n",
              "    }\n",
              "</style>\n",
              "<table border=\"1\" class=\"dataframe\">\n",
              "  <thead>\n",
              "    <tr style=\"text-align: right;\">\n",
              "      <th></th>\n",
              "      <th>user_id</th>\n",
              "      <th>assignment_id</th>\n",
              "      <th>problem_id</th>\n",
              "      <th>is_final</th>\n",
              "      <th>pre_score</th>\n",
              "    </tr>\n",
              "  </thead>\n",
              "  <tbody>\n",
              "    <tr>\n",
              "      <th>13940</th>\n",
              "      <td>1</td>\n",
              "      <td>0</td>\n",
              "      <td>81</td>\n",
              "      <td>1</td>\n",
              "      <td>0</td>\n",
              "    </tr>\n",
              "    <tr>\n",
              "      <th>84860</th>\n",
              "      <td>1</td>\n",
              "      <td>0</td>\n",
              "      <td>370</td>\n",
              "      <td>1</td>\n",
              "      <td>10000</td>\n",
              "    </tr>\n",
              "    <tr>\n",
              "      <th>0</th>\n",
              "      <td>4</td>\n",
              "      <td>0</td>\n",
              "      <td>3</td>\n",
              "      <td>1</td>\n",
              "      <td>10000</td>\n",
              "    </tr>\n",
              "    <tr>\n",
              "      <th>1</th>\n",
              "      <td>4</td>\n",
              "      <td>0</td>\n",
              "      <td>4</td>\n",
              "      <td>1</td>\n",
              "      <td>10000</td>\n",
              "    </tr>\n",
              "    <tr>\n",
              "      <th>2</th>\n",
              "      <td>4</td>\n",
              "      <td>0</td>\n",
              "      <td>5</td>\n",
              "      <td>0</td>\n",
              "      <td>0</td>\n",
              "    </tr>\n",
              "  </tbody>\n",
              "</table>\n",
              "</div>"
            ],
            "text/plain": [
              "       user_id  assignment_id  problem_id  is_final  pre_score\n",
              "13940        1              0          81         1          0\n",
              "84860        1              0         370         1      10000\n",
              "0            4              0           3         1      10000\n",
              "1            4              0           4         1      10000\n",
              "2            4              0           5         0          0"
            ]
          },
          "metadata": {
            "tags": []
          },
          "execution_count": 106
        }
      ]
    },
    {
      "cell_type": "markdown",
      "metadata": {
        "id": "FlbWYhJLZzAL"
      },
      "source": [
        "- Sau khi sắp xếp xong, tụi em thực hiện đếm các giá trị. Mỗi giá trị đếm sẽ được thêm vào một bảng riêng và cuối cùng sẽ merge các bảng lại với nhau. Ở đây có 4 bảng là:\n",
        "  1. ***total_submit:*** đếm số lần submit của mỗi user_id, tính cả lần submit đúng và sai (is_final = 0 hoặc 1)\n",
        "  2. ***submit_final***: Đếm số lần mà user_id submit thành công cuối cùng (is_final = 1).\n",
        "  3. ***total_score***: tính tổng số điểm của mỗi user_id. "
      ]
    },
    {
      "cell_type": "code",
      "metadata": {
        "colab": {
          "base_uri": "https://localhost:8080/",
          "height": 204
        },
        "id": "4qYi9sms0wDZ",
        "outputId": "7b08c164-72d0-4791-9eba-f67c9c85d5bb"
      },
      "source": [
        "# Đếm số lần submit mà mỗi user_id đã làm \n",
        "total_submit = df_wecode[df_wecode['pre_score'] >= 0].groupby('user_id')['user_id'].count().reset_index(name='num_of_submit')\n",
        "\n",
        "total_submit.head()"
      ],
      "execution_count": null,
      "outputs": [
        {
          "output_type": "execute_result",
          "data": {
            "text/html": [
              "<div>\n",
              "<style scoped>\n",
              "    .dataframe tbody tr th:only-of-type {\n",
              "        vertical-align: middle;\n",
              "    }\n",
              "\n",
              "    .dataframe tbody tr th {\n",
              "        vertical-align: top;\n",
              "    }\n",
              "\n",
              "    .dataframe thead th {\n",
              "        text-align: right;\n",
              "    }\n",
              "</style>\n",
              "<table border=\"1\" class=\"dataframe\">\n",
              "  <thead>\n",
              "    <tr style=\"text-align: right;\">\n",
              "      <th></th>\n",
              "      <th>user_id</th>\n",
              "      <th>num_of_submit</th>\n",
              "    </tr>\n",
              "  </thead>\n",
              "  <tbody>\n",
              "    <tr>\n",
              "      <th>0</th>\n",
              "      <td>1</td>\n",
              "      <td>2</td>\n",
              "    </tr>\n",
              "    <tr>\n",
              "      <th>1</th>\n",
              "      <td>4</td>\n",
              "      <td>54</td>\n",
              "    </tr>\n",
              "    <tr>\n",
              "      <th>2</th>\n",
              "      <td>5</td>\n",
              "      <td>6</td>\n",
              "    </tr>\n",
              "    <tr>\n",
              "      <th>3</th>\n",
              "      <td>6</td>\n",
              "      <td>130</td>\n",
              "    </tr>\n",
              "    <tr>\n",
              "      <th>4</th>\n",
              "      <td>7</td>\n",
              "      <td>5</td>\n",
              "    </tr>\n",
              "  </tbody>\n",
              "</table>\n",
              "</div>"
            ],
            "text/plain": [
              "   user_id  num_of_submit\n",
              "0        1              2\n",
              "1        4             54\n",
              "2        5              6\n",
              "3        6            130\n",
              "4        7              5"
            ]
          },
          "metadata": {
            "tags": []
          },
          "execution_count": 107
        }
      ]
    },
    {
      "cell_type": "code",
      "metadata": {
        "colab": {
          "base_uri": "https://localhost:8080/",
          "height": 204
        },
        "id": "2I8l-Ewb0wRh",
        "outputId": "6ff7c0fa-6939-469d-840c-59ec7762dd60"
      },
      "source": [
        "# Đếm số lần submit cuối cùng (is_final = 1) mà mỗi user_id đã làm \n",
        "submit_final = df_wecode[df_wecode['is_final'] == 1].groupby('user_id')['is_final'].count().reset_index(name='submit_final')\n",
        "\n",
        "submit_final.head()"
      ],
      "execution_count": null,
      "outputs": [
        {
          "output_type": "execute_result",
          "data": {
            "text/html": [
              "<div>\n",
              "<style scoped>\n",
              "    .dataframe tbody tr th:only-of-type {\n",
              "        vertical-align: middle;\n",
              "    }\n",
              "\n",
              "    .dataframe tbody tr th {\n",
              "        vertical-align: top;\n",
              "    }\n",
              "\n",
              "    .dataframe thead th {\n",
              "        text-align: right;\n",
              "    }\n",
              "</style>\n",
              "<table border=\"1\" class=\"dataframe\">\n",
              "  <thead>\n",
              "    <tr style=\"text-align: right;\">\n",
              "      <th></th>\n",
              "      <th>user_id</th>\n",
              "      <th>submit_final</th>\n",
              "    </tr>\n",
              "  </thead>\n",
              "  <tbody>\n",
              "    <tr>\n",
              "      <th>0</th>\n",
              "      <td>1</td>\n",
              "      <td>2</td>\n",
              "    </tr>\n",
              "    <tr>\n",
              "      <th>1</th>\n",
              "      <td>4</td>\n",
              "      <td>38</td>\n",
              "    </tr>\n",
              "    <tr>\n",
              "      <th>2</th>\n",
              "      <td>5</td>\n",
              "      <td>5</td>\n",
              "    </tr>\n",
              "    <tr>\n",
              "      <th>3</th>\n",
              "      <td>6</td>\n",
              "      <td>88</td>\n",
              "    </tr>\n",
              "    <tr>\n",
              "      <th>4</th>\n",
              "      <td>7</td>\n",
              "      <td>2</td>\n",
              "    </tr>\n",
              "  </tbody>\n",
              "</table>\n",
              "</div>"
            ],
            "text/plain": [
              "   user_id  submit_final\n",
              "0        1             2\n",
              "1        4            38\n",
              "2        5             5\n",
              "3        6            88\n",
              "4        7             2"
            ]
          },
          "metadata": {
            "tags": []
          },
          "execution_count": 108
        }
      ]
    },
    {
      "cell_type": "code",
      "metadata": {
        "colab": {
          "base_uri": "https://localhost:8080/",
          "height": 204
        },
        "id": "33sjr7OR0wdI",
        "outputId": "8d417100-9600-4498-de56-336749368fd4"
      },
      "source": [
        "# tổng số điểm mà mỗi user_id đã làm \n",
        "total_score = df_wecode[df_wecode['pre_score'] > 0].groupby('user_id')['pre_score'].sum().reset_index(name='total_score')\n",
        "\n",
        "total_score.head()"
      ],
      "execution_count": null,
      "outputs": [
        {
          "output_type": "execute_result",
          "data": {
            "text/html": [
              "<div>\n",
              "<style scoped>\n",
              "    .dataframe tbody tr th:only-of-type {\n",
              "        vertical-align: middle;\n",
              "    }\n",
              "\n",
              "    .dataframe tbody tr th {\n",
              "        vertical-align: top;\n",
              "    }\n",
              "\n",
              "    .dataframe thead th {\n",
              "        text-align: right;\n",
              "    }\n",
              "</style>\n",
              "<table border=\"1\" class=\"dataframe\">\n",
              "  <thead>\n",
              "    <tr style=\"text-align: right;\">\n",
              "      <th></th>\n",
              "      <th>user_id</th>\n",
              "      <th>total_score</th>\n",
              "    </tr>\n",
              "  </thead>\n",
              "  <tbody>\n",
              "    <tr>\n",
              "      <th>0</th>\n",
              "      <td>1</td>\n",
              "      <td>10000</td>\n",
              "    </tr>\n",
              "    <tr>\n",
              "      <th>1</th>\n",
              "      <td>4</td>\n",
              "      <td>466000</td>\n",
              "    </tr>\n",
              "    <tr>\n",
              "      <th>2</th>\n",
              "      <td>5</td>\n",
              "      <td>30000</td>\n",
              "    </tr>\n",
              "    <tr>\n",
              "      <th>3</th>\n",
              "      <td>6</td>\n",
              "      <td>965637</td>\n",
              "    </tr>\n",
              "    <tr>\n",
              "      <th>4</th>\n",
              "      <td>7</td>\n",
              "      <td>18843</td>\n",
              "    </tr>\n",
              "  </tbody>\n",
              "</table>\n",
              "</div>"
            ],
            "text/plain": [
              "   user_id  total_score\n",
              "0        1        10000\n",
              "1        4       466000\n",
              "2        5        30000\n",
              "3        6       965637\n",
              "4        7        18843"
            ]
          },
          "metadata": {
            "tags": []
          },
          "execution_count": 109
        }
      ]
    },
    {
      "cell_type": "markdown",
      "metadata": {
        "id": "o2CdH9qQa2JJ"
      },
      "source": [
        "- merge tất cả các bảng trên thành một bảng duy nhất là **df_wecode**"
      ]
    },
    {
      "cell_type": "code",
      "metadata": {
        "colab": {
          "base_uri": "https://localhost:8080/",
          "height": 419
        },
        "id": "sgMr2KtELYwa",
        "outputId": "4a0cc5ff-2744-42af-88a7-4829f60a1df4"
      },
      "source": [
        "#merge total_problem vs total_submit vs submit_final\n",
        "#https://www.geeksforgeeks.org/how-to-merge-two-csv-files-by-specific-column-using-pandas-in-python/\n",
        "\n",
        "merge1 = pd.merge(total_problem, total_submit,\n",
        "                   on='user_id', \n",
        "                   how='inner')\n",
        "  \n",
        "merge2 = pd.merge(merge1, submit_final,\n",
        "                   on='user_id', \n",
        "                   how='inner')\n",
        "merge_wecode = pd.merge(merge2, total_score,\n",
        "                        on='user_id', \n",
        "                        how='inner')\n",
        "\n",
        "# displaying result\n",
        "merge_wecode"
      ],
      "execution_count": null,
      "outputs": [
        {
          "output_type": "execute_result",
          "data": {
            "text/html": [
              "<div>\n",
              "<style scoped>\n",
              "    .dataframe tbody tr th:only-of-type {\n",
              "        vertical-align: middle;\n",
              "    }\n",
              "\n",
              "    .dataframe tbody tr th {\n",
              "        vertical-align: top;\n",
              "    }\n",
              "\n",
              "    .dataframe thead th {\n",
              "        text-align: right;\n",
              "    }\n",
              "</style>\n",
              "<table border=\"1\" class=\"dataframe\">\n",
              "  <thead>\n",
              "    <tr style=\"text-align: right;\">\n",
              "      <th></th>\n",
              "      <th>user_id</th>\n",
              "      <th>num_of_problem</th>\n",
              "      <th>num_of_submit</th>\n",
              "      <th>submit_final</th>\n",
              "      <th>total_score</th>\n",
              "    </tr>\n",
              "  </thead>\n",
              "  <tbody>\n",
              "    <tr>\n",
              "      <th>0</th>\n",
              "      <td>1</td>\n",
              "      <td>2</td>\n",
              "      <td>2</td>\n",
              "      <td>2</td>\n",
              "      <td>10000</td>\n",
              "    </tr>\n",
              "    <tr>\n",
              "      <th>1</th>\n",
              "      <td>4</td>\n",
              "      <td>54</td>\n",
              "      <td>54</td>\n",
              "      <td>38</td>\n",
              "      <td>466000</td>\n",
              "    </tr>\n",
              "    <tr>\n",
              "      <th>2</th>\n",
              "      <td>5</td>\n",
              "      <td>6</td>\n",
              "      <td>6</td>\n",
              "      <td>5</td>\n",
              "      <td>30000</td>\n",
              "    </tr>\n",
              "    <tr>\n",
              "      <th>3</th>\n",
              "      <td>6</td>\n",
              "      <td>130</td>\n",
              "      <td>130</td>\n",
              "      <td>88</td>\n",
              "      <td>965637</td>\n",
              "    </tr>\n",
              "    <tr>\n",
              "      <th>4</th>\n",
              "      <td>7</td>\n",
              "      <td>5</td>\n",
              "      <td>5</td>\n",
              "      <td>2</td>\n",
              "      <td>18843</td>\n",
              "    </tr>\n",
              "    <tr>\n",
              "      <th>...</th>\n",
              "      <td>...</td>\n",
              "      <td>...</td>\n",
              "      <td>...</td>\n",
              "      <td>...</td>\n",
              "      <td>...</td>\n",
              "    </tr>\n",
              "    <tr>\n",
              "      <th>1139</th>\n",
              "      <td>1860</td>\n",
              "      <td>76</td>\n",
              "      <td>76</td>\n",
              "      <td>48</td>\n",
              "      <td>405440</td>\n",
              "    </tr>\n",
              "    <tr>\n",
              "      <th>1140</th>\n",
              "      <td>1862</td>\n",
              "      <td>12</td>\n",
              "      <td>12</td>\n",
              "      <td>6</td>\n",
              "      <td>40000</td>\n",
              "    </tr>\n",
              "    <tr>\n",
              "      <th>1141</th>\n",
              "      <td>1864</td>\n",
              "      <td>187</td>\n",
              "      <td>187</td>\n",
              "      <td>63</td>\n",
              "      <td>563292</td>\n",
              "    </tr>\n",
              "    <tr>\n",
              "      <th>1142</th>\n",
              "      <td>1865</td>\n",
              "      <td>99</td>\n",
              "      <td>99</td>\n",
              "      <td>17</td>\n",
              "      <td>189460</td>\n",
              "    </tr>\n",
              "    <tr>\n",
              "      <th>1143</th>\n",
              "      <td>1868</td>\n",
              "      <td>47</td>\n",
              "      <td>47</td>\n",
              "      <td>27</td>\n",
              "      <td>390000</td>\n",
              "    </tr>\n",
              "  </tbody>\n",
              "</table>\n",
              "<p>1144 rows × 5 columns</p>\n",
              "</div>"
            ],
            "text/plain": [
              "      user_id  num_of_problem  num_of_submit  submit_final  total_score\n",
              "0           1               2              2             2        10000\n",
              "1           4              54             54            38       466000\n",
              "2           5               6              6             5        30000\n",
              "3           6             130            130            88       965637\n",
              "4           7               5              5             2        18843\n",
              "...       ...             ...            ...           ...          ...\n",
              "1139     1860              76             76            48       405440\n",
              "1140     1862              12             12             6        40000\n",
              "1141     1864             187            187            63       563292\n",
              "1142     1865              99             99            17       189460\n",
              "1143     1868              47             47            27       390000\n",
              "\n",
              "[1144 rows x 5 columns]"
            ]
          },
          "metadata": {
            "tags": []
          },
          "execution_count": 110
        }
      ]
    },
    {
      "cell_type": "markdown",
      "metadata": {
        "id": "F3yy5ymgvrLN"
      },
      "source": [
        "## **3. Xử lý file score_training.csv**"
      ]
    },
    {
      "cell_type": "markdown",
      "metadata": {
        "id": "eiVC2L9gbWIs"
      },
      "source": [
        "- file score_training.csv chỉ lấy 2 cột là **id** *(user_id trong wecode.csv)* và **CK**"
      ]
    },
    {
      "cell_type": "code",
      "metadata": {
        "colab": {
          "base_uri": "https://localhost:8080/"
        },
        "id": "yLnSunMTpX-8",
        "outputId": "54fe470a-96e3-40e6-a739-da6868542543"
      },
      "source": [
        "df_score = pd.read_csv('/content/score_training.csv', usecols = ['id', 'CK'])\n",
        "\n",
        "#https://pandas.pydata.org/pandas-docs/stable/reference/api/pandas.DataFrame.rename.html\n",
        "# đổi tên cột id thành user_id để đồng bộ với file wecoe.csv\n",
        "df_score = df_score.rename(columns = {'id': 'user_id'})\n",
        "\n",
        "df_score"
      ],
      "execution_count": null,
      "outputs": [
        {
          "output_type": "execute_result",
          "data": {
            "text/html": [
              "<div>\n",
              "<style scoped>\n",
              "    .dataframe tbody tr th:only-of-type {\n",
              "        vertical-align: middle;\n",
              "    }\n",
              "\n",
              "    .dataframe tbody tr th {\n",
              "        vertical-align: top;\n",
              "    }\n",
              "\n",
              "    .dataframe thead th {\n",
              "        text-align: right;\n",
              "    }\n",
              "</style>\n",
              "<table border=\"1\" class=\"dataframe\">\n",
              "  <thead>\n",
              "    <tr style=\"text-align: right;\">\n",
              "      <th></th>\n",
              "      <th>user_id</th>\n",
              "      <th>CK</th>\n",
              "    </tr>\n",
              "  </thead>\n",
              "  <tbody>\n",
              "    <tr>\n",
              "      <th>0</th>\n",
              "      <td>22</td>\n",
              "      <td>8.5</td>\n",
              "    </tr>\n",
              "    <tr>\n",
              "      <th>1</th>\n",
              "      <td>24</td>\n",
              "      <td>9.5</td>\n",
              "    </tr>\n",
              "    <tr>\n",
              "      <th>2</th>\n",
              "      <td>27</td>\n",
              "      <td>10</td>\n",
              "    </tr>\n",
              "    <tr>\n",
              "      <th>3</th>\n",
              "      <td>28</td>\n",
              "      <td>9.5</td>\n",
              "    </tr>\n",
              "    <tr>\n",
              "      <th>4</th>\n",
              "      <td>29</td>\n",
              "      <td>8.5</td>\n",
              "    </tr>\n",
              "    <tr>\n",
              "      <th>...</th>\n",
              "      <td>...</td>\n",
              "      <td>...</td>\n",
              "    </tr>\n",
              "    <tr>\n",
              "      <th>970</th>\n",
              "      <td>1857</td>\n",
              "      <td>4</td>\n",
              "    </tr>\n",
              "    <tr>\n",
              "      <th>971</th>\n",
              "      <td>1859</td>\n",
              "      <td>1.5</td>\n",
              "    </tr>\n",
              "    <tr>\n",
              "      <th>972</th>\n",
              "      <td>1862</td>\n",
              "      <td>7.5</td>\n",
              "    </tr>\n",
              "    <tr>\n",
              "      <th>973</th>\n",
              "      <td>1865</td>\n",
              "      <td>7.5</td>\n",
              "    </tr>\n",
              "    <tr>\n",
              "      <th>974</th>\n",
              "      <td>1866</td>\n",
              "      <td>5</td>\n",
              "    </tr>\n",
              "  </tbody>\n",
              "</table>\n",
              "<p>975 rows × 2 columns</p>\n",
              "</div>"
            ],
            "text/plain": [
              "     user_id   CK\n",
              "0         22  8.5\n",
              "1         24  9.5\n",
              "2         27   10\n",
              "3         28  9.5\n",
              "4         29  8.5\n",
              "..       ...  ...\n",
              "970     1857    4\n",
              "971     1859  1.5\n",
              "972     1862  7.5\n",
              "973     1865  7.5\n",
              "974     1866    5\n",
              "\n",
              "[975 rows x 2 columns]"
            ]
          },
          "metadata": {
            "tags": []
          },
          "execution_count": 111
        }
      ]
    },
    {
      "cell_type": "markdown",
      "metadata": {
        "id": "V1Di1N5ecFei"
      },
      "source": [
        "- Tiếp theo là merge 2 bảng là bảng **merge_wecode** và **df_score**. Ở đây dùng join left theo merge_wecode, bởi nhiều dữ liệu bên merge_wecode có nhưng bên df_score lại không và những cái thiếu bên df_score là những cái cần dự đoán.\n",
        "- những dữ liệu thiếu bên cột CK sẽ thành NaN"
      ]
    },
    {
      "cell_type": "code",
      "metadata": {
        "colab": {
          "base_uri": "https://localhost:8080/"
        },
        "id": "dhDILQt5yMs_",
        "outputId": "898e0979-0b66-4094-8716-61afa2095ce8"
      },
      "source": [
        "#merge table \"merge_wecode\" (wecode.csv) vs table \"df_score\" (training_score.csv)\n",
        "train_data = pd.merge(merge_wecode, df_score,\n",
        "                   on='user_id', \n",
        "                   how='left')\n",
        "  \n",
        "# displaying result\n",
        "train_data"
      ],
      "execution_count": null,
      "outputs": [
        {
          "output_type": "execute_result",
          "data": {
            "text/html": [
              "<div>\n",
              "<style scoped>\n",
              "    .dataframe tbody tr th:only-of-type {\n",
              "        vertical-align: middle;\n",
              "    }\n",
              "\n",
              "    .dataframe tbody tr th {\n",
              "        vertical-align: top;\n",
              "    }\n",
              "\n",
              "    .dataframe thead th {\n",
              "        text-align: right;\n",
              "    }\n",
              "</style>\n",
              "<table border=\"1\" class=\"dataframe\">\n",
              "  <thead>\n",
              "    <tr style=\"text-align: right;\">\n",
              "      <th></th>\n",
              "      <th>user_id</th>\n",
              "      <th>num_of_problem</th>\n",
              "      <th>num_of_submit</th>\n",
              "      <th>submit_final</th>\n",
              "      <th>total_score</th>\n",
              "      <th>CK</th>\n",
              "    </tr>\n",
              "  </thead>\n",
              "  <tbody>\n",
              "    <tr>\n",
              "      <th>0</th>\n",
              "      <td>1</td>\n",
              "      <td>2</td>\n",
              "      <td>2</td>\n",
              "      <td>2</td>\n",
              "      <td>10000</td>\n",
              "      <td>NaN</td>\n",
              "    </tr>\n",
              "    <tr>\n",
              "      <th>1</th>\n",
              "      <td>4</td>\n",
              "      <td>54</td>\n",
              "      <td>54</td>\n",
              "      <td>38</td>\n",
              "      <td>466000</td>\n",
              "      <td>NaN</td>\n",
              "    </tr>\n",
              "    <tr>\n",
              "      <th>2</th>\n",
              "      <td>5</td>\n",
              "      <td>6</td>\n",
              "      <td>6</td>\n",
              "      <td>5</td>\n",
              "      <td>30000</td>\n",
              "      <td>NaN</td>\n",
              "    </tr>\n",
              "    <tr>\n",
              "      <th>3</th>\n",
              "      <td>6</td>\n",
              "      <td>130</td>\n",
              "      <td>130</td>\n",
              "      <td>88</td>\n",
              "      <td>965637</td>\n",
              "      <td>NaN</td>\n",
              "    </tr>\n",
              "    <tr>\n",
              "      <th>4</th>\n",
              "      <td>7</td>\n",
              "      <td>5</td>\n",
              "      <td>5</td>\n",
              "      <td>2</td>\n",
              "      <td>18843</td>\n",
              "      <td>NaN</td>\n",
              "    </tr>\n",
              "    <tr>\n",
              "      <th>...</th>\n",
              "      <td>...</td>\n",
              "      <td>...</td>\n",
              "      <td>...</td>\n",
              "      <td>...</td>\n",
              "      <td>...</td>\n",
              "      <td>...</td>\n",
              "    </tr>\n",
              "    <tr>\n",
              "      <th>1139</th>\n",
              "      <td>1860</td>\n",
              "      <td>76</td>\n",
              "      <td>76</td>\n",
              "      <td>48</td>\n",
              "      <td>405440</td>\n",
              "      <td>NaN</td>\n",
              "    </tr>\n",
              "    <tr>\n",
              "      <th>1140</th>\n",
              "      <td>1862</td>\n",
              "      <td>12</td>\n",
              "      <td>12</td>\n",
              "      <td>6</td>\n",
              "      <td>40000</td>\n",
              "      <td>7.5</td>\n",
              "    </tr>\n",
              "    <tr>\n",
              "      <th>1141</th>\n",
              "      <td>1864</td>\n",
              "      <td>187</td>\n",
              "      <td>187</td>\n",
              "      <td>63</td>\n",
              "      <td>563292</td>\n",
              "      <td>NaN</td>\n",
              "    </tr>\n",
              "    <tr>\n",
              "      <th>1142</th>\n",
              "      <td>1865</td>\n",
              "      <td>99</td>\n",
              "      <td>99</td>\n",
              "      <td>17</td>\n",
              "      <td>189460</td>\n",
              "      <td>7.5</td>\n",
              "    </tr>\n",
              "    <tr>\n",
              "      <th>1143</th>\n",
              "      <td>1868</td>\n",
              "      <td>47</td>\n",
              "      <td>47</td>\n",
              "      <td>27</td>\n",
              "      <td>390000</td>\n",
              "      <td>NaN</td>\n",
              "    </tr>\n",
              "  </tbody>\n",
              "</table>\n",
              "<p>1144 rows × 6 columns</p>\n",
              "</div>"
            ],
            "text/plain": [
              "      user_id  num_of_problem  num_of_submit  submit_final  total_score   CK\n",
              "0           1               2              2             2        10000  NaN\n",
              "1           4              54             54            38       466000  NaN\n",
              "2           5               6              6             5        30000  NaN\n",
              "3           6             130            130            88       965637  NaN\n",
              "4           7               5              5             2        18843  NaN\n",
              "...       ...             ...            ...           ...          ...  ...\n",
              "1139     1860              76             76            48       405440  NaN\n",
              "1140     1862              12             12             6        40000  7.5\n",
              "1141     1864             187            187            63       563292  NaN\n",
              "1142     1865              99             99            17       189460  7.5\n",
              "1143     1868              47             47            27       390000  NaN\n",
              "\n",
              "[1144 rows x 6 columns]"
            ]
          },
          "metadata": {
            "tags": []
          },
          "execution_count": 112
        }
      ]
    },
    {
      "cell_type": "markdown",
      "metadata": {
        "id": "HxP7bFdU1oAX"
      },
      "source": [
        "- Hiện thị kiểu dữ liệu của từng cột trong bảng train_data\n"
      ]
    },
    {
      "cell_type": "code",
      "metadata": {
        "colab": {
          "base_uri": "https://localhost:8080/"
        },
        "id": "mDykgfYo1hUj",
        "outputId": "ee5acfff-a21b-4977-9b78-65cda6f3d35e"
      },
      "source": [
        "print(train_data.dtypes)"
      ],
      "execution_count": null,
      "outputs": [
        {
          "output_type": "stream",
          "text": [
            "user_id            int64\n",
            "num_of_problem     int64\n",
            "num_of_submit      int64\n",
            "submit_final       int64\n",
            "total_score        int64\n",
            "CK                object\n",
            "dtype: object\n"
          ],
          "name": "stdout"
        }
      ]
    },
    {
      "cell_type": "markdown",
      "metadata": {
        "id": "3lQRL3m2dWt5"
      },
      "source": [
        "- Sau khi merge tất cả lại ta được bảng là **train_data**. Bước tiếp theo sẽ tính **ratio** *(tỷ lệ) được tính bằng:\n",
        "  $$\\text{ratio} = \\frac{\\text{submit_final}}{\\text{num_of_submit}} * \\text{total_score}$$"
      ]
    },
    {
      "cell_type": "code",
      "metadata": {
        "id": "tVeRNb7zQoX6",
        "colab": {
          "base_uri": "https://localhost:8080/"
        },
        "outputId": "5d9c0d08-5317-4981-ef95-a4916c2a21cb"
      },
      "source": [
        "#chuyển CK từ object->float64. do dữ liệu lúc đầu cột CK là object\n",
        "train_data[\"CK\"] = pd.to_numeric(train_data['CK'], errors='coerce')\n",
        "\n",
        "#Thêm cột ratio và tính toán giá trị cột\n",
        "train_data['ratio'] = ((train_data['submit_final']/train_data['num_of_submit']))*train_data['total_score']\n",
        "\n",
        "train_data.head()\n"
      ],
      "execution_count": null,
      "outputs": [
        {
          "output_type": "execute_result",
          "data": {
            "text/html": [
              "<div>\n",
              "<style scoped>\n",
              "    .dataframe tbody tr th:only-of-type {\n",
              "        vertical-align: middle;\n",
              "    }\n",
              "\n",
              "    .dataframe tbody tr th {\n",
              "        vertical-align: top;\n",
              "    }\n",
              "\n",
              "    .dataframe thead th {\n",
              "        text-align: right;\n",
              "    }\n",
              "</style>\n",
              "<table border=\"1\" class=\"dataframe\">\n",
              "  <thead>\n",
              "    <tr style=\"text-align: right;\">\n",
              "      <th></th>\n",
              "      <th>user_id</th>\n",
              "      <th>num_of_problem</th>\n",
              "      <th>num_of_submit</th>\n",
              "      <th>submit_final</th>\n",
              "      <th>total_score</th>\n",
              "      <th>CK</th>\n",
              "      <th>ratio</th>\n",
              "    </tr>\n",
              "  </thead>\n",
              "  <tbody>\n",
              "    <tr>\n",
              "      <th>0</th>\n",
              "      <td>1</td>\n",
              "      <td>2</td>\n",
              "      <td>2</td>\n",
              "      <td>2</td>\n",
              "      <td>10000</td>\n",
              "      <td>NaN</td>\n",
              "      <td>10000.000000</td>\n",
              "    </tr>\n",
              "    <tr>\n",
              "      <th>1</th>\n",
              "      <td>4</td>\n",
              "      <td>54</td>\n",
              "      <td>54</td>\n",
              "      <td>38</td>\n",
              "      <td>466000</td>\n",
              "      <td>NaN</td>\n",
              "      <td>327925.925926</td>\n",
              "    </tr>\n",
              "    <tr>\n",
              "      <th>2</th>\n",
              "      <td>5</td>\n",
              "      <td>6</td>\n",
              "      <td>6</td>\n",
              "      <td>5</td>\n",
              "      <td>30000</td>\n",
              "      <td>NaN</td>\n",
              "      <td>25000.000000</td>\n",
              "    </tr>\n",
              "    <tr>\n",
              "      <th>3</th>\n",
              "      <td>6</td>\n",
              "      <td>130</td>\n",
              "      <td>130</td>\n",
              "      <td>88</td>\n",
              "      <td>965637</td>\n",
              "      <td>NaN</td>\n",
              "      <td>653661.969231</td>\n",
              "    </tr>\n",
              "    <tr>\n",
              "      <th>4</th>\n",
              "      <td>7</td>\n",
              "      <td>5</td>\n",
              "      <td>5</td>\n",
              "      <td>2</td>\n",
              "      <td>18843</td>\n",
              "      <td>NaN</td>\n",
              "      <td>7537.200000</td>\n",
              "    </tr>\n",
              "  </tbody>\n",
              "</table>\n",
              "</div>"
            ],
            "text/plain": [
              "   user_id  num_of_problem  num_of_submit  ...  total_score  CK          ratio\n",
              "0        1               2              2  ...        10000 NaN   10000.000000\n",
              "1        4              54             54  ...       466000 NaN  327925.925926\n",
              "2        5               6              6  ...        30000 NaN   25000.000000\n",
              "3        6             130            130  ...       965637 NaN  653661.969231\n",
              "4        7               5              5  ...        18843 NaN    7537.200000\n",
              "\n",
              "[5 rows x 7 columns]"
            ]
          },
          "metadata": {
            "tags": []
          },
          "execution_count": 114
        }
      ]
    },
    {
      "cell_type": "markdown",
      "metadata": {
        "id": "F6xSJbkSezW_"
      },
      "source": [
        "- Để cột CK là dự đoán cần tách những hàng có giá trị CK là NaN ra để làm test dự đoán.\n",
        "- Sau khi tách thì xóa những hàng có CK NaN ra train_data để thực hiện dự đoán model."
      ]
    },
    {
      "cell_type": "code",
      "metadata": {
        "colab": {
          "base_uri": "https://localhost:8080/"
        },
        "id": "tSTjRCE_GGRt",
        "outputId": "2995b199-3d01-47ec-85a1-e6c14941390e"
      },
      "source": [
        "#Tách nhữn user_id có chưa có điểm CK ra\n",
        "#Đây là bảng dùng dự đoán điểm CK còn thiếu\n",
        "#https://stackoverflow.com/questions/27159189/find-empty-or-nan-entry-in-pandas-dataframe\n",
        "\n",
        "miss_CK = train_data[train_data['CK'].isna()]\n",
        "\n",
        "miss_CK.head()\n"
      ],
      "execution_count": null,
      "outputs": [
        {
          "output_type": "execute_result",
          "data": {
            "text/html": [
              "<div>\n",
              "<style scoped>\n",
              "    .dataframe tbody tr th:only-of-type {\n",
              "        vertical-align: middle;\n",
              "    }\n",
              "\n",
              "    .dataframe tbody tr th {\n",
              "        vertical-align: top;\n",
              "    }\n",
              "\n",
              "    .dataframe thead th {\n",
              "        text-align: right;\n",
              "    }\n",
              "</style>\n",
              "<table border=\"1\" class=\"dataframe\">\n",
              "  <thead>\n",
              "    <tr style=\"text-align: right;\">\n",
              "      <th></th>\n",
              "      <th>user_id</th>\n",
              "      <th>num_of_problem</th>\n",
              "      <th>num_of_submit</th>\n",
              "      <th>submit_final</th>\n",
              "      <th>total_score</th>\n",
              "      <th>CK</th>\n",
              "      <th>ratio</th>\n",
              "    </tr>\n",
              "  </thead>\n",
              "  <tbody>\n",
              "    <tr>\n",
              "      <th>0</th>\n",
              "      <td>1</td>\n",
              "      <td>2</td>\n",
              "      <td>2</td>\n",
              "      <td>2</td>\n",
              "      <td>10000</td>\n",
              "      <td>NaN</td>\n",
              "      <td>10000.000000</td>\n",
              "    </tr>\n",
              "    <tr>\n",
              "      <th>1</th>\n",
              "      <td>4</td>\n",
              "      <td>54</td>\n",
              "      <td>54</td>\n",
              "      <td>38</td>\n",
              "      <td>466000</td>\n",
              "      <td>NaN</td>\n",
              "      <td>327925.925926</td>\n",
              "    </tr>\n",
              "    <tr>\n",
              "      <th>2</th>\n",
              "      <td>5</td>\n",
              "      <td>6</td>\n",
              "      <td>6</td>\n",
              "      <td>5</td>\n",
              "      <td>30000</td>\n",
              "      <td>NaN</td>\n",
              "      <td>25000.000000</td>\n",
              "    </tr>\n",
              "    <tr>\n",
              "      <th>3</th>\n",
              "      <td>6</td>\n",
              "      <td>130</td>\n",
              "      <td>130</td>\n",
              "      <td>88</td>\n",
              "      <td>965637</td>\n",
              "      <td>NaN</td>\n",
              "      <td>653661.969231</td>\n",
              "    </tr>\n",
              "    <tr>\n",
              "      <th>4</th>\n",
              "      <td>7</td>\n",
              "      <td>5</td>\n",
              "      <td>5</td>\n",
              "      <td>2</td>\n",
              "      <td>18843</td>\n",
              "      <td>NaN</td>\n",
              "      <td>7537.200000</td>\n",
              "    </tr>\n",
              "  </tbody>\n",
              "</table>\n",
              "</div>"
            ],
            "text/plain": [
              "   user_id  num_of_problem  num_of_submit  ...  total_score  CK          ratio\n",
              "0        1               2              2  ...        10000 NaN   10000.000000\n",
              "1        4              54             54  ...       466000 NaN  327925.925926\n",
              "2        5               6              6  ...        30000 NaN   25000.000000\n",
              "3        6             130            130  ...       965637 NaN  653661.969231\n",
              "4        7               5              5  ...        18843 NaN    7537.200000\n",
              "\n",
              "[5 rows x 7 columns]"
            ]
          },
          "metadata": {
            "tags": []
          },
          "execution_count": 115
        }
      ]
    },
    {
      "cell_type": "code",
      "metadata": {
        "colab": {
          "base_uri": "https://localhost:8080/"
        },
        "id": "ji1FW4z4fnpa",
        "outputId": "3551959d-816d-400d-ce13-feeb75729fe5"
      },
      "source": [
        "#Xóa những hàng có CK là NaN khỏi train_data\n",
        "train_data.dropna(subset = ['CK'], inplace=True)\n",
        "\n",
        "train_data.head()"
      ],
      "execution_count": null,
      "outputs": [
        {
          "output_type": "execute_result",
          "data": {
            "text/html": [
              "<div>\n",
              "<style scoped>\n",
              "    .dataframe tbody tr th:only-of-type {\n",
              "        vertical-align: middle;\n",
              "    }\n",
              "\n",
              "    .dataframe tbody tr th {\n",
              "        vertical-align: top;\n",
              "    }\n",
              "\n",
              "    .dataframe thead th {\n",
              "        text-align: right;\n",
              "    }\n",
              "</style>\n",
              "<table border=\"1\" class=\"dataframe\">\n",
              "  <thead>\n",
              "    <tr style=\"text-align: right;\">\n",
              "      <th></th>\n",
              "      <th>user_id</th>\n",
              "      <th>num_of_problem</th>\n",
              "      <th>num_of_submit</th>\n",
              "      <th>submit_final</th>\n",
              "      <th>total_score</th>\n",
              "      <th>CK</th>\n",
              "      <th>ratio</th>\n",
              "    </tr>\n",
              "  </thead>\n",
              "  <tbody>\n",
              "    <tr>\n",
              "      <th>9</th>\n",
              "      <td>24</td>\n",
              "      <td>164</td>\n",
              "      <td>164</td>\n",
              "      <td>77</td>\n",
              "      <td>1031674</td>\n",
              "      <td>9.5</td>\n",
              "      <td>484383.524390</td>\n",
              "    </tr>\n",
              "    <tr>\n",
              "      <th>10</th>\n",
              "      <td>27</td>\n",
              "      <td>13</td>\n",
              "      <td>13</td>\n",
              "      <td>5</td>\n",
              "      <td>52000</td>\n",
              "      <td>10.0</td>\n",
              "      <td>20000.000000</td>\n",
              "    </tr>\n",
              "    <tr>\n",
              "      <th>11</th>\n",
              "      <td>29</td>\n",
              "      <td>199</td>\n",
              "      <td>199</td>\n",
              "      <td>80</td>\n",
              "      <td>1225828</td>\n",
              "      <td>8.5</td>\n",
              "      <td>492795.175879</td>\n",
              "    </tr>\n",
              "    <tr>\n",
              "      <th>13</th>\n",
              "      <td>34</td>\n",
              "      <td>218</td>\n",
              "      <td>218</td>\n",
              "      <td>84</td>\n",
              "      <td>1206981</td>\n",
              "      <td>6.5</td>\n",
              "      <td>465075.247706</td>\n",
              "    </tr>\n",
              "    <tr>\n",
              "      <th>14</th>\n",
              "      <td>35</td>\n",
              "      <td>297</td>\n",
              "      <td>297</td>\n",
              "      <td>151</td>\n",
              "      <td>1809718</td>\n",
              "      <td>4.5</td>\n",
              "      <td>920092.316498</td>\n",
              "    </tr>\n",
              "  </tbody>\n",
              "</table>\n",
              "</div>"
            ],
            "text/plain": [
              "    user_id  num_of_problem  num_of_submit  ...  total_score    CK          ratio\n",
              "9        24             164            164  ...      1031674   9.5  484383.524390\n",
              "10       27              13             13  ...        52000  10.0   20000.000000\n",
              "11       29             199            199  ...      1225828   8.5  492795.175879\n",
              "13       34             218            218  ...      1206981   6.5  465075.247706\n",
              "14       35             297            297  ...      1809718   4.5  920092.316498\n",
              "\n",
              "[5 rows x 7 columns]"
            ]
          },
          "metadata": {
            "tags": []
          },
          "execution_count": 116
        }
      ]
    },
    {
      "cell_type": "markdown",
      "metadata": {
        "id": "E2ed_CCqVihL"
      },
      "source": [
        "##**4. Trực quan dữ liệu**\n"
      ]
    },
    {
      "cell_type": "code",
      "metadata": {
        "colab": {
          "base_uri": "https://localhost:8080/",
          "height": 514
        },
        "id": "n3hCFtnoCiWL",
        "outputId": "b1abae91-f26c-4655-cfbc-d1205e5f8568"
      },
      "source": [
        "#https://pandas.pydata.org/pandas-docs/stable/user_guide/visualization.html\n",
        "\n",
        "fig, axs = plt.subplots(figsize=(15, 8))\n",
        "axs.scatter(train_data['ratio'], train_data['CK'])\n",
        "axs.set(xlabel = 'ratio', ylabel= 'CK')"
      ],
      "execution_count": null,
      "outputs": [
        {
          "output_type": "execute_result",
          "data": {
            "text/plain": [
              "[Text(0, 0.5, 'CK'), Text(0.5, 0, 'ratio')]"
            ]
          },
          "metadata": {
            "tags": []
          },
          "execution_count": 117
        },
        {
          "output_type": "display_data",
          "data": {
            "image/png": "[encoded data removed]",
            "text/plain": [
              "<Figure size 1080x576 with 1 Axes>"
            ]
          },
          "metadata": {
            "tags": [],
            "needs_background": "light"
          }
        }
      ]
    },
    {
      "cell_type": "markdown",
      "metadata": {
        "id": "XbCoaln2lAkf"
      },
      "source": [
        "#**III. Train model**"
      ]
    },
    {
      "cell_type": "markdown",
      "metadata": {
        "id": "rUKZCJ4bi8oY"
      },
      "source": [
        "- Dùng linear Regression"
      ]
    },
    {
      "cell_type": "code",
      "metadata": {
        "id": "JvwVkkiik9gD",
        "colab": {
          "base_uri": "https://localhost:8080/",
          "height": 405
        },
        "outputId": "f655b40b-81e8-458d-f6e5-d4e019b7e128"
      },
      "source": [
        "X = np.array(train_data['ratio']).reshape(-1,1)\n",
        "Y = np.array(train_data['CK'])\n",
        "\n",
        "# Create linear regression object\n",
        "lr = linear_model.LinearRegression()\n",
        "\n",
        "# Chia data2.svc thành 70% dữ liệu cho train model, 30% dữ liệu cho test\n",
        "X_train, X_test, Y_train, Y_test = train_test_split(X, Y, test_size=0.3, random_state=0)\n",
        "\n",
        "# Train the model using the training sets\n",
        "lr.fit(X_train, Y_train)\n",
        "\n",
        "# Make predictions using the X_test in X\n",
        "data_y_pred = lr.predict(X_test)\n",
        "\n",
        "fig, axs = plt.subplots(figsize=(10, 6))\n",
        "axs.scatter(X_test, Y_test)\n",
        "axs.plot(X_test, data_y_pred, color='red', linewidth=2)\n",
        "axs.set(xlabel = 'ratio', ylabel= 'CK')\n",
        "\n",
        "# The mean squared error or (X_test, Y_test)\n",
        "print('Mean squared error: ', mean_squared_error(Y_test, data_y_pred))"
      ],
      "execution_count": null,
      "outputs": [
        {
          "output_type": "stream",
          "text": [
            "Mean squared error:  3.5205682463648666\n"
          ],
          "name": "stdout"
        },
        {
          "output_type": "display_data",
          "data": {
            "image/png": "[encoded data removed]",
            "text/plain": [
              "<Figure size 720x432 with 1 Axes>"
            ]
          },
          "metadata": {
            "tags": [],
            "needs_background": "light"
          }
        }
      ]
    }
  ]
}