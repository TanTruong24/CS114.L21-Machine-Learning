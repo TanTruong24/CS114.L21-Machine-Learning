{
  "nbformat": 4,
  "nbformat_minor": 0,
  "metadata": {
    "colab": {
      "name": "24052021_Predict-score.ipynb",
      "provenance": [],
      "collapsed_sections": [],
      "toc_visible": true,
      "authorship_tag": "ABX9TyP63h5cp8dsiy02zf0/vNMB",
      "include_colab_link": true
    },
    "kernelspec": {
      "name": "python3",
      "display_name": "Python 3"
    },
    "language_info": {
      "name": "python"
    }
  },
  "cells": [
    {
      "cell_type": "markdown",
      "metadata": {
        "id": "view-in-github",
        "colab_type": "text"
      },
      "source": [
        "<a href=\"https://colab.research.google.com/github/TanTruong24/CS114.L21-Machine-Learning/blob/main/Predict_score/24052021_Predict_score.ipynb\" target=\"_parent\"><img src=\"https://colab.research.google.com/assets/colab-badge.svg\" alt=\"Open In Colab\"/></a>"
      ]
    },
    {
      "cell_type": "markdown",
      "metadata": {
        "id": "9tem9B21YUki"
      },
      "source": [
        "<center> <h1> <b> CS114.L21: MACHINE LEARNING <center> <h1> <b>\n",
        "\n",
        "<center> <h2> <b> BÀI TẬP COLAB SỐ 03: DỰ ĐOÁN ĐIỂM CUỐI KỲ TẬP DỮ LIỆU WECODE (Ngày 17/5/2021) <center> <h> <b>"
      ]
    },
    {
      "cell_type": "markdown",
      "metadata": {
        "id": "3Y_GmeyIYkdu"
      },
      "source": [
        "###**1. Nhóm thực hiện**\n",
        "\n",
        "* 19522246 - Vũ Nguyễn Nhật Thanh\n",
        "* 19522180 - Trương Thế Tấn\n",
        "* 19521551 - Nông Thanh Hồng"
      ]
    },
    {
      "cell_type": "code",
      "metadata": {
        "id": "DSgPKI-wJ6P5",
        "colab": {
          "base_uri": "https://localhost:8080/"
        },
        "outputId": "74961890-198f-4650-e2f3-ab42e1b31364"
      },
      "source": [
        "# DOWLOAD WECODE.CSV AND SCORE_TRAIN.CSV\n",
        "!gdown --id 1Oxicp0c_Z37N2OmZ7CxEQBepE7Wnz8Sc\n",
        "!gdown --id 1eNiHRT4FMBDjCk9q3FCnd3oydgS1taOW"
      ],
      "execution_count": 205,
      "outputs": [
        {
          "output_type": "stream",
          "text": [
            "Downloading...\n",
            "From: https://drive.google.com/uc?id=1Oxicp0c_Z37N2OmZ7CxEQBepE7Wnz8Sc\n",
            "To: /content/score_training.csv\n",
            "100% 23.9k/23.9k [00:00<00:00, 8.84MB/s]\n",
            "Downloading...\n",
            "From: https://drive.google.com/uc?id=1eNiHRT4FMBDjCk9q3FCnd3oydgS1taOW\n",
            "To: /content/wecode.csv\n",
            "30.8MB [00:00, 50.0MB/s]\n"
          ],
          "name": "stdout"
        }
      ]
    },
    {
      "cell_type": "markdown",
      "metadata": {
        "id": "BCP4cP_zopeT"
      },
      "source": [
        "#**Các file liên quan**\n",
        "\n",
        "1. [wecode.csv](https://github.com/Nhat-Thanh/CS114.L21/blob/main/wecode/wecode.csv)\n",
        "2. [score_training.csv](https://github.com/Nhat-Thanh/CS114.L21/blob/main/wecode/score_training.csv)\n",
        "3. [Biểu diễn thông số đề xuất bằng scatter plot ngày 24/5/2021 (sử dụng sqlite, database)](https://github.com/Nhat-Thanh/CS114.L21/blob/main/wecode/24052021_visualize_scatter_plot.ipynb)"
      ]
    },
    {
      "cell_type": "markdown",
      "metadata": {
        "id": "a2CVZ9OxYp02"
      },
      "source": [
        "#**I. Tham khảo**\n",
        "\n",
        "1. [Read specific column from CSV](https://www.kite.com/python/answers/how-to-read-specific-column-from-csv-file-in-python)\n",
        "2. [pandas.DataFrame.sort_values](https://pandas.pydata.org/docs/reference/api/pandas.DataFrame.sort_values.html)\n",
        "3. [Drop rows from the dataframe based on certain condition applied on a column](https://www.geeksforgeeks.org/drop-rows-from-the-dataframe-based-on-certain-condition-applied-on-a-column/)\n",
        "4. [Merge two csv files by specific column using Pandas](https://www.geeksforgeeks.org/how-to-merge-two-csv-files-by-specific-column-using-pandas-in-python/)\n",
        "5. [Find empty or NaN entry in Pandas Dataframe](https://stackoverflow.com/questions/27159189/find-empty-or-nan-entry-in-pandas-dataframe)\n",
        "6. [Visualization data](https://pandas.pydata.org/pandas-docs/stable/user_guide/visualization.html)\n"
      ]
    },
    {
      "cell_type": "markdown",
      "metadata": {
        "id": "1K384sYzmeLb"
      },
      "source": [
        "Nhóm đề xuất 2 Hướng giải quyết bài toán bằng cách tính các thông số khác nhau. Với mỗi Hướng, nhóm tính các giá trị ***total_problem, total_submit, submit_final, total_score*** *(Hướng 2 không tính **total_problem**)*. Tuy nhiên, cách xác định các giá trị này sẽ khác nhau ở 2 Hướng, cụ thể:\n",
        "1. **Xử lý Hướng 1:** \n",
        "  - ***total_problem:*** đếm số problem mà mỗi user_id đã làm *(problem_id có is_final =1)*\n",
        "  - ***total_submit:*** đếm số lần submit của mỗi user_id, tính cả lần submit đúng và sai *(is_final = 0 hoặc 1)*\n",
        "  - ***submit_final***: Đếm số lần mà user_id submit thành công *(có pre_score = 10000, is_final = 1)*.\n",
        "  - ***total_score***: tính tổng số điểm của mỗi user_id.\n",
        "2. **Xử lý Hướng 2:**\n",
        "  - ***total_submit:*** đếm số lần submit của mỗi user_id, tính cả lần submit đúng và sai *(is_final = 0 hoặc 1)*\n",
        "  - ***submit_final***: Đếm số lần mà user_id submit thành công cuối cùng *(is_final = 1)*.\n",
        "  - ***total_score***: tính tổng số điểm của mỗi user_id *(pre_score > 0)*.\n",
        "- Với **Xử lý Hướng 2**, nhóm em có làm một file colab riêng [24052021_predic-score-Huong2.ipynb](https://github.com/Nhat-Thanh/CS114.L21/blob/main/wecode/24052021_predic_score_Huong2.ipynb) để tiện theo dõi (Hoặc ở **III. Xử lý Hướng 2** ở file colab này)"
      ]
    },
    {
      "cell_type": "markdown",
      "metadata": {
        "id": "Nhz30jiwZBD9"
      },
      "source": [
        "##**Thư viện cần thiết**"
      ]
    },
    {
      "cell_type": "code",
      "metadata": {
        "id": "VzsNHvZEFqCv"
      },
      "source": [
        "# importing panda library\n",
        "import pandas as pd\n",
        "from pandas import DataFrame\n",
        "\n",
        "#  importing Matplotlib’s Pyplot module\n",
        "import matplotlib.pyplot as plt\n",
        "\n",
        "# importing numpy library\n",
        "import numpy as np\n",
        "\n",
        "from sklearn import linear_model\n",
        "from sklearn.metrics import mean_squared_error\n",
        "from sklearn.model_selection import train_test_split\n",
        "\n",
        "from pandas.plotting import scatter_matrix\n",
        "import seaborn as sb"
      ],
      "execution_count": 206,
      "outputs": []
    },
    {
      "cell_type": "markdown",
      "metadata": {
        "id": "TmIMzE1tmWoK"
      },
      "source": [
        "#**II. Xử lý Hướng 1:**"
      ]
    },
    {
      "cell_type": "markdown",
      "metadata": {
        "id": "lzL5pSkZY43q"
      },
      "source": [
        "##**II.1. Xử lý data**"
      ]
    },
    {
      "cell_type": "markdown",
      "metadata": {
        "id": "VqEKM3p0lKF9"
      },
      "source": [
        "####**1. Xử lý file wecode.csv**"
      ]
    },
    {
      "cell_type": "markdown",
      "metadata": {
        "id": "ulyWUSzEZWaL"
      },
      "source": [
        "- Từ file wecode.csv nhóm quyết định lấy ra 5 cột là: **assignment_id,\tproblem_id,\tuser_id,\tis_final,\tpre_score**"
      ]
    },
    {
      "cell_type": "code",
      "metadata": {
        "id": "1U8buOQ9Ft_-",
        "colab": {
          "base_uri": "https://localhost:8080/",
          "height": 419
        },
        "outputId": "d8837151-ed8e-45ed-c994-b70587bfeac3"
      },
      "source": [
        "#https://www.kite.com/python/answers/how-to-read-specific-column-from-csv-file-in-python\n",
        "df = pd.read_csv('/content/wecode.csv', usecols = ['assignment_id','problem_id','user_id','is_final',\t'pre_score'])\n",
        "\n",
        "df"
      ],
      "execution_count": 207,
      "outputs": [
        {
          "output_type": "execute_result",
          "data": {
            "text/html": [
              "<div>\n",
              "<style scoped>\n",
              "    .dataframe tbody tr th:only-of-type {\n",
              "        vertical-align: middle;\n",
              "    }\n",
              "\n",
              "    .dataframe tbody tr th {\n",
              "        vertical-align: top;\n",
              "    }\n",
              "\n",
              "    .dataframe thead th {\n",
              "        text-align: right;\n",
              "    }\n",
              "</style>\n",
              "<table border=\"1\" class=\"dataframe\">\n",
              "  <thead>\n",
              "    <tr style=\"text-align: right;\">\n",
              "      <th></th>\n",
              "      <th>assignment_id</th>\n",
              "      <th>problem_id</th>\n",
              "      <th>user_id</th>\n",
              "      <th>is_final</th>\n",
              "      <th>pre_score</th>\n",
              "    </tr>\n",
              "  </thead>\n",
              "  <tbody>\n",
              "    <tr>\n",
              "      <th>0</th>\n",
              "      <td>0</td>\n",
              "      <td>3</td>\n",
              "      <td>4</td>\n",
              "      <td>1</td>\n",
              "      <td>10000</td>\n",
              "    </tr>\n",
              "    <tr>\n",
              "      <th>1</th>\n",
              "      <td>0</td>\n",
              "      <td>4</td>\n",
              "      <td>4</td>\n",
              "      <td>1</td>\n",
              "      <td>10000</td>\n",
              "    </tr>\n",
              "    <tr>\n",
              "      <th>2</th>\n",
              "      <td>0</td>\n",
              "      <td>5</td>\n",
              "      <td>4</td>\n",
              "      <td>0</td>\n",
              "      <td>0</td>\n",
              "    </tr>\n",
              "    <tr>\n",
              "      <th>3</th>\n",
              "      <td>0</td>\n",
              "      <td>5</td>\n",
              "      <td>4</td>\n",
              "      <td>0</td>\n",
              "      <td>0</td>\n",
              "    </tr>\n",
              "    <tr>\n",
              "      <th>4</th>\n",
              "      <td>0</td>\n",
              "      <td>5</td>\n",
              "      <td>4</td>\n",
              "      <td>0</td>\n",
              "      <td>0</td>\n",
              "    </tr>\n",
              "    <tr>\n",
              "      <th>...</th>\n",
              "      <td>...</td>\n",
              "      <td>...</td>\n",
              "      <td>...</td>\n",
              "      <td>...</td>\n",
              "      <td>...</td>\n",
              "    </tr>\n",
              "    <tr>\n",
              "      <th>264601</th>\n",
              "      <td>0</td>\n",
              "      <td>25</td>\n",
              "      <td>1796</td>\n",
              "      <td>0</td>\n",
              "      <td>0</td>\n",
              "    </tr>\n",
              "    <tr>\n",
              "      <th>264602</th>\n",
              "      <td>0</td>\n",
              "      <td>25</td>\n",
              "      <td>1796</td>\n",
              "      <td>0</td>\n",
              "      <td>0</td>\n",
              "    </tr>\n",
              "    <tr>\n",
              "      <th>264603</th>\n",
              "      <td>0</td>\n",
              "      <td>25</td>\n",
              "      <td>1796</td>\n",
              "      <td>1</td>\n",
              "      <td>10000</td>\n",
              "    </tr>\n",
              "    <tr>\n",
              "      <th>264604</th>\n",
              "      <td>0</td>\n",
              "      <td>150</td>\n",
              "      <td>255</td>\n",
              "      <td>1</td>\n",
              "      <td>6250</td>\n",
              "    </tr>\n",
              "    <tr>\n",
              "      <th>264605</th>\n",
              "      <td>21</td>\n",
              "      <td>24</td>\n",
              "      <td>1568</td>\n",
              "      <td>0</td>\n",
              "      <td>10000</td>\n",
              "    </tr>\n",
              "  </tbody>\n",
              "</table>\n",
              "<p>264606 rows × 5 columns</p>\n",
              "</div>"
            ],
            "text/plain": [
              "        assignment_id  problem_id  user_id  is_final  pre_score\n",
              "0                   0           3        4         1      10000\n",
              "1                   0           4        4         1      10000\n",
              "2                   0           5        4         0          0\n",
              "3                   0           5        4         0          0\n",
              "4                   0           5        4         0          0\n",
              "...               ...         ...      ...       ...        ...\n",
              "264601              0          25     1796         0          0\n",
              "264602              0          25     1796         0          0\n",
              "264603              0          25     1796         1      10000\n",
              "264604              0         150      255         1       6250\n",
              "264605             21          24     1568         0      10000\n",
              "\n",
              "[264606 rows x 5 columns]"
            ]
          },
          "metadata": {
            "tags": []
          },
          "execution_count": 207
        }
      ]
    },
    {
      "cell_type": "markdown",
      "metadata": {
        "id": "uf16kAtvZkJz"
      },
      "source": [
        "- Sau khi lấy ra 5 cột như trên. để dễ quan sát thì tụi em sort lại theo user_id từ bé đến lớn và sắp xếp lại các cột"
      ]
    },
    {
      "cell_type": "code",
      "metadata": {
        "id": "K2VR5C3Gz6w6",
        "colab": {
          "base_uri": "https://localhost:8080/",
          "height": 419
        },
        "outputId": "198d1c24-4f8c-43a0-98f2-4d8a852fa223"
      },
      "source": [
        "# sorting dựa vào user_id\n",
        "#https://pandas.pydata.org/docs/reference/api/pandas.DataFrame.sort_values.html\n",
        "\n",
        "df_wecode = df.sort_values(\n",
        "    by=[\"user_id\", \"assignment_id\",\"problem_id\", \"is_final\",'pre_score']\n",
        "    )[[\"user_id\", \"assignment_id\",\"problem_id\", \"is_final\",\t'pre_score']]\n",
        "\n",
        "df_wecode\n"
      ],
      "execution_count": 208,
      "outputs": [
        {
          "output_type": "execute_result",
          "data": {
            "text/html": [
              "<div>\n",
              "<style scoped>\n",
              "    .dataframe tbody tr th:only-of-type {\n",
              "        vertical-align: middle;\n",
              "    }\n",
              "\n",
              "    .dataframe tbody tr th {\n",
              "        vertical-align: top;\n",
              "    }\n",
              "\n",
              "    .dataframe thead th {\n",
              "        text-align: right;\n",
              "    }\n",
              "</style>\n",
              "<table border=\"1\" class=\"dataframe\">\n",
              "  <thead>\n",
              "    <tr style=\"text-align: right;\">\n",
              "      <th></th>\n",
              "      <th>user_id</th>\n",
              "      <th>assignment_id</th>\n",
              "      <th>problem_id</th>\n",
              "      <th>is_final</th>\n",
              "      <th>pre_score</th>\n",
              "    </tr>\n",
              "  </thead>\n",
              "  <tbody>\n",
              "    <tr>\n",
              "      <th>13940</th>\n",
              "      <td>1</td>\n",
              "      <td>0</td>\n",
              "      <td>81</td>\n",
              "      <td>1</td>\n",
              "      <td>0</td>\n",
              "    </tr>\n",
              "    <tr>\n",
              "      <th>84860</th>\n",
              "      <td>1</td>\n",
              "      <td>0</td>\n",
              "      <td>370</td>\n",
              "      <td>1</td>\n",
              "      <td>10000</td>\n",
              "    </tr>\n",
              "    <tr>\n",
              "      <th>0</th>\n",
              "      <td>4</td>\n",
              "      <td>0</td>\n",
              "      <td>3</td>\n",
              "      <td>1</td>\n",
              "      <td>10000</td>\n",
              "    </tr>\n",
              "    <tr>\n",
              "      <th>1</th>\n",
              "      <td>4</td>\n",
              "      <td>0</td>\n",
              "      <td>4</td>\n",
              "      <td>1</td>\n",
              "      <td>10000</td>\n",
              "    </tr>\n",
              "    <tr>\n",
              "      <th>2</th>\n",
              "      <td>4</td>\n",
              "      <td>0</td>\n",
              "      <td>5</td>\n",
              "      <td>0</td>\n",
              "      <td>0</td>\n",
              "    </tr>\n",
              "    <tr>\n",
              "      <th>...</th>\n",
              "      <td>...</td>\n",
              "      <td>...</td>\n",
              "      <td>...</td>\n",
              "      <td>...</td>\n",
              "      <td>...</td>\n",
              "    </tr>\n",
              "    <tr>\n",
              "      <th>233958</th>\n",
              "      <td>1868</td>\n",
              "      <td>273</td>\n",
              "      <td>586</td>\n",
              "      <td>0</td>\n",
              "      <td>0</td>\n",
              "    </tr>\n",
              "    <tr>\n",
              "      <th>234019</th>\n",
              "      <td>1868</td>\n",
              "      <td>273</td>\n",
              "      <td>586</td>\n",
              "      <td>1</td>\n",
              "      <td>10000</td>\n",
              "    </tr>\n",
              "    <tr>\n",
              "      <th>233965</th>\n",
              "      <td>1868</td>\n",
              "      <td>273</td>\n",
              "      <td>616</td>\n",
              "      <td>1</td>\n",
              "      <td>10000</td>\n",
              "    </tr>\n",
              "    <tr>\n",
              "      <th>233959</th>\n",
              "      <td>1868</td>\n",
              "      <td>273</td>\n",
              "      <td>619</td>\n",
              "      <td>1</td>\n",
              "      <td>10000</td>\n",
              "    </tr>\n",
              "    <tr>\n",
              "      <th>233961</th>\n",
              "      <td>1868</td>\n",
              "      <td>273</td>\n",
              "      <td>622</td>\n",
              "      <td>1</td>\n",
              "      <td>10000</td>\n",
              "    </tr>\n",
              "  </tbody>\n",
              "</table>\n",
              "<p>264606 rows × 5 columns</p>\n",
              "</div>"
            ],
            "text/plain": [
              "        user_id  assignment_id  problem_id  is_final  pre_score\n",
              "13940         1              0          81         1          0\n",
              "84860         1              0         370         1      10000\n",
              "0             4              0           3         1      10000\n",
              "1             4              0           4         1      10000\n",
              "2             4              0           5         0          0\n",
              "...         ...            ...         ...       ...        ...\n",
              "233958     1868            273         586         0          0\n",
              "234019     1868            273         586         1      10000\n",
              "233965     1868            273         616         1      10000\n",
              "233959     1868            273         619         1      10000\n",
              "233961     1868            273         622         1      10000\n",
              "\n",
              "[264606 rows x 5 columns]"
            ]
          },
          "metadata": {
            "tags": []
          },
          "execution_count": 208
        }
      ]
    },
    {
      "cell_type": "markdown",
      "metadata": {
        "id": "FlbWYhJLZzAL"
      },
      "source": [
        "- Sau khi sắp xếp xong, tụi em thực hiện đếm các giá trị. Mỗi giá trị đếm sẽ được thêm vào một bảng riêng và cuối cùng sẽ merge các bảng lại với nhau. Ở đây có 4 bảng là:\n",
        "  1. ***total_problem:*** đếm số problem mà mỗi user_id đã làm\n",
        "  2. ***total_submit:*** đếm số lần submit của mỗi user_id, tính cả lần submit đúng và sai (is_final = 0 hoặc 1)\n",
        "  3. ***submit_final***: Đếm số lần mà user_id submit thành công *(có pre_score = 10000, is_final = 1)*.\n",
        "  4. ***total_score***: tính tổng số điểm của mỗi user_id. Tổng các điểm > 0."
      ]
    },
    {
      "cell_type": "code",
      "metadata": {
        "colab": {
          "base_uri": "https://localhost:8080/",
          "height": 204
        },
        "id": "O-uYF1UIMsBs",
        "outputId": "ec1b3b8d-6fba-4dd0-f875-174116f5345c"
      },
      "source": [
        "# Đếm số problem_id mà mỗi user_id đã làm \n",
        "total_problem = df_wecode[df_wecode['is_final'] == 1].groupby('user_id')['is_final'].count().reset_index(name='num_of_problem')\n",
        "\n",
        "total_problem.head()\n"
      ],
      "execution_count": 209,
      "outputs": [
        {
          "output_type": "execute_result",
          "data": {
            "text/html": [
              "<div>\n",
              "<style scoped>\n",
              "    .dataframe tbody tr th:only-of-type {\n",
              "        vertical-align: middle;\n",
              "    }\n",
              "\n",
              "    .dataframe tbody tr th {\n",
              "        vertical-align: top;\n",
              "    }\n",
              "\n",
              "    .dataframe thead th {\n",
              "        text-align: right;\n",
              "    }\n",
              "</style>\n",
              "<table border=\"1\" class=\"dataframe\">\n",
              "  <thead>\n",
              "    <tr style=\"text-align: right;\">\n",
              "      <th></th>\n",
              "      <th>user_id</th>\n",
              "      <th>num_of_problem</th>\n",
              "    </tr>\n",
              "  </thead>\n",
              "  <tbody>\n",
              "    <tr>\n",
              "      <th>0</th>\n",
              "      <td>1</td>\n",
              "      <td>2</td>\n",
              "    </tr>\n",
              "    <tr>\n",
              "      <th>1</th>\n",
              "      <td>4</td>\n",
              "      <td>38</td>\n",
              "    </tr>\n",
              "    <tr>\n",
              "      <th>2</th>\n",
              "      <td>5</td>\n",
              "      <td>5</td>\n",
              "    </tr>\n",
              "    <tr>\n",
              "      <th>3</th>\n",
              "      <td>6</td>\n",
              "      <td>88</td>\n",
              "    </tr>\n",
              "    <tr>\n",
              "      <th>4</th>\n",
              "      <td>7</td>\n",
              "      <td>2</td>\n",
              "    </tr>\n",
              "  </tbody>\n",
              "</table>\n",
              "</div>"
            ],
            "text/plain": [
              "   user_id  num_of_problem\n",
              "0        1               2\n",
              "1        4              38\n",
              "2        5               5\n",
              "3        6              88\n",
              "4        7               2"
            ]
          },
          "metadata": {
            "tags": []
          },
          "execution_count": 209
        }
      ]
    },
    {
      "cell_type": "code",
      "metadata": {
        "colab": {
          "base_uri": "https://localhost:8080/",
          "height": 204
        },
        "id": "J-6kz-k1tqc6",
        "outputId": "854c34ad-48ac-4e01-a241-d00a8b93ec55"
      },
      "source": [
        "# Đếm số lần submit mà mỗi user_id đã làm (số lần submit bằng số lần xuất hiện của user_id đó)\n",
        "total_submit = df_wecode.groupby('user_id')['user_id'].count().reset_index(name='num_of_submit')\n",
        "\n",
        "total_submit.head()\n"
      ],
      "execution_count": 210,
      "outputs": [
        {
          "output_type": "execute_result",
          "data": {
            "text/html": [
              "<div>\n",
              "<style scoped>\n",
              "    .dataframe tbody tr th:only-of-type {\n",
              "        vertical-align: middle;\n",
              "    }\n",
              "\n",
              "    .dataframe tbody tr th {\n",
              "        vertical-align: top;\n",
              "    }\n",
              "\n",
              "    .dataframe thead th {\n",
              "        text-align: right;\n",
              "    }\n",
              "</style>\n",
              "<table border=\"1\" class=\"dataframe\">\n",
              "  <thead>\n",
              "    <tr style=\"text-align: right;\">\n",
              "      <th></th>\n",
              "      <th>user_id</th>\n",
              "      <th>num_of_submit</th>\n",
              "    </tr>\n",
              "  </thead>\n",
              "  <tbody>\n",
              "    <tr>\n",
              "      <th>0</th>\n",
              "      <td>1</td>\n",
              "      <td>2</td>\n",
              "    </tr>\n",
              "    <tr>\n",
              "      <th>1</th>\n",
              "      <td>4</td>\n",
              "      <td>54</td>\n",
              "    </tr>\n",
              "    <tr>\n",
              "      <th>2</th>\n",
              "      <td>5</td>\n",
              "      <td>6</td>\n",
              "    </tr>\n",
              "    <tr>\n",
              "      <th>3</th>\n",
              "      <td>6</td>\n",
              "      <td>130</td>\n",
              "    </tr>\n",
              "    <tr>\n",
              "      <th>4</th>\n",
              "      <td>7</td>\n",
              "      <td>5</td>\n",
              "    </tr>\n",
              "  </tbody>\n",
              "</table>\n",
              "</div>"
            ],
            "text/plain": [
              "   user_id  num_of_submit\n",
              "0        1              2\n",
              "1        4             54\n",
              "2        5              6\n",
              "3        6            130\n",
              "4        7              5"
            ]
          },
          "metadata": {
            "tags": []
          },
          "execution_count": 210
        }
      ]
    },
    {
      "cell_type": "code",
      "metadata": {
        "colab": {
          "base_uri": "https://localhost:8080/",
          "height": 204
        },
        "id": "4Y053fvStqmb",
        "outputId": "e03bfde8-b30b-4569-fb0a-e2f66eaf8bad"
      },
      "source": [
        "# Đếm số lần submit đúng và cuối cùng (pre_score = 10000 và is_final = 1) mà mỗi user_id đã làm \n",
        "submit_final = df_wecode[(df_wecode['pre_score'] == 10000) & (df_wecode['is_final'] == 1)].groupby('user_id')['pre_score'].count().reset_index(name='submit_final')\n",
        "\n",
        "submit_final.head()"
      ],
      "execution_count": 211,
      "outputs": [
        {
          "output_type": "execute_result",
          "data": {
            "text/html": [
              "<div>\n",
              "<style scoped>\n",
              "    .dataframe tbody tr th:only-of-type {\n",
              "        vertical-align: middle;\n",
              "    }\n",
              "\n",
              "    .dataframe tbody tr th {\n",
              "        vertical-align: top;\n",
              "    }\n",
              "\n",
              "    .dataframe thead th {\n",
              "        text-align: right;\n",
              "    }\n",
              "</style>\n",
              "<table border=\"1\" class=\"dataframe\">\n",
              "  <thead>\n",
              "    <tr style=\"text-align: right;\">\n",
              "      <th></th>\n",
              "      <th>user_id</th>\n",
              "      <th>submit_final</th>\n",
              "    </tr>\n",
              "  </thead>\n",
              "  <tbody>\n",
              "    <tr>\n",
              "      <th>0</th>\n",
              "      <td>1</td>\n",
              "      <td>1</td>\n",
              "    </tr>\n",
              "    <tr>\n",
              "      <th>1</th>\n",
              "      <td>4</td>\n",
              "      <td>37</td>\n",
              "    </tr>\n",
              "    <tr>\n",
              "      <th>2</th>\n",
              "      <td>5</td>\n",
              "      <td>3</td>\n",
              "    </tr>\n",
              "    <tr>\n",
              "      <th>3</th>\n",
              "      <td>6</td>\n",
              "      <td>85</td>\n",
              "    </tr>\n",
              "    <tr>\n",
              "      <th>4</th>\n",
              "      <td>11</td>\n",
              "      <td>9</td>\n",
              "    </tr>\n",
              "  </tbody>\n",
              "</table>\n",
              "</div>"
            ],
            "text/plain": [
              "   user_id  submit_final\n",
              "0        1             1\n",
              "1        4            37\n",
              "2        5             3\n",
              "3        6            85\n",
              "4       11             9"
            ]
          },
          "metadata": {
            "tags": []
          },
          "execution_count": 211
        }
      ]
    },
    {
      "cell_type": "code",
      "metadata": {
        "colab": {
          "base_uri": "https://localhost:8080/",
          "height": 204
        },
        "id": "GDlKIcY4tqvE",
        "outputId": "9fc5acf9-d1b0-4335-c9c8-b533ed5b66a3"
      },
      "source": [
        "# tổng số điểm mà mỗi user_id đã làm \n",
        "total_score = df_wecode.groupby('user_id')['pre_score'].sum().reset_index(name='total_score')\n",
        "\n",
        "total_score.head()"
      ],
      "execution_count": 212,
      "outputs": [
        {
          "output_type": "execute_result",
          "data": {
            "text/html": [
              "<div>\n",
              "<style scoped>\n",
              "    .dataframe tbody tr th:only-of-type {\n",
              "        vertical-align: middle;\n",
              "    }\n",
              "\n",
              "    .dataframe tbody tr th {\n",
              "        vertical-align: top;\n",
              "    }\n",
              "\n",
              "    .dataframe thead th {\n",
              "        text-align: right;\n",
              "    }\n",
              "</style>\n",
              "<table border=\"1\" class=\"dataframe\">\n",
              "  <thead>\n",
              "    <tr style=\"text-align: right;\">\n",
              "      <th></th>\n",
              "      <th>user_id</th>\n",
              "      <th>total_score</th>\n",
              "    </tr>\n",
              "  </thead>\n",
              "  <tbody>\n",
              "    <tr>\n",
              "      <th>0</th>\n",
              "      <td>1</td>\n",
              "      <td>10000</td>\n",
              "    </tr>\n",
              "    <tr>\n",
              "      <th>1</th>\n",
              "      <td>4</td>\n",
              "      <td>466000</td>\n",
              "    </tr>\n",
              "    <tr>\n",
              "      <th>2</th>\n",
              "      <td>5</td>\n",
              "      <td>30000</td>\n",
              "    </tr>\n",
              "    <tr>\n",
              "      <th>3</th>\n",
              "      <td>6</td>\n",
              "      <td>965637</td>\n",
              "    </tr>\n",
              "    <tr>\n",
              "      <th>4</th>\n",
              "      <td>7</td>\n",
              "      <td>18843</td>\n",
              "    </tr>\n",
              "  </tbody>\n",
              "</table>\n",
              "</div>"
            ],
            "text/plain": [
              "   user_id  total_score\n",
              "0        1        10000\n",
              "1        4       466000\n",
              "2        5        30000\n",
              "3        6       965637\n",
              "4        7        18843"
            ]
          },
          "metadata": {
            "tags": []
          },
          "execution_count": 212
        }
      ]
    },
    {
      "cell_type": "markdown",
      "metadata": {
        "id": "o2CdH9qQa2JJ"
      },
      "source": [
        "- merge tất cả các bảng trên thành một bảng duy nhất là **df_wecode**"
      ]
    },
    {
      "cell_type": "code",
      "metadata": {
        "colab": {
          "base_uri": "https://localhost:8080/",
          "height": 204
        },
        "id": "sgMr2KtELYwa",
        "outputId": "6fe5b41f-3afa-41f2-e41f-20c3f71f59ac"
      },
      "source": [
        "#merge total_problem vs total_submit vs submit_final\n",
        "#https://www.geeksforgeeks.org/how-to-merge-two-csv-files-by-specific-column-using-pandas-in-python/\n",
        "\n",
        "merge1 = pd.merge(total_problem, total_submit,\n",
        "                   on='user_id', \n",
        "                   how='inner')\n",
        "  \n",
        "merge2 = pd.merge(merge1, submit_final,\n",
        "                   on='user_id', \n",
        "                   how='inner')\n",
        "merge_wecode = pd.merge(merge2, total_score,\n",
        "                        on='user_id', \n",
        "                        how='inner')\n",
        "\n",
        "# displaying result\n",
        "merge_wecode.head()"
      ],
      "execution_count": 213,
      "outputs": [
        {
          "output_type": "execute_result",
          "data": {
            "text/html": [
              "<div>\n",
              "<style scoped>\n",
              "    .dataframe tbody tr th:only-of-type {\n",
              "        vertical-align: middle;\n",
              "    }\n",
              "\n",
              "    .dataframe tbody tr th {\n",
              "        vertical-align: top;\n",
              "    }\n",
              "\n",
              "    .dataframe thead th {\n",
              "        text-align: right;\n",
              "    }\n",
              "</style>\n",
              "<table border=\"1\" class=\"dataframe\">\n",
              "  <thead>\n",
              "    <tr style=\"text-align: right;\">\n",
              "      <th></th>\n",
              "      <th>user_id</th>\n",
              "      <th>num_of_problem</th>\n",
              "      <th>num_of_submit</th>\n",
              "      <th>submit_final</th>\n",
              "      <th>total_score</th>\n",
              "    </tr>\n",
              "  </thead>\n",
              "  <tbody>\n",
              "    <tr>\n",
              "      <th>0</th>\n",
              "      <td>1</td>\n",
              "      <td>2</td>\n",
              "      <td>2</td>\n",
              "      <td>1</td>\n",
              "      <td>10000</td>\n",
              "    </tr>\n",
              "    <tr>\n",
              "      <th>1</th>\n",
              "      <td>4</td>\n",
              "      <td>38</td>\n",
              "      <td>54</td>\n",
              "      <td>37</td>\n",
              "      <td>466000</td>\n",
              "    </tr>\n",
              "    <tr>\n",
              "      <th>2</th>\n",
              "      <td>5</td>\n",
              "      <td>5</td>\n",
              "      <td>6</td>\n",
              "      <td>3</td>\n",
              "      <td>30000</td>\n",
              "    </tr>\n",
              "    <tr>\n",
              "      <th>3</th>\n",
              "      <td>6</td>\n",
              "      <td>88</td>\n",
              "      <td>130</td>\n",
              "      <td>85</td>\n",
              "      <td>965637</td>\n",
              "    </tr>\n",
              "    <tr>\n",
              "      <th>4</th>\n",
              "      <td>11</td>\n",
              "      <td>12</td>\n",
              "      <td>50</td>\n",
              "      <td>9</td>\n",
              "      <td>317268</td>\n",
              "    </tr>\n",
              "  </tbody>\n",
              "</table>\n",
              "</div>"
            ],
            "text/plain": [
              "   user_id  num_of_problem  num_of_submit  submit_final  total_score\n",
              "0        1               2              2             1        10000\n",
              "1        4              38             54            37       466000\n",
              "2        5               5              6             3        30000\n",
              "3        6              88            130            85       965637\n",
              "4       11              12             50             9       317268"
            ]
          },
          "metadata": {
            "tags": []
          },
          "execution_count": 213
        }
      ]
    },
    {
      "cell_type": "markdown",
      "metadata": {
        "id": "F3yy5ymgvrLN"
      },
      "source": [
        "### **2. Xử lý file score_training.csv**"
      ]
    },
    {
      "cell_type": "markdown",
      "metadata": {
        "id": "eiVC2L9gbWIs"
      },
      "source": [
        "- file score_training.csv chỉ lấy 2 cột là **id** *(user_id trong wecode.csv)* và **CK**"
      ]
    },
    {
      "cell_type": "code",
      "metadata": {
        "colab": {
          "base_uri": "https://localhost:8080/",
          "height": 419
        },
        "id": "yLnSunMTpX-8",
        "outputId": "c5e9c4cd-a092-40b9-b3ee-7c884c41f24a"
      },
      "source": [
        "df_score = pd.read_csv('/content/score_training.csv', usecols = ['id', 'CK'])\n",
        "\n",
        "#https://pandas.pydata.org/pandas-docs/stable/reference/api/pandas.DataFrame.rename.html\n",
        "# đổi tên cột id thành user_id để đồng bộ với file wecoe.csv\n",
        "df_score = df_score.rename(columns = {'id': 'user_id'})\n",
        "\n",
        "df_score"
      ],
      "execution_count": 214,
      "outputs": [
        {
          "output_type": "execute_result",
          "data": {
            "text/html": [
              "<div>\n",
              "<style scoped>\n",
              "    .dataframe tbody tr th:only-of-type {\n",
              "        vertical-align: middle;\n",
              "    }\n",
              "\n",
              "    .dataframe tbody tr th {\n",
              "        vertical-align: top;\n",
              "    }\n",
              "\n",
              "    .dataframe thead th {\n",
              "        text-align: right;\n",
              "    }\n",
              "</style>\n",
              "<table border=\"1\" class=\"dataframe\">\n",
              "  <thead>\n",
              "    <tr style=\"text-align: right;\">\n",
              "      <th></th>\n",
              "      <th>user_id</th>\n",
              "      <th>CK</th>\n",
              "    </tr>\n",
              "  </thead>\n",
              "  <tbody>\n",
              "    <tr>\n",
              "      <th>0</th>\n",
              "      <td>22</td>\n",
              "      <td>8.5</td>\n",
              "    </tr>\n",
              "    <tr>\n",
              "      <th>1</th>\n",
              "      <td>24</td>\n",
              "      <td>9.5</td>\n",
              "    </tr>\n",
              "    <tr>\n",
              "      <th>2</th>\n",
              "      <td>27</td>\n",
              "      <td>10</td>\n",
              "    </tr>\n",
              "    <tr>\n",
              "      <th>3</th>\n",
              "      <td>28</td>\n",
              "      <td>9.5</td>\n",
              "    </tr>\n",
              "    <tr>\n",
              "      <th>4</th>\n",
              "      <td>29</td>\n",
              "      <td>8.5</td>\n",
              "    </tr>\n",
              "    <tr>\n",
              "      <th>...</th>\n",
              "      <td>...</td>\n",
              "      <td>...</td>\n",
              "    </tr>\n",
              "    <tr>\n",
              "      <th>970</th>\n",
              "      <td>1857</td>\n",
              "      <td>4</td>\n",
              "    </tr>\n",
              "    <tr>\n",
              "      <th>971</th>\n",
              "      <td>1859</td>\n",
              "      <td>1.5</td>\n",
              "    </tr>\n",
              "    <tr>\n",
              "      <th>972</th>\n",
              "      <td>1862</td>\n",
              "      <td>7.5</td>\n",
              "    </tr>\n",
              "    <tr>\n",
              "      <th>973</th>\n",
              "      <td>1865</td>\n",
              "      <td>7.5</td>\n",
              "    </tr>\n",
              "    <tr>\n",
              "      <th>974</th>\n",
              "      <td>1866</td>\n",
              "      <td>5</td>\n",
              "    </tr>\n",
              "  </tbody>\n",
              "</table>\n",
              "<p>975 rows × 2 columns</p>\n",
              "</div>"
            ],
            "text/plain": [
              "     user_id   CK\n",
              "0         22  8.5\n",
              "1         24  9.5\n",
              "2         27   10\n",
              "3         28  9.5\n",
              "4         29  8.5\n",
              "..       ...  ...\n",
              "970     1857    4\n",
              "971     1859  1.5\n",
              "972     1862  7.5\n",
              "973     1865  7.5\n",
              "974     1866    5\n",
              "\n",
              "[975 rows x 2 columns]"
            ]
          },
          "metadata": {
            "tags": []
          },
          "execution_count": 214
        }
      ]
    },
    {
      "cell_type": "markdown",
      "metadata": {
        "id": "V1Di1N5ecFei"
      },
      "source": [
        "- Tiếp theo là merge 2 bảng là bảng **merge_wecode** và **df_score**. Ở đây dùng join left theo merge_wecode, bởi nhiều dữ liệu bên merge_wecode có nhưng bên cột CK bên df_score lại không và những cái thiếu bên df_score là những cái cần dự đoán.\n",
        "- những dữ liệu thiếu bên cột CK sẽ thành NaN"
      ]
    },
    {
      "cell_type": "code",
      "metadata": {
        "colab": {
          "base_uri": "https://localhost:8080/",
          "height": 204
        },
        "id": "dhDILQt5yMs_",
        "outputId": "76e16602-7687-44b4-b417-db79f41e4e87"
      },
      "source": [
        "#merge table \"merge_wecode\" (wecode.csv) vs table \"df_score\" (training_score.csv)\n",
        "train_data = pd.merge(merge_wecode, df_score,\n",
        "                   on='user_id', \n",
        "                   how='left')\n",
        "  \n",
        "# displaying result\n",
        "train_data.head()"
      ],
      "execution_count": 215,
      "outputs": [
        {
          "output_type": "execute_result",
          "data": {
            "text/html": [
              "<div>\n",
              "<style scoped>\n",
              "    .dataframe tbody tr th:only-of-type {\n",
              "        vertical-align: middle;\n",
              "    }\n",
              "\n",
              "    .dataframe tbody tr th {\n",
              "        vertical-align: top;\n",
              "    }\n",
              "\n",
              "    .dataframe thead th {\n",
              "        text-align: right;\n",
              "    }\n",
              "</style>\n",
              "<table border=\"1\" class=\"dataframe\">\n",
              "  <thead>\n",
              "    <tr style=\"text-align: right;\">\n",
              "      <th></th>\n",
              "      <th>user_id</th>\n",
              "      <th>num_of_problem</th>\n",
              "      <th>num_of_submit</th>\n",
              "      <th>submit_final</th>\n",
              "      <th>total_score</th>\n",
              "      <th>CK</th>\n",
              "    </tr>\n",
              "  </thead>\n",
              "  <tbody>\n",
              "    <tr>\n",
              "      <th>0</th>\n",
              "      <td>1</td>\n",
              "      <td>2</td>\n",
              "      <td>2</td>\n",
              "      <td>1</td>\n",
              "      <td>10000</td>\n",
              "      <td>NaN</td>\n",
              "    </tr>\n",
              "    <tr>\n",
              "      <th>1</th>\n",
              "      <td>4</td>\n",
              "      <td>38</td>\n",
              "      <td>54</td>\n",
              "      <td>37</td>\n",
              "      <td>466000</td>\n",
              "      <td>NaN</td>\n",
              "    </tr>\n",
              "    <tr>\n",
              "      <th>2</th>\n",
              "      <td>5</td>\n",
              "      <td>5</td>\n",
              "      <td>6</td>\n",
              "      <td>3</td>\n",
              "      <td>30000</td>\n",
              "      <td>NaN</td>\n",
              "    </tr>\n",
              "    <tr>\n",
              "      <th>3</th>\n",
              "      <td>6</td>\n",
              "      <td>88</td>\n",
              "      <td>130</td>\n",
              "      <td>85</td>\n",
              "      <td>965637</td>\n",
              "      <td>NaN</td>\n",
              "    </tr>\n",
              "    <tr>\n",
              "      <th>4</th>\n",
              "      <td>11</td>\n",
              "      <td>12</td>\n",
              "      <td>50</td>\n",
              "      <td>9</td>\n",
              "      <td>317268</td>\n",
              "      <td>NaN</td>\n",
              "    </tr>\n",
              "  </tbody>\n",
              "</table>\n",
              "</div>"
            ],
            "text/plain": [
              "   user_id  num_of_problem  num_of_submit  submit_final  total_score   CK\n",
              "0        1               2              2             1        10000  NaN\n",
              "1        4              38             54            37       466000  NaN\n",
              "2        5               5              6             3        30000  NaN\n",
              "3        6              88            130            85       965637  NaN\n",
              "4       11              12             50             9       317268  NaN"
            ]
          },
          "metadata": {
            "tags": []
          },
          "execution_count": 215
        }
      ]
    },
    {
      "cell_type": "markdown",
      "metadata": {
        "id": "OlrUgZdaCe8v"
      },
      "source": [
        "- Loại dữ liệu của các cột trong bảng **train_data**"
      ]
    },
    {
      "cell_type": "code",
      "metadata": {
        "colab": {
          "base_uri": "https://localhost:8080/"
        },
        "id": "gujGcW70-dXC",
        "outputId": "5a81a786-59e7-417d-b5ea-8dd8410ec331"
      },
      "source": [
        "train_data.dtypes"
      ],
      "execution_count": 216,
      "outputs": [
        {
          "output_type": "execute_result",
          "data": {
            "text/plain": [
              "user_id            int64\n",
              "num_of_problem     int64\n",
              "num_of_submit      int64\n",
              "submit_final       int64\n",
              "total_score        int64\n",
              "CK                object\n",
              "dtype: object"
            ]
          },
          "metadata": {
            "tags": []
          },
          "execution_count": 216
        }
      ]
    },
    {
      "cell_type": "code",
      "metadata": {
        "id": "tVeRNb7zQoX6"
      },
      "source": [
        "#chuyển CK từ object->float64. do dữ liệu lúc đầu cột CK là object\n",
        "train_data[\"CK\"] = pd.to_numeric(train_data['CK'], errors='coerce')"
      ],
      "execution_count": 217,
      "outputs": []
    },
    {
      "cell_type": "markdown",
      "metadata": {
        "id": "F6xSJbkSezW_"
      },
      "source": [
        "- Để cột CK là dự đoán cần tách những hàng có giá trị CK là NaN ra để làm test dự đoán.\n",
        "- Sau khi tách thì xóa những hàng có CK NaN ra train_data để thực hiện dự đoán model."
      ]
    },
    {
      "cell_type": "code",
      "metadata": {
        "colab": {
          "base_uri": "https://localhost:8080/",
          "height": 204
        },
        "id": "tSTjRCE_GGRt",
        "outputId": "1e188ebc-adb3-40e9-e5ff-cc3e043dc361"
      },
      "source": [
        "#Tách nhữn user_id có chưa có điểm CK ra\n",
        "#Đây là bảng dùng dự đoán điểm CK còn thiếu\n",
        "#https://stackoverflow.com/questions/27159189/find-empty-or-nan-entry-in-pandas-dataframe\n",
        "\n",
        "miss_CK = train_data[train_data['CK'].isna()]\n",
        "\n",
        "miss_CK.head()\n"
      ],
      "execution_count": 218,
      "outputs": [
        {
          "output_type": "execute_result",
          "data": {
            "text/html": [
              "<div>\n",
              "<style scoped>\n",
              "    .dataframe tbody tr th:only-of-type {\n",
              "        vertical-align: middle;\n",
              "    }\n",
              "\n",
              "    .dataframe tbody tr th {\n",
              "        vertical-align: top;\n",
              "    }\n",
              "\n",
              "    .dataframe thead th {\n",
              "        text-align: right;\n",
              "    }\n",
              "</style>\n",
              "<table border=\"1\" class=\"dataframe\">\n",
              "  <thead>\n",
              "    <tr style=\"text-align: right;\">\n",
              "      <th></th>\n",
              "      <th>user_id</th>\n",
              "      <th>num_of_problem</th>\n",
              "      <th>num_of_submit</th>\n",
              "      <th>submit_final</th>\n",
              "      <th>total_score</th>\n",
              "      <th>CK</th>\n",
              "    </tr>\n",
              "  </thead>\n",
              "  <tbody>\n",
              "    <tr>\n",
              "      <th>0</th>\n",
              "      <td>1</td>\n",
              "      <td>2</td>\n",
              "      <td>2</td>\n",
              "      <td>1</td>\n",
              "      <td>10000</td>\n",
              "      <td>NaN</td>\n",
              "    </tr>\n",
              "    <tr>\n",
              "      <th>1</th>\n",
              "      <td>4</td>\n",
              "      <td>38</td>\n",
              "      <td>54</td>\n",
              "      <td>37</td>\n",
              "      <td>466000</td>\n",
              "      <td>NaN</td>\n",
              "    </tr>\n",
              "    <tr>\n",
              "      <th>2</th>\n",
              "      <td>5</td>\n",
              "      <td>5</td>\n",
              "      <td>6</td>\n",
              "      <td>3</td>\n",
              "      <td>30000</td>\n",
              "      <td>NaN</td>\n",
              "    </tr>\n",
              "    <tr>\n",
              "      <th>3</th>\n",
              "      <td>6</td>\n",
              "      <td>88</td>\n",
              "      <td>130</td>\n",
              "      <td>85</td>\n",
              "      <td>965637</td>\n",
              "      <td>NaN</td>\n",
              "    </tr>\n",
              "    <tr>\n",
              "      <th>4</th>\n",
              "      <td>11</td>\n",
              "      <td>12</td>\n",
              "      <td>50</td>\n",
              "      <td>9</td>\n",
              "      <td>317268</td>\n",
              "      <td>NaN</td>\n",
              "    </tr>\n",
              "  </tbody>\n",
              "</table>\n",
              "</div>"
            ],
            "text/plain": [
              "   user_id  num_of_problem  num_of_submit  submit_final  total_score  CK\n",
              "0        1               2              2             1        10000 NaN\n",
              "1        4              38             54            37       466000 NaN\n",
              "2        5               5              6             3        30000 NaN\n",
              "3        6              88            130            85       965637 NaN\n",
              "4       11              12             50             9       317268 NaN"
            ]
          },
          "metadata": {
            "tags": []
          },
          "execution_count": 218
        }
      ]
    },
    {
      "cell_type": "code",
      "metadata": {
        "colab": {
          "base_uri": "https://localhost:8080/",
          "height": 204
        },
        "id": "ji1FW4z4fnpa",
        "outputId": "c2e9f92d-8aff-44a6-936e-f6f4be478c34"
      },
      "source": [
        "#Xóa những hàng có CK là NaN khỏi train_data\n",
        "train_data.dropna(subset = ['CK'], inplace=True)\n",
        "\n",
        "train_data.head()"
      ],
      "execution_count": 219,
      "outputs": [
        {
          "output_type": "execute_result",
          "data": {
            "text/html": [
              "<div>\n",
              "<style scoped>\n",
              "    .dataframe tbody tr th:only-of-type {\n",
              "        vertical-align: middle;\n",
              "    }\n",
              "\n",
              "    .dataframe tbody tr th {\n",
              "        vertical-align: top;\n",
              "    }\n",
              "\n",
              "    .dataframe thead th {\n",
              "        text-align: right;\n",
              "    }\n",
              "</style>\n",
              "<table border=\"1\" class=\"dataframe\">\n",
              "  <thead>\n",
              "    <tr style=\"text-align: right;\">\n",
              "      <th></th>\n",
              "      <th>user_id</th>\n",
              "      <th>num_of_problem</th>\n",
              "      <th>num_of_submit</th>\n",
              "      <th>submit_final</th>\n",
              "      <th>total_score</th>\n",
              "      <th>CK</th>\n",
              "    </tr>\n",
              "  </thead>\n",
              "  <tbody>\n",
              "    <tr>\n",
              "      <th>8</th>\n",
              "      <td>24</td>\n",
              "      <td>77</td>\n",
              "      <td>164</td>\n",
              "      <td>72</td>\n",
              "      <td>1031674</td>\n",
              "      <td>9.5</td>\n",
              "    </tr>\n",
              "    <tr>\n",
              "      <th>9</th>\n",
              "      <td>27</td>\n",
              "      <td>5</td>\n",
              "      <td>13</td>\n",
              "      <td>3</td>\n",
              "      <td>52000</td>\n",
              "      <td>10.0</td>\n",
              "    </tr>\n",
              "    <tr>\n",
              "      <th>10</th>\n",
              "      <td>29</td>\n",
              "      <td>80</td>\n",
              "      <td>199</td>\n",
              "      <td>72</td>\n",
              "      <td>1225828</td>\n",
              "      <td>8.5</td>\n",
              "    </tr>\n",
              "    <tr>\n",
              "      <th>12</th>\n",
              "      <td>34</td>\n",
              "      <td>84</td>\n",
              "      <td>218</td>\n",
              "      <td>81</td>\n",
              "      <td>1206981</td>\n",
              "      <td>6.5</td>\n",
              "    </tr>\n",
              "    <tr>\n",
              "      <th>13</th>\n",
              "      <td>35</td>\n",
              "      <td>151</td>\n",
              "      <td>297</td>\n",
              "      <td>145</td>\n",
              "      <td>1809718</td>\n",
              "      <td>4.5</td>\n",
              "    </tr>\n",
              "  </tbody>\n",
              "</table>\n",
              "</div>"
            ],
            "text/plain": [
              "    user_id  num_of_problem  num_of_submit  submit_final  total_score    CK\n",
              "8        24              77            164            72      1031674   9.5\n",
              "9        27               5             13             3        52000  10.0\n",
              "10       29              80            199            72      1225828   8.5\n",
              "12       34              84            218            81      1206981   6.5\n",
              "13       35             151            297           145      1809718   4.5"
            ]
          },
          "metadata": {
            "tags": []
          },
          "execution_count": 219
        }
      ]
    },
    {
      "cell_type": "markdown",
      "metadata": {
        "id": "E2ed_CCqVihL"
      },
      "source": [
        "###**3. Trực quan dữ liệu**\n"
      ]
    },
    {
      "cell_type": "markdown",
      "metadata": {
        "id": "mhn_JMwv93RT"
      },
      "source": [
        "Biểu diễn đồ thị điểm **CK** bằng *Seabon distplot*, nhận thấy điểm số tập trung trong khoảng (5;9)"
      ]
    },
    {
      "cell_type": "code",
      "metadata": {
        "colab": {
          "base_uri": "https://localhost:8080/",
          "height": 333
        },
        "id": "kMr-ZlKrV4te",
        "outputId": "7ef41fa3-d1c6-45a5-c82e-1ff761de961d"
      },
      "source": [
        "ax = sb.distplot(train_data['CK'])"
      ],
      "execution_count": 220,
      "outputs": [
        {
          "output_type": "stream",
          "text": [
            "/usr/local/lib/python3.7/dist-packages/seaborn/distributions.py:2557: FutureWarning: `distplot` is a deprecated function and will be removed in a future version. Please adapt your code to use either `displot` (a figure-level function with similar flexibility) or `histplot` (an axes-level function for histograms).\n",
            "  warnings.warn(msg, FutureWarning)\n"
          ],
          "name": "stderr"
        },
        {
          "output_type": "display_data",
          "data": {
            "image/png": "[encoded data removed]",
            "text/plain": [
              "<Figure size 432x288 with 1 Axes>"
            ]
          },
          "metadata": {
            "tags": [],
            "needs_background": "light"
          }
        }
      ]
    },
    {
      "cell_type": "markdown",
      "metadata": {
        "id": "gnNc4na4CFzg"
      },
      "source": [
        "- Biểu diễn tương quan giữa các cột dữ liệu trong bảng **train_data** bằng *Scatter matrix plot*"
      ]
    },
    {
      "cell_type": "code",
      "metadata": {
        "colab": {
          "base_uri": "https://localhost:8080/",
          "height": 1000
        },
        "id": "Gabl6n0Na67J",
        "outputId": "b02c229e-62de-416d-e5b8-82b1979dab9f"
      },
      "source": [
        "d = train_data[['num_of_problem', 'num_of_submit', 'submit_final', 'CK', 'total_score']]\n",
        "\n",
        "scatter_matrix(d, alpha=0.2, figsize=(12, 10), diagonal=\"kde\")"
      ],
      "execution_count": 221,
      "outputs": [
        {
          "output_type": "execute_result",
          "data": {
            "text/plain": [
              "array([[<matplotlib.axes._subplots.AxesSubplot object at 0x7f7d82a963d0>,\n",
              "        <matplotlib.axes._subplots.AxesSubplot object at 0x7f7d827dc350>,\n",
              "        <matplotlib.axes._subplots.AxesSubplot object at 0x7f7d82897610>,\n",
              "        <matplotlib.axes._subplots.AxesSubplot object at 0x7f7d82911750>,\n",
              "        <matplotlib.axes._subplots.AxesSubplot object at 0x7f7d82999d90>],\n",
              "       [<matplotlib.axes._subplots.AxesSubplot object at 0x7f7d82a12e10>,\n",
              "        <matplotlib.axes._subplots.AxesSubplot object at 0x7f7d830ce090>,\n",
              "        <matplotlib.axes._subplots.AxesSubplot object at 0x7f7d8301e190>,\n",
              "        <matplotlib.axes._subplots.AxesSubplot object at 0x7f7d83132a90>,\n",
              "        <matplotlib.axes._subplots.AxesSubplot object at 0x7f7d83166390>],\n",
              "       [<matplotlib.axes._subplots.AxesSubplot object at 0x7f7d829e4850>,\n",
              "        <matplotlib.axes._subplots.AxesSubplot object at 0x7f7d81cf0ed0>,\n",
              "        <matplotlib.axes._subplots.AxesSubplot object at 0x7f7d81cb0590>,\n",
              "        <matplotlib.axes._subplots.AxesSubplot object at 0x7f7d81c66c10>,\n",
              "        <matplotlib.axes._subplots.AxesSubplot object at 0x7f7d81c262d0>],\n",
              "       [<matplotlib.axes._subplots.AxesSubplot object at 0x7f7d81bda950>,\n",
              "        <matplotlib.axes._subplots.AxesSubplot object at 0x7f7d81c12fd0>,\n",
              "        <matplotlib.axes._subplots.AxesSubplot object at 0x7f7d81bd1690>,\n",
              "        <matplotlib.axes._subplots.AxesSubplot object at 0x7f7d81b8ad10>,\n",
              "        <matplotlib.axes._subplots.AxesSubplot object at 0x7f7d81b4a3d0>],\n",
              "       [<matplotlib.axes._subplots.AxesSubplot object at 0x7f7d81b00a50>,\n",
              "        <matplotlib.axes._subplots.AxesSubplot object at 0x7f7d81ac3110>,\n",
              "        <matplotlib.axes._subplots.AxesSubplot object at 0x7f7d81a77790>,\n",
              "        <matplotlib.axes._subplots.AxesSubplot object at 0x7f7d81a30e10>,\n",
              "        <matplotlib.axes._subplots.AxesSubplot object at 0x7f7d819f24d0>]],\n",
              "      dtype=object)"
            ]
          },
          "metadata": {
            "tags": []
          },
          "execution_count": 221
        },
        {
          "output_type": "display_data",
          "data": {
            "image/png": "[encoded data removed]",
            "text/plain": [
              "<Figure size 864x720 with 25 Axes>"
            ]
          },
          "metadata": {
            "tags": [],
            "needs_background": "light"
          }
        }
      ]
    },
    {
      "cell_type": "markdown",
      "metadata": {
        "id": "XbCoaln2lAkf"
      },
      "source": [
        "##**II.2. Train model**\n",
        "\n",
        "Nhóm thực hiện train model với $y$ là điểm CK, $X$ là tỷ lệ **ratio** được tính theo 2 cách dưới đây."
      ]
    },
    {
      "cell_type": "markdown",
      "metadata": {
        "id": "87xz1a0KDe1_"
      },
      "source": [
        "###**Cách 1. Ratio_1:** \n",
        "Tính tỷ lệ **ratio\\_1** với biểu thức:\n",
        "\n",
        "$$ratio\\_1 = (\\frac{\\text{num_of_submit}}{\\text{num_of_problem}})^2 * (\\frac{\\text{submit_final}}{\\text{num_of_submit}})^2 * \\text{total_score}$$\n",
        "\n",
        "Đề đơn giản và gọn gàng thì em sẽ tạo 2 cột $x_1$ và $x_2$ để thực hiện các phép tính:\n",
        "\n",
        "$$x_1 =\\frac{\\text{num_of_submit}}{\\text{num_of_problem}}$$\n",
        "$$x_2 =\\frac{\\text{submit_final}}{\\text{num_of_submit}}$$\n",
        "\n",
        "$$\\to \\text{ratio_1} = x_1^2 * x_2^2 * \\text{total_score} $$"
      ]
    },
    {
      "cell_type": "code",
      "metadata": {
        "colab": {
          "base_uri": "https://localhost:8080/",
          "height": 419
        },
        "id": "M7zhFgtALzKz",
        "outputId": "a4904cf0-1243-4137-9f05-4efa2790a5e4"
      },
      "source": [
        "#Thêm cột ratio và tính toán giá trị cột\n",
        "train_data['x1'] = (train_data['num_of_submit']/train_data['num_of_problem'])\n",
        "train_data['x2'] = (train_data['submit_final']/train_data['num_of_submit'])\n",
        "train_data['ratio_1'] = train_data['x1'] **2 * train_data['x2']**2 * train_data['total_score']\n",
        "\n",
        "train_data\n"
      ],
      "execution_count": 222,
      "outputs": [
        {
          "output_type": "execute_result",
          "data": {
            "text/html": [
              "<div>\n",
              "<style scoped>\n",
              "    .dataframe tbody tr th:only-of-type {\n",
              "        vertical-align: middle;\n",
              "    }\n",
              "\n",
              "    .dataframe tbody tr th {\n",
              "        vertical-align: top;\n",
              "    }\n",
              "\n",
              "    .dataframe thead th {\n",
              "        text-align: right;\n",
              "    }\n",
              "</style>\n",
              "<table border=\"1\" class=\"dataframe\">\n",
              "  <thead>\n",
              "    <tr style=\"text-align: right;\">\n",
              "      <th></th>\n",
              "      <th>user_id</th>\n",
              "      <th>num_of_problem</th>\n",
              "      <th>num_of_submit</th>\n",
              "      <th>submit_final</th>\n",
              "      <th>total_score</th>\n",
              "      <th>CK</th>\n",
              "      <th>x1</th>\n",
              "      <th>x2</th>\n",
              "      <th>ratio_1</th>\n",
              "    </tr>\n",
              "  </thead>\n",
              "  <tbody>\n",
              "    <tr>\n",
              "      <th>8</th>\n",
              "      <td>24</td>\n",
              "      <td>77</td>\n",
              "      <td>164</td>\n",
              "      <td>72</td>\n",
              "      <td>1031674</td>\n",
              "      <td>9.5</td>\n",
              "      <td>2.129870</td>\n",
              "      <td>0.439024</td>\n",
              "      <td>9.020405e+05</td>\n",
              "    </tr>\n",
              "    <tr>\n",
              "      <th>9</th>\n",
              "      <td>27</td>\n",
              "      <td>5</td>\n",
              "      <td>13</td>\n",
              "      <td>3</td>\n",
              "      <td>52000</td>\n",
              "      <td>10.0</td>\n",
              "      <td>2.600000</td>\n",
              "      <td>0.230769</td>\n",
              "      <td>1.872000e+04</td>\n",
              "    </tr>\n",
              "    <tr>\n",
              "      <th>10</th>\n",
              "      <td>29</td>\n",
              "      <td>80</td>\n",
              "      <td>199</td>\n",
              "      <td>72</td>\n",
              "      <td>1225828</td>\n",
              "      <td>8.5</td>\n",
              "      <td>2.487500</td>\n",
              "      <td>0.361809</td>\n",
              "      <td>9.929207e+05</td>\n",
              "    </tr>\n",
              "    <tr>\n",
              "      <th>12</th>\n",
              "      <td>34</td>\n",
              "      <td>84</td>\n",
              "      <td>218</td>\n",
              "      <td>81</td>\n",
              "      <td>1206981</td>\n",
              "      <td>6.5</td>\n",
              "      <td>2.595238</td>\n",
              "      <td>0.371560</td>\n",
              "      <td>1.122308e+06</td>\n",
              "    </tr>\n",
              "    <tr>\n",
              "      <th>13</th>\n",
              "      <td>35</td>\n",
              "      <td>151</td>\n",
              "      <td>297</td>\n",
              "      <td>145</td>\n",
              "      <td>1809718</td>\n",
              "      <td>4.5</td>\n",
              "      <td>1.966887</td>\n",
              "      <td>0.488215</td>\n",
              "      <td>1.668757e+06</td>\n",
              "    </tr>\n",
              "    <tr>\n",
              "      <th>...</th>\n",
              "      <td>...</td>\n",
              "      <td>...</td>\n",
              "      <td>...</td>\n",
              "      <td>...</td>\n",
              "      <td>...</td>\n",
              "      <td>...</td>\n",
              "      <td>...</td>\n",
              "      <td>...</td>\n",
              "      <td>...</td>\n",
              "    </tr>\n",
              "    <tr>\n",
              "      <th>1131</th>\n",
              "      <td>1856</td>\n",
              "      <td>31</td>\n",
              "      <td>64</td>\n",
              "      <td>23</td>\n",
              "      <td>329074</td>\n",
              "      <td>7.5</td>\n",
              "      <td>2.064516</td>\n",
              "      <td>0.359375</td>\n",
              "      <td>1.811448e+05</td>\n",
              "    </tr>\n",
              "    <tr>\n",
              "      <th>1132</th>\n",
              "      <td>1857</td>\n",
              "      <td>40</td>\n",
              "      <td>55</td>\n",
              "      <td>37</td>\n",
              "      <td>389000</td>\n",
              "      <td>4.0</td>\n",
              "      <td>1.375000</td>\n",
              "      <td>0.672727</td>\n",
              "      <td>3.328381e+05</td>\n",
              "    </tr>\n",
              "    <tr>\n",
              "      <th>1133</th>\n",
              "      <td>1859</td>\n",
              "      <td>30</td>\n",
              "      <td>31</td>\n",
              "      <td>3</td>\n",
              "      <td>39000</td>\n",
              "      <td>1.5</td>\n",
              "      <td>1.033333</td>\n",
              "      <td>0.096774</td>\n",
              "      <td>3.900000e+02</td>\n",
              "    </tr>\n",
              "    <tr>\n",
              "      <th>1135</th>\n",
              "      <td>1862</td>\n",
              "      <td>6</td>\n",
              "      <td>12</td>\n",
              "      <td>4</td>\n",
              "      <td>40000</td>\n",
              "      <td>7.5</td>\n",
              "      <td>2.000000</td>\n",
              "      <td>0.333333</td>\n",
              "      <td>1.777778e+04</td>\n",
              "    </tr>\n",
              "    <tr>\n",
              "      <th>1137</th>\n",
              "      <td>1865</td>\n",
              "      <td>17</td>\n",
              "      <td>99</td>\n",
              "      <td>10</td>\n",
              "      <td>189460</td>\n",
              "      <td>7.5</td>\n",
              "      <td>5.823529</td>\n",
              "      <td>0.101010</td>\n",
              "      <td>6.555709e+04</td>\n",
              "    </tr>\n",
              "  </tbody>\n",
              "</table>\n",
              "<p>795 rows × 9 columns</p>\n",
              "</div>"
            ],
            "text/plain": [
              "      user_id  num_of_problem  num_of_submit  ...        x1        x2       ratio_1\n",
              "8          24              77            164  ...  2.129870  0.439024  9.020405e+05\n",
              "9          27               5             13  ...  2.600000  0.230769  1.872000e+04\n",
              "10         29              80            199  ...  2.487500  0.361809  9.929207e+05\n",
              "12         34              84            218  ...  2.595238  0.371560  1.122308e+06\n",
              "13         35             151            297  ...  1.966887  0.488215  1.668757e+06\n",
              "...       ...             ...            ...  ...       ...       ...           ...\n",
              "1131     1856              31             64  ...  2.064516  0.359375  1.811448e+05\n",
              "1132     1857              40             55  ...  1.375000  0.672727  3.328381e+05\n",
              "1133     1859              30             31  ...  1.033333  0.096774  3.900000e+02\n",
              "1135     1862               6             12  ...  2.000000  0.333333  1.777778e+04\n",
              "1137     1865              17             99  ...  5.823529  0.101010  6.555709e+04\n",
              "\n",
              "[795 rows x 9 columns]"
            ]
          },
          "metadata": {
            "tags": []
          },
          "execution_count": 222
        }
      ]
    },
    {
      "cell_type": "markdown",
      "metadata": {
        "id": "XD1hboVa4R1v"
      },
      "source": [
        "Trực quan hóa dữ liệu 2 cột ***ratio_1*** và ***CK*** bằng *scatter plot*\n",
        "\n"
      ]
    },
    {
      "cell_type": "code",
      "metadata": {
        "colab": {
          "base_uri": "https://localhost:8080/",
          "height": 406
        },
        "id": "U7fYyJY34QFx",
        "outputId": "8de4c0f8-4c47-4c6a-8611-a6032a760eba"
      },
      "source": [
        "fig, axs = plt.subplots(figsize=(10, 6))\n",
        "axs.scatter(train_data['ratio_1'], train_data['CK'])\n",
        "axs.set(xlabel = 'ratio_1', ylabel= 'CK')"
      ],
      "execution_count": 223,
      "outputs": [
        {
          "output_type": "execute_result",
          "data": {
            "text/plain": [
              "[Text(0, 0.5, 'CK'), Text(0.5, 0, 'ratio_1')]"
            ]
          },
          "metadata": {
            "tags": []
          },
          "execution_count": 223
        },
        {
          "output_type": "display_data",
          "data": {
            "image/png": "[encoded data removed]",
            "text/plain": [
              "<Figure size 720x432 with 1 Axes>"
            ]
          },
          "metadata": {
            "tags": [],
            "needs_background": "light"
          }
        }
      ]
    },
    {
      "cell_type": "markdown",
      "metadata": {
        "id": "rUKZCJ4bi8oY"
      },
      "source": [
        "Dùng *Linear Regression* từ Sklearn để xây dựng model"
      ]
    },
    {
      "cell_type": "code",
      "metadata": {
        "id": "JvwVkkiik9gD",
        "colab": {
          "base_uri": "https://localhost:8080/",
          "height": 406
        },
        "outputId": "00c6909c-9f15-441e-d44d-e2a9ab2d9a9c"
      },
      "source": [
        "X = np.array(train_data['ratio_1']).reshape(-1,1)\n",
        "Y = np.array(train_data['CK'])\n",
        "\n",
        "# Create linear regression object\n",
        "lr = linear_model.LinearRegression()\n",
        "\n",
        "# Chia data2.svc thành 70% dữ liệu cho train model, 30% dữ liệu cho test\n",
        "X_train, X_test, Y_train, Y_test = train_test_split(X, Y, test_size=0.3, random_state=0)\n",
        "\n",
        "# Train the model using the training sets\n",
        "lr.fit(X_train, Y_train)\n",
        "\n",
        "# Make predictions using the X_test in X\n",
        "data_y_pred = lr.predict(X_test)\n",
        "\n",
        "fig, axs = plt.subplots(figsize=(10, 6))\n",
        "axs.scatter(X_test, Y_test)\n",
        "axs.plot(X_test, data_y_pred, color='red', linewidth=2)\n",
        "axs.set(xlabel = 'ratio_1', ylabel= 'CK')\n",
        "\n",
        "# The mean squared error or (X_test, Y_test)\n",
        "print('Mean squared error: ', mean_squared_error(Y_test, data_y_pred))"
      ],
      "execution_count": 224,
      "outputs": [
        {
          "output_type": "stream",
          "text": [
            "Mean squared error:  4.141943098592643\n"
          ],
          "name": "stdout"
        },
        {
          "output_type": "display_data",
          "data": {
            "image/png": "[encoded data removed]",
            "text/plain": [
              "<Figure size 720x432 with 1 Axes>"
            ]
          },
          "metadata": {
            "tags": [],
            "needs_background": "light"
          }
        }
      ]
    },
    {
      "cell_type": "markdown",
      "metadata": {
        "id": "g7GpZxJSNGgX"
      },
      "source": [
        "###**Cách 2: Ratio_2** \n",
        "- Tính tỷ lệ **ratio\\_2** thông qua cách tạo các biến tạm $x_1$ và $x_2$\n",
        "\n",
        "$$\\text{ratio_2} = (\\frac{\\text{total_score}}{\\text{submit)final}})^2 * \\text{num_of_problem}$$"
      ]
    },
    {
      "cell_type": "code",
      "metadata": {
        "colab": {
          "base_uri": "https://localhost:8080/",
          "height": 439
        },
        "id": "0Tg7eXN24gH2",
        "outputId": "9a714939-0a71-475d-f6f1-1988c46c17e9"
      },
      "source": [
        "#Thêm cột ratio và tính toán giá trị cột\n",
        "train_data['ratio_2'] = (train_data['total_score'] / train_data['submit_final'])**2 * train_data['num_of_problem']\n",
        "\n",
        "train_data\n"
      ],
      "execution_count": 225,
      "outputs": [
        {
          "output_type": "execute_result",
          "data": {
            "text/html": [
              "<div>\n",
              "<style scoped>\n",
              "    .dataframe tbody tr th:only-of-type {\n",
              "        vertical-align: middle;\n",
              "    }\n",
              "\n",
              "    .dataframe tbody tr th {\n",
              "        vertical-align: top;\n",
              "    }\n",
              "\n",
              "    .dataframe thead th {\n",
              "        text-align: right;\n",
              "    }\n",
              "</style>\n",
              "<table border=\"1\" class=\"dataframe\">\n",
              "  <thead>\n",
              "    <tr style=\"text-align: right;\">\n",
              "      <th></th>\n",
              "      <th>user_id</th>\n",
              "      <th>num_of_problem</th>\n",
              "      <th>num_of_submit</th>\n",
              "      <th>submit_final</th>\n",
              "      <th>total_score</th>\n",
              "      <th>CK</th>\n",
              "      <th>x1</th>\n",
              "      <th>x2</th>\n",
              "      <th>ratio_1</th>\n",
              "      <th>ratio_2</th>\n",
              "    </tr>\n",
              "  </thead>\n",
              "  <tbody>\n",
              "    <tr>\n",
              "      <th>8</th>\n",
              "      <td>24</td>\n",
              "      <td>77</td>\n",
              "      <td>164</td>\n",
              "      <td>72</td>\n",
              "      <td>1031674</td>\n",
              "      <td>9.5</td>\n",
              "      <td>2.129870</td>\n",
              "      <td>0.439024</td>\n",
              "      <td>9.020405e+05</td>\n",
              "      <td>1.580923e+10</td>\n",
              "    </tr>\n",
              "    <tr>\n",
              "      <th>9</th>\n",
              "      <td>27</td>\n",
              "      <td>5</td>\n",
              "      <td>13</td>\n",
              "      <td>3</td>\n",
              "      <td>52000</td>\n",
              "      <td>10.0</td>\n",
              "      <td>2.600000</td>\n",
              "      <td>0.230769</td>\n",
              "      <td>1.872000e+04</td>\n",
              "      <td>1.502222e+09</td>\n",
              "    </tr>\n",
              "    <tr>\n",
              "      <th>10</th>\n",
              "      <td>29</td>\n",
              "      <td>80</td>\n",
              "      <td>199</td>\n",
              "      <td>72</td>\n",
              "      <td>1225828</td>\n",
              "      <td>8.5</td>\n",
              "      <td>2.487500</td>\n",
              "      <td>0.361809</td>\n",
              "      <td>9.929207e+05</td>\n",
              "      <td>2.318911e+10</td>\n",
              "    </tr>\n",
              "    <tr>\n",
              "      <th>12</th>\n",
              "      <td>34</td>\n",
              "      <td>84</td>\n",
              "      <td>218</td>\n",
              "      <td>81</td>\n",
              "      <td>1206981</td>\n",
              "      <td>6.5</td>\n",
              "      <td>2.595238</td>\n",
              "      <td>0.371560</td>\n",
              "      <td>1.122308e+06</td>\n",
              "      <td>1.865134e+10</td>\n",
              "    </tr>\n",
              "    <tr>\n",
              "      <th>13</th>\n",
              "      <td>35</td>\n",
              "      <td>151</td>\n",
              "      <td>297</td>\n",
              "      <td>145</td>\n",
              "      <td>1809718</td>\n",
              "      <td>4.5</td>\n",
              "      <td>1.966887</td>\n",
              "      <td>0.488215</td>\n",
              "      <td>1.668757e+06</td>\n",
              "      <td>2.352138e+10</td>\n",
              "    </tr>\n",
              "    <tr>\n",
              "      <th>...</th>\n",
              "      <td>...</td>\n",
              "      <td>...</td>\n",
              "      <td>...</td>\n",
              "      <td>...</td>\n",
              "      <td>...</td>\n",
              "      <td>...</td>\n",
              "      <td>...</td>\n",
              "      <td>...</td>\n",
              "      <td>...</td>\n",
              "      <td>...</td>\n",
              "    </tr>\n",
              "    <tr>\n",
              "      <th>1131</th>\n",
              "      <td>1856</td>\n",
              "      <td>31</td>\n",
              "      <td>64</td>\n",
              "      <td>23</td>\n",
              "      <td>329074</td>\n",
              "      <td>7.5</td>\n",
              "      <td>2.064516</td>\n",
              "      <td>0.359375</td>\n",
              "      <td>1.811448e+05</td>\n",
              "      <td>6.345899e+09</td>\n",
              "    </tr>\n",
              "    <tr>\n",
              "      <th>1132</th>\n",
              "      <td>1857</td>\n",
              "      <td>40</td>\n",
              "      <td>55</td>\n",
              "      <td>37</td>\n",
              "      <td>389000</td>\n",
              "      <td>4.0</td>\n",
              "      <td>1.375000</td>\n",
              "      <td>0.672727</td>\n",
              "      <td>3.328381e+05</td>\n",
              "      <td>4.421359e+09</td>\n",
              "    </tr>\n",
              "    <tr>\n",
              "      <th>1133</th>\n",
              "      <td>1859</td>\n",
              "      <td>30</td>\n",
              "      <td>31</td>\n",
              "      <td>3</td>\n",
              "      <td>39000</td>\n",
              "      <td>1.5</td>\n",
              "      <td>1.033333</td>\n",
              "      <td>0.096774</td>\n",
              "      <td>3.900000e+02</td>\n",
              "      <td>5.070000e+09</td>\n",
              "    </tr>\n",
              "    <tr>\n",
              "      <th>1135</th>\n",
              "      <td>1862</td>\n",
              "      <td>6</td>\n",
              "      <td>12</td>\n",
              "      <td>4</td>\n",
              "      <td>40000</td>\n",
              "      <td>7.5</td>\n",
              "      <td>2.000000</td>\n",
              "      <td>0.333333</td>\n",
              "      <td>1.777778e+04</td>\n",
              "      <td>6.000000e+08</td>\n",
              "    </tr>\n",
              "    <tr>\n",
              "      <th>1137</th>\n",
              "      <td>1865</td>\n",
              "      <td>17</td>\n",
              "      <td>99</td>\n",
              "      <td>10</td>\n",
              "      <td>189460</td>\n",
              "      <td>7.5</td>\n",
              "      <td>5.823529</td>\n",
              "      <td>0.101010</td>\n",
              "      <td>6.555709e+04</td>\n",
              "      <td>6.102166e+09</td>\n",
              "    </tr>\n",
              "  </tbody>\n",
              "</table>\n",
              "<p>795 rows × 10 columns</p>\n",
              "</div>"
            ],
            "text/plain": [
              "      user_id  num_of_problem  ...       ratio_1       ratio_2\n",
              "8          24              77  ...  9.020405e+05  1.580923e+10\n",
              "9          27               5  ...  1.872000e+04  1.502222e+09\n",
              "10         29              80  ...  9.929207e+05  2.318911e+10\n",
              "12         34              84  ...  1.122308e+06  1.865134e+10\n",
              "13         35             151  ...  1.668757e+06  2.352138e+10\n",
              "...       ...             ...  ...           ...           ...\n",
              "1131     1856              31  ...  1.811448e+05  6.345899e+09\n",
              "1132     1857              40  ...  3.328381e+05  4.421359e+09\n",
              "1133     1859              30  ...  3.900000e+02  5.070000e+09\n",
              "1135     1862               6  ...  1.777778e+04  6.000000e+08\n",
              "1137     1865              17  ...  6.555709e+04  6.102166e+09\n",
              "\n",
              "[795 rows x 10 columns]"
            ]
          },
          "metadata": {
            "tags": []
          },
          "execution_count": 225
        }
      ]
    },
    {
      "cell_type": "markdown",
      "metadata": {
        "id": "rRSwcAKN9HIN"
      },
      "source": [
        "Trực quan hóa dữ liệu 2 cột ***ratio_2*** và ***CK*** bằng *scatter plot*\n"
      ]
    },
    {
      "cell_type": "code",
      "metadata": {
        "colab": {
          "base_uri": "https://localhost:8080/",
          "height": 406
        },
        "id": "ykdy_jdt4aoY",
        "outputId": "c1d15902-0b53-4d86-a5fe-537880c21d6d"
      },
      "source": [
        "#https://pandas.pydata.org/pandas-docs/stable/user_guide/visualization.html\n",
        "\n",
        "fig, axs = plt.subplots(figsize=(10, 6))\n",
        "axs.scatter(train_data['ratio_2'], train_data['CK'])\n",
        "axs.set(xlabel = 'ratio_2', ylabel= 'CK')"
      ],
      "execution_count": 226,
      "outputs": [
        {
          "output_type": "execute_result",
          "data": {
            "text/plain": [
              "[Text(0, 0.5, 'CK'), Text(0.5, 0, 'ratio_2')]"
            ]
          },
          "metadata": {
            "tags": []
          },
          "execution_count": 226
        },
        {
          "output_type": "display_data",
          "data": {
            "image/png": "[encoded data removed]",
            "text/plain": [
              "<Figure size 720x432 with 1 Axes>"
            ]
          },
          "metadata": {
            "tags": [],
            "needs_background": "light"
          }
        }
      ]
    },
    {
      "cell_type": "markdown",
      "metadata": {
        "id": "yL-l_UvI9RJG"
      },
      "source": [
        "Dùng *Linear Regression* từ Sklearn để xây dựng model"
      ]
    },
    {
      "cell_type": "code",
      "metadata": {
        "colab": {
          "base_uri": "https://localhost:8080/",
          "height": 406
        },
        "id": "vB7mGp6kk19p",
        "outputId": "bc0558ef-ee2f-474c-950b-c5c88e79895c"
      },
      "source": [
        "X = np.array(train_data['ratio_2']).reshape(-1,1)\n",
        "Y = np.array(train_data['CK'])\n",
        "\n",
        "# Create linear regression object\n",
        "lr = linear_model.LinearRegression()\n",
        "\n",
        "# Chia data2.svc thành 70% dữ liệu cho train model, 30% dữ liệu cho test\n",
        "X_train, X_test, Y_train, Y_test = train_test_split(X, Y, test_size=0.3, random_state=0)\n",
        "\n",
        "# Train the model using the training sets\n",
        "lr.fit(X_train, Y_train)\n",
        "\n",
        "# Make predictions using the X_test in X\n",
        "data_y_pred = lr.predict(X_test)\n",
        "\n",
        "fig, axs = plt.subplots(figsize=(10, 6))\n",
        "axs.scatter(X_test, Y_test)\n",
        "axs.plot(X_test, data_y_pred, color='red', linewidth=2)\n",
        "axs.set(xlabel = 'ratio_2', ylabel= 'CK')\n",
        "\n",
        "# The mean squared error or (X_test, Y_test)\n",
        "print('Mean squared error: ', mean_squared_error(Y_test, data_y_pred))"
      ],
      "execution_count": 227,
      "outputs": [
        {
          "output_type": "stream",
          "text": [
            "Mean squared error:  4.132898147937121\n"
          ],
          "name": "stdout"
        },
        {
          "output_type": "display_data",
          "data": {
            "image/png": "[encoded data removed]",
            "text/plain": [
              "<Figure size 720x432 with 1 Axes>"
            ]
          },
          "metadata": {
            "tags": [],
            "needs_background": "light"
          }
        }
      ]
    },
    {
      "cell_type": "markdown",
      "metadata": {
        "id": "R9gp_l7JNDzf"
      },
      "source": [
        "##**II.2. Nhận xét**\n",
        "\n",
        "- Điểm cuối kỳ và các thông số trong file wecode không tuyến tính với nhau. Với các num_of_problem, num_of_submit\tsubmit_final, total_score\tmà nhóm đã trích và lấy ra đều có một dạng chung khi biểu diễn với điểm CK bằng scatter là các user_id có điểm số CK tập trung nhiều trong khoảng nữa trái giá trị của các num_of_problem, num_of_submit, submit_final\ttotal_score.\n",
        "  - Ví dụ: Với cột num_of_problem thì các user_id có điểm tập trung nhiều trong khoảng [0:150]\n",
        "\n",
        "- Với các thông số nhóm đã trích xuất và đã thử nhiều biểu thức khác nhau để tìm ra **ratio** thì MSE dao động trong khoảng 4.5(có thể có chênh lệch 0.4). Biểu thức tốt nhất mà nhóm tìm được là **ratio_2** *(Cách 2)* với MSE là 4.132898147937121\n",
        "\n",
        "- Một điều nữa là em thấy linear regression không sử dụng tốt trong trường hợp có nhiều cột dữ liệu không tuyến tính với dữ liệu cần dự đoán và dữ liệu cần dự đoán phụ thuộc vào các đối tượng là con người *(ví dụ như là điểm CK phụ thuộc vào ý chí và siêng năng của sinh viên)*."
      ]
    },
    {
      "cell_type": "markdown",
      "metadata": {
        "id": "K4pg_JterNL4"
      },
      "source": [
        "#**III. Xử lý Hướng 2**"
      ]
    },
    {
      "cell_type": "markdown",
      "metadata": {
        "id": "fZjJmvbSxqtx"
      },
      "source": [
        "##**III.1. Xử lý data**"
      ]
    },
    {
      "cell_type": "markdown",
      "metadata": {
        "id": "Nq8kDQNIx0Li"
      },
      "source": [
        "###**1. Xử lý file wecode.csv**"
      ]
    },
    {
      "cell_type": "markdown",
      "metadata": {
        "id": "yL6BqloUy_4n"
      },
      "source": [
        "- Sau khi sắp xếp xong, tụi em thực hiện đếm các giá trị. Mỗi giá trị đếm sẽ được thêm vào một bảng riêng và cuối cùng sẽ merge các bảng lại với nhau. Ở đây có 4 bảng là:\n",
        "  1. ***total_submit:*** đếm số lần submit của mỗi user_id, tính cả lần submit đúng và sai (is_final = 0 hoặc 1)\n",
        "  2. ***submit_final***: Đếm số lần mà user_id submit thành công cuối cùng (is_final = 1).\n",
        "  3. ***total_score***: tính tổng số điểm của mỗi user_id. "
      ]
    },
    {
      "cell_type": "code",
      "metadata": {
        "colab": {
          "base_uri": "https://localhost:8080/",
          "height": 204
        },
        "id": "4qYi9sms0wDZ",
        "outputId": "87eabd2b-8edf-428d-f54a-6b8008fd7d49"
      },
      "source": [
        "# Đếm số lần submit mà mỗi user_id đã làm \n",
        "total_submit_2 = df_wecode[df_wecode['pre_score'] >= 0].groupby('user_id')['user_id'].count().reset_index(name='num_of_submit')\n",
        "\n",
        "total_submit_2.head()"
      ],
      "execution_count": 228,
      "outputs": [
        {
          "output_type": "execute_result",
          "data": {
            "text/html": [
              "<div>\n",
              "<style scoped>\n",
              "    .dataframe tbody tr th:only-of-type {\n",
              "        vertical-align: middle;\n",
              "    }\n",
              "\n",
              "    .dataframe tbody tr th {\n",
              "        vertical-align: top;\n",
              "    }\n",
              "\n",
              "    .dataframe thead th {\n",
              "        text-align: right;\n",
              "    }\n",
              "</style>\n",
              "<table border=\"1\" class=\"dataframe\">\n",
              "  <thead>\n",
              "    <tr style=\"text-align: right;\">\n",
              "      <th></th>\n",
              "      <th>user_id</th>\n",
              "      <th>num_of_submit</th>\n",
              "    </tr>\n",
              "  </thead>\n",
              "  <tbody>\n",
              "    <tr>\n",
              "      <th>0</th>\n",
              "      <td>1</td>\n",
              "      <td>2</td>\n",
              "    </tr>\n",
              "    <tr>\n",
              "      <th>1</th>\n",
              "      <td>4</td>\n",
              "      <td>54</td>\n",
              "    </tr>\n",
              "    <tr>\n",
              "      <th>2</th>\n",
              "      <td>5</td>\n",
              "      <td>6</td>\n",
              "    </tr>\n",
              "    <tr>\n",
              "      <th>3</th>\n",
              "      <td>6</td>\n",
              "      <td>130</td>\n",
              "    </tr>\n",
              "    <tr>\n",
              "      <th>4</th>\n",
              "      <td>7</td>\n",
              "      <td>5</td>\n",
              "    </tr>\n",
              "  </tbody>\n",
              "</table>\n",
              "</div>"
            ],
            "text/plain": [
              "   user_id  num_of_submit\n",
              "0        1              2\n",
              "1        4             54\n",
              "2        5              6\n",
              "3        6            130\n",
              "4        7              5"
            ]
          },
          "metadata": {
            "tags": []
          },
          "execution_count": 228
        }
      ]
    },
    {
      "cell_type": "code",
      "metadata": {
        "colab": {
          "base_uri": "https://localhost:8080/",
          "height": 204
        },
        "id": "2I8l-Ewb0wRh",
        "outputId": "52dfdc63-0d8a-46dc-d561-7a0c21edf409"
      },
      "source": [
        "# Đếm số lần submit cuối cùng (is_final = 1) mà mỗi user_id đã làm \n",
        "submit_final_2 = df_wecode[df_wecode['is_final'] == 1].groupby('user_id')['is_final'].count().reset_index(name='submit_final')\n",
        "\n",
        "submit_final_2.head()"
      ],
      "execution_count": 229,
      "outputs": [
        {
          "output_type": "execute_result",
          "data": {
            "text/html": [
              "<div>\n",
              "<style scoped>\n",
              "    .dataframe tbody tr th:only-of-type {\n",
              "        vertical-align: middle;\n",
              "    }\n",
              "\n",
              "    .dataframe tbody tr th {\n",
              "        vertical-align: top;\n",
              "    }\n",
              "\n",
              "    .dataframe thead th {\n",
              "        text-align: right;\n",
              "    }\n",
              "</style>\n",
              "<table border=\"1\" class=\"dataframe\">\n",
              "  <thead>\n",
              "    <tr style=\"text-align: right;\">\n",
              "      <th></th>\n",
              "      <th>user_id</th>\n",
              "      <th>submit_final</th>\n",
              "    </tr>\n",
              "  </thead>\n",
              "  <tbody>\n",
              "    <tr>\n",
              "      <th>0</th>\n",
              "      <td>1</td>\n",
              "      <td>2</td>\n",
              "    </tr>\n",
              "    <tr>\n",
              "      <th>1</th>\n",
              "      <td>4</td>\n",
              "      <td>38</td>\n",
              "    </tr>\n",
              "    <tr>\n",
              "      <th>2</th>\n",
              "      <td>5</td>\n",
              "      <td>5</td>\n",
              "    </tr>\n",
              "    <tr>\n",
              "      <th>3</th>\n",
              "      <td>6</td>\n",
              "      <td>88</td>\n",
              "    </tr>\n",
              "    <tr>\n",
              "      <th>4</th>\n",
              "      <td>7</td>\n",
              "      <td>2</td>\n",
              "    </tr>\n",
              "  </tbody>\n",
              "</table>\n",
              "</div>"
            ],
            "text/plain": [
              "   user_id  submit_final\n",
              "0        1             2\n",
              "1        4            38\n",
              "2        5             5\n",
              "3        6            88\n",
              "4        7             2"
            ]
          },
          "metadata": {
            "tags": []
          },
          "execution_count": 229
        }
      ]
    },
    {
      "cell_type": "code",
      "metadata": {
        "colab": {
          "base_uri": "https://localhost:8080/",
          "height": 204
        },
        "id": "33sjr7OR0wdI",
        "outputId": "81d5d8e8-bfec-4772-9360-ee7e5159ea9e"
      },
      "source": [
        "# tổng số điểm mà mỗi user_id đã làm \n",
        "total_score_2 = df_wecode[df_wecode['pre_score'] > 0].groupby('user_id')['pre_score'].sum().reset_index(name='total_score')\n",
        "\n",
        "total_score_2.head()"
      ],
      "execution_count": 230,
      "outputs": [
        {
          "output_type": "execute_result",
          "data": {
            "text/html": [
              "<div>\n",
              "<style scoped>\n",
              "    .dataframe tbody tr th:only-of-type {\n",
              "        vertical-align: middle;\n",
              "    }\n",
              "\n",
              "    .dataframe tbody tr th {\n",
              "        vertical-align: top;\n",
              "    }\n",
              "\n",
              "    .dataframe thead th {\n",
              "        text-align: right;\n",
              "    }\n",
              "</style>\n",
              "<table border=\"1\" class=\"dataframe\">\n",
              "  <thead>\n",
              "    <tr style=\"text-align: right;\">\n",
              "      <th></th>\n",
              "      <th>user_id</th>\n",
              "      <th>total_score</th>\n",
              "    </tr>\n",
              "  </thead>\n",
              "  <tbody>\n",
              "    <tr>\n",
              "      <th>0</th>\n",
              "      <td>1</td>\n",
              "      <td>10000</td>\n",
              "    </tr>\n",
              "    <tr>\n",
              "      <th>1</th>\n",
              "      <td>4</td>\n",
              "      <td>466000</td>\n",
              "    </tr>\n",
              "    <tr>\n",
              "      <th>2</th>\n",
              "      <td>5</td>\n",
              "      <td>30000</td>\n",
              "    </tr>\n",
              "    <tr>\n",
              "      <th>3</th>\n",
              "      <td>6</td>\n",
              "      <td>965637</td>\n",
              "    </tr>\n",
              "    <tr>\n",
              "      <th>4</th>\n",
              "      <td>7</td>\n",
              "      <td>18843</td>\n",
              "    </tr>\n",
              "  </tbody>\n",
              "</table>\n",
              "</div>"
            ],
            "text/plain": [
              "   user_id  total_score\n",
              "0        1        10000\n",
              "1        4       466000\n",
              "2        5        30000\n",
              "3        6       965637\n",
              "4        7        18843"
            ]
          },
          "metadata": {
            "tags": []
          },
          "execution_count": 230
        }
      ]
    },
    {
      "cell_type": "markdown",
      "metadata": {
        "id": "adGSpEq_y_4o"
      },
      "source": [
        "- merge tất cả các bảng trên thành một bảng duy nhất là **df_wecode**"
      ]
    },
    {
      "cell_type": "code",
      "metadata": {
        "colab": {
          "base_uri": "https://localhost:8080/",
          "height": 204
        },
        "id": "aUUqujJVy_4o",
        "outputId": "f1f6340a-ba22-4f9b-e08f-90f8b9fbead5"
      },
      "source": [
        "#merge total_problem vs total_submit vs submit_final\n",
        "#https://www.geeksforgeeks.org/how-to-merge-two-csv-files-by-specific-column-using-pandas-in-python/\n",
        "  \n",
        "merge_2 = pd.merge(total_submit_2, submit_final_2,\n",
        "                   on='user_id', \n",
        "                   how='inner')\n",
        "merge_wecode_2 = pd.merge(merge_2, total_score_2,\n",
        "                        on='user_id', \n",
        "                        how='inner')\n",
        "\n",
        "# displaying result\n",
        "merge_wecode_2.head()"
      ],
      "execution_count": 231,
      "outputs": [
        {
          "output_type": "execute_result",
          "data": {
            "text/html": [
              "<div>\n",
              "<style scoped>\n",
              "    .dataframe tbody tr th:only-of-type {\n",
              "        vertical-align: middle;\n",
              "    }\n",
              "\n",
              "    .dataframe tbody tr th {\n",
              "        vertical-align: top;\n",
              "    }\n",
              "\n",
              "    .dataframe thead th {\n",
              "        text-align: right;\n",
              "    }\n",
              "</style>\n",
              "<table border=\"1\" class=\"dataframe\">\n",
              "  <thead>\n",
              "    <tr style=\"text-align: right;\">\n",
              "      <th></th>\n",
              "      <th>user_id</th>\n",
              "      <th>num_of_submit</th>\n",
              "      <th>submit_final</th>\n",
              "      <th>total_score</th>\n",
              "    </tr>\n",
              "  </thead>\n",
              "  <tbody>\n",
              "    <tr>\n",
              "      <th>0</th>\n",
              "      <td>1</td>\n",
              "      <td>2</td>\n",
              "      <td>2</td>\n",
              "      <td>10000</td>\n",
              "    </tr>\n",
              "    <tr>\n",
              "      <th>1</th>\n",
              "      <td>4</td>\n",
              "      <td>54</td>\n",
              "      <td>38</td>\n",
              "      <td>466000</td>\n",
              "    </tr>\n",
              "    <tr>\n",
              "      <th>2</th>\n",
              "      <td>5</td>\n",
              "      <td>6</td>\n",
              "      <td>5</td>\n",
              "      <td>30000</td>\n",
              "    </tr>\n",
              "    <tr>\n",
              "      <th>3</th>\n",
              "      <td>6</td>\n",
              "      <td>130</td>\n",
              "      <td>88</td>\n",
              "      <td>965637</td>\n",
              "    </tr>\n",
              "    <tr>\n",
              "      <th>4</th>\n",
              "      <td>7</td>\n",
              "      <td>5</td>\n",
              "      <td>2</td>\n",
              "      <td>18843</td>\n",
              "    </tr>\n",
              "  </tbody>\n",
              "</table>\n",
              "</div>"
            ],
            "text/plain": [
              "   user_id  num_of_submit  submit_final  total_score\n",
              "0        1              2             2        10000\n",
              "1        4             54            38       466000\n",
              "2        5              6             5        30000\n",
              "3        6            130            88       965637\n",
              "4        7              5             2        18843"
            ]
          },
          "metadata": {
            "tags": []
          },
          "execution_count": 231
        }
      ]
    },
    {
      "cell_type": "markdown",
      "metadata": {
        "id": "4I0llVmFx4wo"
      },
      "source": [
        "###**2. Xử lý file score_training.csv**"
      ]
    },
    {
      "cell_type": "markdown",
      "metadata": {
        "id": "2xygGyCa0JjM"
      },
      "source": [
        "- Tiếp theo là merge 2 bảng là bảng **merge_wecode_2** và **df_score**. Ở đây dùng join left theo merge_wecode, bởi nhiều dữ liệu bên merge_wecode có nhưng bên df_score lại không và những cái thiếu bên df_score là những cái cần dự đoán.\n",
        "- những dữ liệu thiếu bên cột CK sẽ thành NaN"
      ]
    },
    {
      "cell_type": "code",
      "metadata": {
        "colab": {
          "base_uri": "https://localhost:8080/",
          "height": 419
        },
        "id": "fRrOXJ8N0JjN",
        "outputId": "bd488c4e-a0b9-4617-8288-b0f07f018e5c"
      },
      "source": [
        "#merge table \"merge_wecode_2\" (wecode.csv) vs table \"df_score\" (training_score.csv)\n",
        "train_data_2 = pd.merge(merge_wecode_2, df_score,\n",
        "                   on='user_id', \n",
        "                   how='left')\n",
        "  \n",
        "# displaying result\n",
        "train_data_2"
      ],
      "execution_count": 232,
      "outputs": [
        {
          "output_type": "execute_result",
          "data": {
            "text/html": [
              "<div>\n",
              "<style scoped>\n",
              "    .dataframe tbody tr th:only-of-type {\n",
              "        vertical-align: middle;\n",
              "    }\n",
              "\n",
              "    .dataframe tbody tr th {\n",
              "        vertical-align: top;\n",
              "    }\n",
              "\n",
              "    .dataframe thead th {\n",
              "        text-align: right;\n",
              "    }\n",
              "</style>\n",
              "<table border=\"1\" class=\"dataframe\">\n",
              "  <thead>\n",
              "    <tr style=\"text-align: right;\">\n",
              "      <th></th>\n",
              "      <th>user_id</th>\n",
              "      <th>num_of_submit</th>\n",
              "      <th>submit_final</th>\n",
              "      <th>total_score</th>\n",
              "      <th>CK</th>\n",
              "    </tr>\n",
              "  </thead>\n",
              "  <tbody>\n",
              "    <tr>\n",
              "      <th>0</th>\n",
              "      <td>1</td>\n",
              "      <td>2</td>\n",
              "      <td>2</td>\n",
              "      <td>10000</td>\n",
              "      <td>NaN</td>\n",
              "    </tr>\n",
              "    <tr>\n",
              "      <th>1</th>\n",
              "      <td>4</td>\n",
              "      <td>54</td>\n",
              "      <td>38</td>\n",
              "      <td>466000</td>\n",
              "      <td>NaN</td>\n",
              "    </tr>\n",
              "    <tr>\n",
              "      <th>2</th>\n",
              "      <td>5</td>\n",
              "      <td>6</td>\n",
              "      <td>5</td>\n",
              "      <td>30000</td>\n",
              "      <td>NaN</td>\n",
              "    </tr>\n",
              "    <tr>\n",
              "      <th>3</th>\n",
              "      <td>6</td>\n",
              "      <td>130</td>\n",
              "      <td>88</td>\n",
              "      <td>965637</td>\n",
              "      <td>NaN</td>\n",
              "    </tr>\n",
              "    <tr>\n",
              "      <th>4</th>\n",
              "      <td>7</td>\n",
              "      <td>5</td>\n",
              "      <td>2</td>\n",
              "      <td>18843</td>\n",
              "      <td>NaN</td>\n",
              "    </tr>\n",
              "    <tr>\n",
              "      <th>...</th>\n",
              "      <td>...</td>\n",
              "      <td>...</td>\n",
              "      <td>...</td>\n",
              "      <td>...</td>\n",
              "      <td>...</td>\n",
              "    </tr>\n",
              "    <tr>\n",
              "      <th>1139</th>\n",
              "      <td>1860</td>\n",
              "      <td>76</td>\n",
              "      <td>48</td>\n",
              "      <td>405440</td>\n",
              "      <td>NaN</td>\n",
              "    </tr>\n",
              "    <tr>\n",
              "      <th>1140</th>\n",
              "      <td>1862</td>\n",
              "      <td>12</td>\n",
              "      <td>6</td>\n",
              "      <td>40000</td>\n",
              "      <td>7.5</td>\n",
              "    </tr>\n",
              "    <tr>\n",
              "      <th>1141</th>\n",
              "      <td>1864</td>\n",
              "      <td>187</td>\n",
              "      <td>63</td>\n",
              "      <td>563292</td>\n",
              "      <td>NaN</td>\n",
              "    </tr>\n",
              "    <tr>\n",
              "      <th>1142</th>\n",
              "      <td>1865</td>\n",
              "      <td>99</td>\n",
              "      <td>17</td>\n",
              "      <td>189460</td>\n",
              "      <td>7.5</td>\n",
              "    </tr>\n",
              "    <tr>\n",
              "      <th>1143</th>\n",
              "      <td>1868</td>\n",
              "      <td>47</td>\n",
              "      <td>27</td>\n",
              "      <td>390000</td>\n",
              "      <td>NaN</td>\n",
              "    </tr>\n",
              "  </tbody>\n",
              "</table>\n",
              "<p>1144 rows × 5 columns</p>\n",
              "</div>"
            ],
            "text/plain": [
              "      user_id  num_of_submit  submit_final  total_score   CK\n",
              "0           1              2             2        10000  NaN\n",
              "1           4             54            38       466000  NaN\n",
              "2           5              6             5        30000  NaN\n",
              "3           6            130            88       965637  NaN\n",
              "4           7              5             2        18843  NaN\n",
              "...       ...            ...           ...          ...  ...\n",
              "1139     1860             76            48       405440  NaN\n",
              "1140     1862             12             6        40000  7.5\n",
              "1141     1864            187            63       563292  NaN\n",
              "1142     1865             99            17       189460  7.5\n",
              "1143     1868             47            27       390000  NaN\n",
              "\n",
              "[1144 rows x 5 columns]"
            ]
          },
          "metadata": {
            "tags": []
          },
          "execution_count": 232
        }
      ]
    },
    {
      "cell_type": "markdown",
      "metadata": {
        "id": "HxP7bFdU1oAX"
      },
      "source": [
        "- Hiện thị kiểu dữ liệu của từng cột trong bảng train_data\n"
      ]
    },
    {
      "cell_type": "code",
      "metadata": {
        "colab": {
          "base_uri": "https://localhost:8080/"
        },
        "id": "mDykgfYo1hUj",
        "outputId": "22598c15-f2ad-4c13-aac1-69cce36a0920"
      },
      "source": [
        "print(train_data_2.dtypes)"
      ],
      "execution_count": 233,
      "outputs": [
        {
          "output_type": "stream",
          "text": [
            "user_id           int64\n",
            "num_of_submit     int64\n",
            "submit_final      int64\n",
            "total_score       int64\n",
            "CK               object\n",
            "dtype: object\n"
          ],
          "name": "stdout"
        }
      ]
    },
    {
      "cell_type": "markdown",
      "metadata": {
        "id": "3lQRL3m2dWt5"
      },
      "source": [
        "- Sau khi merge tất cả lại ta được bảng là **train_data**. Bước tiếp theo sẽ tính **ratio** *(tỷ lệ) được tính bằng:\n",
        "  $$\\text{ratio} = \\frac{\\text{submit_final}}{\\text{num_of_submit}} * \\text{total_score}$$"
      ]
    },
    {
      "cell_type": "code",
      "metadata": {
        "colab": {
          "base_uri": "https://localhost:8080/",
          "height": 204
        },
        "id": "1LnfBuh50JjP",
        "outputId": "ebe135cd-6f91-4a64-885c-ce67beb2cd65"
      },
      "source": [
        "#chuyển CK từ object->float64. do dữ liệu lúc đầu cột CK là object\n",
        "train_data_2[\"CK\"] = pd.to_numeric(train_data_2['CK'], errors='coerce')\n",
        "\n",
        "#Thêm cột ratio và tính toán giá trị cột\n",
        "train_data_2['ratio'] = ((train_data_2['submit_final']/train_data_2['num_of_submit']))*train_data_2['total_score']\n",
        "\n",
        "train_data_2.head()\n"
      ],
      "execution_count": 234,
      "outputs": [
        {
          "output_type": "execute_result",
          "data": {
            "text/html": [
              "<div>\n",
              "<style scoped>\n",
              "    .dataframe tbody tr th:only-of-type {\n",
              "        vertical-align: middle;\n",
              "    }\n",
              "\n",
              "    .dataframe tbody tr th {\n",
              "        vertical-align: top;\n",
              "    }\n",
              "\n",
              "    .dataframe thead th {\n",
              "        text-align: right;\n",
              "    }\n",
              "</style>\n",
              "<table border=\"1\" class=\"dataframe\">\n",
              "  <thead>\n",
              "    <tr style=\"text-align: right;\">\n",
              "      <th></th>\n",
              "      <th>user_id</th>\n",
              "      <th>num_of_submit</th>\n",
              "      <th>submit_final</th>\n",
              "      <th>total_score</th>\n",
              "      <th>CK</th>\n",
              "      <th>ratio</th>\n",
              "    </tr>\n",
              "  </thead>\n",
              "  <tbody>\n",
              "    <tr>\n",
              "      <th>0</th>\n",
              "      <td>1</td>\n",
              "      <td>2</td>\n",
              "      <td>2</td>\n",
              "      <td>10000</td>\n",
              "      <td>NaN</td>\n",
              "      <td>10000.000000</td>\n",
              "    </tr>\n",
              "    <tr>\n",
              "      <th>1</th>\n",
              "      <td>4</td>\n",
              "      <td>54</td>\n",
              "      <td>38</td>\n",
              "      <td>466000</td>\n",
              "      <td>NaN</td>\n",
              "      <td>327925.925926</td>\n",
              "    </tr>\n",
              "    <tr>\n",
              "      <th>2</th>\n",
              "      <td>5</td>\n",
              "      <td>6</td>\n",
              "      <td>5</td>\n",
              "      <td>30000</td>\n",
              "      <td>NaN</td>\n",
              "      <td>25000.000000</td>\n",
              "    </tr>\n",
              "    <tr>\n",
              "      <th>3</th>\n",
              "      <td>6</td>\n",
              "      <td>130</td>\n",
              "      <td>88</td>\n",
              "      <td>965637</td>\n",
              "      <td>NaN</td>\n",
              "      <td>653661.969231</td>\n",
              "    </tr>\n",
              "    <tr>\n",
              "      <th>4</th>\n",
              "      <td>7</td>\n",
              "      <td>5</td>\n",
              "      <td>2</td>\n",
              "      <td>18843</td>\n",
              "      <td>NaN</td>\n",
              "      <td>7537.200000</td>\n",
              "    </tr>\n",
              "  </tbody>\n",
              "</table>\n",
              "</div>"
            ],
            "text/plain": [
              "   user_id  num_of_submit  submit_final  total_score  CK          ratio\n",
              "0        1              2             2        10000 NaN   10000.000000\n",
              "1        4             54            38       466000 NaN  327925.925926\n",
              "2        5              6             5        30000 NaN   25000.000000\n",
              "3        6            130            88       965637 NaN  653661.969231\n",
              "4        7              5             2        18843 NaN    7537.200000"
            ]
          },
          "metadata": {
            "tags": []
          },
          "execution_count": 234
        }
      ]
    },
    {
      "cell_type": "markdown",
      "metadata": {
        "id": "_InvPnLd0JjQ"
      },
      "source": [
        "- Để cột CK là dự đoán cần tách những hàng có giá trị CK là NaN ra để làm test dự đoán.\n",
        "- Sau khi tách thì xóa những hàng có CK NaN ra train_data để thực hiện dự đoán model."
      ]
    },
    {
      "cell_type": "code",
      "metadata": {
        "colab": {
          "base_uri": "https://localhost:8080/",
          "height": 204
        },
        "id": "Ms3f3x8T0JjQ",
        "outputId": "95998ddc-5a8d-4f5a-fbb2-ba26b20e9b45"
      },
      "source": [
        "#Tách nhữn user_id có chưa có điểm CK ra\n",
        "#Đây là bảng dùng dự đoán điểm CK còn thiếu\n",
        "#https://stackoverflow.com/questions/27159189/find-empty-or-nan-entry-in-pandas-dataframe\n",
        "\n",
        "miss_CK_2 = train_data_2[train_data_2['CK'].isna()]\n",
        "\n",
        "miss_CK_2.head()\n"
      ],
      "execution_count": 235,
      "outputs": [
        {
          "output_type": "execute_result",
          "data": {
            "text/html": [
              "<div>\n",
              "<style scoped>\n",
              "    .dataframe tbody tr th:only-of-type {\n",
              "        vertical-align: middle;\n",
              "    }\n",
              "\n",
              "    .dataframe tbody tr th {\n",
              "        vertical-align: top;\n",
              "    }\n",
              "\n",
              "    .dataframe thead th {\n",
              "        text-align: right;\n",
              "    }\n",
              "</style>\n",
              "<table border=\"1\" class=\"dataframe\">\n",
              "  <thead>\n",
              "    <tr style=\"text-align: right;\">\n",
              "      <th></th>\n",
              "      <th>user_id</th>\n",
              "      <th>num_of_submit</th>\n",
              "      <th>submit_final</th>\n",
              "      <th>total_score</th>\n",
              "      <th>CK</th>\n",
              "      <th>ratio</th>\n",
              "    </tr>\n",
              "  </thead>\n",
              "  <tbody>\n",
              "    <tr>\n",
              "      <th>0</th>\n",
              "      <td>1</td>\n",
              "      <td>2</td>\n",
              "      <td>2</td>\n",
              "      <td>10000</td>\n",
              "      <td>NaN</td>\n",
              "      <td>10000.000000</td>\n",
              "    </tr>\n",
              "    <tr>\n",
              "      <th>1</th>\n",
              "      <td>4</td>\n",
              "      <td>54</td>\n",
              "      <td>38</td>\n",
              "      <td>466000</td>\n",
              "      <td>NaN</td>\n",
              "      <td>327925.925926</td>\n",
              "    </tr>\n",
              "    <tr>\n",
              "      <th>2</th>\n",
              "      <td>5</td>\n",
              "      <td>6</td>\n",
              "      <td>5</td>\n",
              "      <td>30000</td>\n",
              "      <td>NaN</td>\n",
              "      <td>25000.000000</td>\n",
              "    </tr>\n",
              "    <tr>\n",
              "      <th>3</th>\n",
              "      <td>6</td>\n",
              "      <td>130</td>\n",
              "      <td>88</td>\n",
              "      <td>965637</td>\n",
              "      <td>NaN</td>\n",
              "      <td>653661.969231</td>\n",
              "    </tr>\n",
              "    <tr>\n",
              "      <th>4</th>\n",
              "      <td>7</td>\n",
              "      <td>5</td>\n",
              "      <td>2</td>\n",
              "      <td>18843</td>\n",
              "      <td>NaN</td>\n",
              "      <td>7537.200000</td>\n",
              "    </tr>\n",
              "  </tbody>\n",
              "</table>\n",
              "</div>"
            ],
            "text/plain": [
              "   user_id  num_of_submit  submit_final  total_score  CK          ratio\n",
              "0        1              2             2        10000 NaN   10000.000000\n",
              "1        4             54            38       466000 NaN  327925.925926\n",
              "2        5              6             5        30000 NaN   25000.000000\n",
              "3        6            130            88       965637 NaN  653661.969231\n",
              "4        7              5             2        18843 NaN    7537.200000"
            ]
          },
          "metadata": {
            "tags": []
          },
          "execution_count": 235
        }
      ]
    },
    {
      "cell_type": "code",
      "metadata": {
        "colab": {
          "base_uri": "https://localhost:8080/",
          "height": 204
        },
        "id": "JAav575N0JjR",
        "outputId": "f562a2ea-b77c-4362-c487-67a38d327cc0"
      },
      "source": [
        "#Xóa những hàng có CK là NaN khỏi train_data\n",
        "train_data_2.dropna(subset = ['CK'], inplace=True)\n",
        "\n",
        "train_data_2.head()"
      ],
      "execution_count": 236,
      "outputs": [
        {
          "output_type": "execute_result",
          "data": {
            "text/html": [
              "<div>\n",
              "<style scoped>\n",
              "    .dataframe tbody tr th:only-of-type {\n",
              "        vertical-align: middle;\n",
              "    }\n",
              "\n",
              "    .dataframe tbody tr th {\n",
              "        vertical-align: top;\n",
              "    }\n",
              "\n",
              "    .dataframe thead th {\n",
              "        text-align: right;\n",
              "    }\n",
              "</style>\n",
              "<table border=\"1\" class=\"dataframe\">\n",
              "  <thead>\n",
              "    <tr style=\"text-align: right;\">\n",
              "      <th></th>\n",
              "      <th>user_id</th>\n",
              "      <th>num_of_submit</th>\n",
              "      <th>submit_final</th>\n",
              "      <th>total_score</th>\n",
              "      <th>CK</th>\n",
              "      <th>ratio</th>\n",
              "    </tr>\n",
              "  </thead>\n",
              "  <tbody>\n",
              "    <tr>\n",
              "      <th>9</th>\n",
              "      <td>24</td>\n",
              "      <td>164</td>\n",
              "      <td>77</td>\n",
              "      <td>1031674</td>\n",
              "      <td>9.5</td>\n",
              "      <td>484383.524390</td>\n",
              "    </tr>\n",
              "    <tr>\n",
              "      <th>10</th>\n",
              "      <td>27</td>\n",
              "      <td>13</td>\n",
              "      <td>5</td>\n",
              "      <td>52000</td>\n",
              "      <td>10.0</td>\n",
              "      <td>20000.000000</td>\n",
              "    </tr>\n",
              "    <tr>\n",
              "      <th>11</th>\n",
              "      <td>29</td>\n",
              "      <td>199</td>\n",
              "      <td>80</td>\n",
              "      <td>1225828</td>\n",
              "      <td>8.5</td>\n",
              "      <td>492795.175879</td>\n",
              "    </tr>\n",
              "    <tr>\n",
              "      <th>13</th>\n",
              "      <td>34</td>\n",
              "      <td>218</td>\n",
              "      <td>84</td>\n",
              "      <td>1206981</td>\n",
              "      <td>6.5</td>\n",
              "      <td>465075.247706</td>\n",
              "    </tr>\n",
              "    <tr>\n",
              "      <th>14</th>\n",
              "      <td>35</td>\n",
              "      <td>297</td>\n",
              "      <td>151</td>\n",
              "      <td>1809718</td>\n",
              "      <td>4.5</td>\n",
              "      <td>920092.316498</td>\n",
              "    </tr>\n",
              "  </tbody>\n",
              "</table>\n",
              "</div>"
            ],
            "text/plain": [
              "    user_id  num_of_submit  submit_final  total_score    CK          ratio\n",
              "9        24            164            77      1031674   9.5  484383.524390\n",
              "10       27             13             5        52000  10.0   20000.000000\n",
              "11       29            199            80      1225828   8.5  492795.175879\n",
              "13       34            218            84      1206981   6.5  465075.247706\n",
              "14       35            297           151      1809718   4.5  920092.316498"
            ]
          },
          "metadata": {
            "tags": []
          },
          "execution_count": 236
        }
      ]
    },
    {
      "cell_type": "markdown",
      "metadata": {
        "id": "SDKpa4K4yBAe"
      },
      "source": [
        "###**3. Trực quan dữ liệu**"
      ]
    },
    {
      "cell_type": "code",
      "metadata": {
        "colab": {
          "base_uri": "https://localhost:8080/",
          "height": 514
        },
        "id": "n3hCFtnoCiWL",
        "outputId": "e02421e5-72b5-477e-c190-f6477592006a"
      },
      "source": [
        "#https://pandas.pydata.org/pandas-docs/stable/user_guide/visualization.html\n",
        "\n",
        "fig, axs = plt.subplots(figsize=(15, 8))\n",
        "axs.scatter(train_data_2['ratio'], train_data_2['CK'])\n",
        "axs.set(xlabel = 'ratio', ylabel= 'CK')"
      ],
      "execution_count": 237,
      "outputs": [
        {
          "output_type": "execute_result",
          "data": {
            "text/plain": [
              "[Text(0, 0.5, 'CK'), Text(0.5, 0, 'ratio')]"
            ]
          },
          "metadata": {
            "tags": []
          },
          "execution_count": 237
        },
        {
          "output_type": "display_data",
          "data": {
            "image/png": "[encoded data removed]",
            "text/plain": [
              "<Figure size 1080x576 with 1 Axes>"
            ]
          },
          "metadata": {
            "tags": [],
            "needs_background": "light"
          }
        }
      ]
    },
    {
      "cell_type": "markdown",
      "metadata": {
        "id": "sse7JG16yFUH"
      },
      "source": [
        "##**III.2. Train model**"
      ]
    },
    {
      "cell_type": "markdown",
      "metadata": {
        "id": "5F0RrsPy06M1"
      },
      "source": [
        "- Dùng linear Regression"
      ]
    },
    {
      "cell_type": "code",
      "metadata": {
        "colab": {
          "base_uri": "https://localhost:8080/",
          "height": 405
        },
        "id": "8Scao6a-06M2",
        "outputId": "8d3d81dc-7c3a-449e-a301-93aec94edcc5"
      },
      "source": [
        "X = np.array(train_data_2['ratio']).reshape(-1,1)\n",
        "Y = np.array(train_data_2['CK'])\n",
        "\n",
        "# Create linear regression object\n",
        "lr = linear_model.LinearRegression()\n",
        "\n",
        "# Chia data2.svc thành 70% dữ liệu cho train model, 30% dữ liệu cho test\n",
        "X_train, X_test, Y_train, Y_test = train_test_split(X, Y, test_size=0.3, random_state=0)\n",
        "\n",
        "# Train the model using the training sets\n",
        "lr.fit(X_train, Y_train)\n",
        "\n",
        "# Make predictions using the X_test in X\n",
        "data_y_pred = lr.predict(X_test)\n",
        "\n",
        "fig, axs = plt.subplots(figsize=(10, 6))\n",
        "axs.scatter(X_test, Y_test)\n",
        "axs.plot(X_test, data_y_pred, color='red', linewidth=2)\n",
        "axs.set(xlabel = 'ratio', ylabel= 'CK')\n",
        "\n",
        "# The mean squared error or (X_test, Y_test)\n",
        "print('Mean squared error: ', mean_squared_error(Y_test, data_y_pred))"
      ],
      "execution_count": 238,
      "outputs": [
        {
          "output_type": "stream",
          "text": [
            "Mean squared error:  3.5205682463648666\n"
          ],
          "name": "stdout"
        },
        {
          "output_type": "display_data",
          "data": {
            "image/png": "[encoded data removed]",
            "text/plain": [
              "<Figure size 720x432 with 1 Axes>"
            ]
          },
          "metadata": {
            "tags": [],
            "needs_background": "light"
          }
        }
      ]
    },
    {
      "cell_type": "markdown",
      "metadata": {
        "id": "3OaFS1K26YNw"
      },
      "source": [
        "#**IV. Nhận xét chung**\n",
        "\n",
        "- Với 2 hướng xử lý bằng cách tính các giá trị và thông số khác nhau thì rõ ràng **Xử lý Hướng 2** tốt hơn *(MSE_2: 3.5205682463648666 < MSE_1: 4.132898147937121)*.\n",
        "- Tuy nhiên với MSE > 3 thì nhóm em nghĩ mô hình vẫn không tốt, dù là 3 phẩy hay 4 phẩy thì chệnh lệnh giữa dự đoán và  điểm thực tế vẫn còn lớn. \n",
        "- Xử dụng linear regression trong dữ liệu không đồng đều và phụ thuộc vào nhiều tính siêng năng và kỉ luật của sinh viên *(Có thể là ông bà phù hộ nữa)* thì dự đoán sẽ không có tính chính xác."
      ]
    }
  ]
}