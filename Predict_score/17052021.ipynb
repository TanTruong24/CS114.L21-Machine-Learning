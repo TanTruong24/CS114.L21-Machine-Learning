{
  "nbformat": 4,
  "nbformat_minor": 0,
  "metadata": {
    "colab": {
      "name": "17052021.ipynb",
      "provenance": [],
      "collapsed_sections": [],
      "toc_visible": true,
      "authorship_tag": "ABX9TyNcYUoZxRqfvTfQu98KXnHw",
      "include_colab_link": true
    },
    "kernelspec": {
      "name": "python3",
      "display_name": "Python 3"
    },
    "language_info": {
      "name": "python"
    }
  },
  "cells": [
    {
      "cell_type": "markdown",
      "metadata": {
        "id": "view-in-github",
        "colab_type": "text"
      },
      "source": [
        "<a href=\"https://colab.research.google.com/github/TanTruong24/CS114.L21-Machine-Learning/blob/main/Predict_score/17052021.ipynb\" target=\"_parent\"><img src=\"https://colab.research.google.com/assets/colab-badge.svg\" alt=\"Open In Colab\"/></a>"
      ]
    },
    {
      "cell_type": "markdown",
      "metadata": {
        "id": "9tem9B21YUki"
      },
      "source": [
        "<center> <h1> <b> CS114.L21: MACHINE LEARNING <center> <h1> <b>\n",
        "\n",
        "<center> <h2> <b> BÀI TẬP COLAB SỐ 03: DỰ ĐOÁN ĐIỂM CUỐI KỲ TẬP DỮ LIỆU WECODE (Ngày 17/5/2021) <center> <h> <b>"
      ]
    },
    {
      "cell_type": "markdown",
      "metadata": {
        "id": "3Y_GmeyIYkdu"
      },
      "source": [
        "###**1. Nhóm thực hiện**\n",
        "\n",
        "* 19522246 - Vũ Nguyễn Nhật Thanh\n",
        "* 19522180 - Trương Thế Tấn\n",
        "* 19521551 - Nông Thanh Hồng"
      ]
    },
    {
      "cell_type": "code",
      "metadata": {
        "id": "DSgPKI-wJ6P5",
        "colab": {
          "base_uri": "https://localhost:8080/"
        },
        "outputId": "7dc29403-1e3d-4ee2-9f87-878ef529dc91"
      },
      "source": [
        "# DOWLOAD WECODE.CSV AND SCORE_TRAIN.CSV\n",
        "!gdown --id 1Oxicp0c_Z37N2OmZ7CxEQBepE7Wnz8Sc\n",
        "!gdown --id 1eNiHRT4FMBDjCk9q3FCnd3oydgS1taOW"
      ],
      "execution_count": 2,
      "outputs": [
        {
          "output_type": "stream",
          "text": [
            "Downloading...\n",
            "From: https://drive.google.com/uc?id=1Oxicp0c_Z37N2OmZ7CxEQBepE7Wnz8Sc\n",
            "To: /content/score_training.csv\n",
            "100% 23.9k/23.9k [00:00<00:00, 44.2MB/s]\n",
            "Downloading...\n",
            "From: https://drive.google.com/uc?id=1eNiHRT4FMBDjCk9q3FCnd3oydgS1taOW\n",
            "To: /content/wecode.csv\n",
            "30.8MB [00:00, 144MB/s]\n"
          ],
          "name": "stdout"
        }
      ]
    },
    {
      "cell_type": "markdown",
      "metadata": {
        "id": "a2CVZ9OxYp02"
      },
      "source": [
        "#**I. Tham khảo**\n",
        "\n",
        "1. [Read specific column from CSV](https://www.kite.com/python/answers/how-to-read-specific-column-from-csv-file-in-python)\n",
        "2. [pandas.DataFrame.sort_values](https://pandas.pydata.org/docs/reference/api/pandas.DataFrame.sort_values.html)\n",
        "3. [Drop rows from the dataframe based on certain condition applied on a column](https://www.geeksforgeeks.org/drop-rows-from-the-dataframe-based-on-certain-condition-applied-on-a-column/)\n",
        "4. [Merge two csv files by specific column using Pandas](https://www.geeksforgeeks.org/how-to-merge-two-csv-files-by-specific-column-using-pandas-in-python/)\n",
        "5. [Find empty or NaN entry in Pandas Dataframe](https://stackoverflow.com/questions/27159189/find-empty-or-nan-entry-in-pandas-dataframe)\n",
        "6. [Visualization data](https://pandas.pydata.org/pandas-docs/stable/user_guide/visualization.html)\n"
      ]
    },
    {
      "cell_type": "markdown",
      "metadata": {
        "id": "lzL5pSkZY43q"
      },
      "source": [
        "#**II. Xử lý data**"
      ]
    },
    {
      "cell_type": "markdown",
      "metadata": {
        "id": "Nhz30jiwZBD9"
      },
      "source": [
        "##**1. Thư viện cần thiết**"
      ]
    },
    {
      "cell_type": "code",
      "metadata": {
        "id": "VzsNHvZEFqCv"
      },
      "source": [
        "# importing panda library\n",
        "import pandas as pd\n",
        "from pandas import DataFrame\n",
        "\n",
        "#  importing Matplotlib’s Pyplot module\n",
        "import matplotlib.pyplot as plt\n",
        "\n",
        "# importing numpy library\n",
        "import numpy as np\n",
        "\n",
        "from sklearn import linear_model\n",
        "from sklearn.metrics import mean_squared_error\n",
        "from sklearn.model_selection import train_test_split"
      ],
      "execution_count": 1,
      "outputs": []
    },
    {
      "cell_type": "markdown",
      "metadata": {
        "id": "VqEKM3p0lKF9"
      },
      "source": [
        "##**2. Xử lý file wecode.csv**"
      ]
    },
    {
      "cell_type": "markdown",
      "metadata": {
        "id": "ulyWUSzEZWaL"
      },
      "source": [
        "- Từ file wecode.csv nhóm quyết định lấy ra 5 cột là: **assignment_id,\tproblem_id,\tuser_id,\tis_final,\tpre_score**"
      ]
    },
    {
      "cell_type": "code",
      "metadata": {
        "id": "1U8buOQ9Ft_-",
        "colab": {
          "base_uri": "https://localhost:8080/",
          "height": 359
        },
        "outputId": "7db1fcb4-bc4c-4963-d31f-1f969be5671d"
      },
      "source": [
        "#https://www.kite.com/python/answers/how-to-read-specific-column-from-csv-file-in-python\n",
        "df = pd.read_csv('/content/wecode.csv', usecols = ['assignment_id','problem_id','user_id','is_final',\t'pre_score'])\n",
        "df.head(10)\n",
        "\n"
      ],
      "execution_count": 3,
      "outputs": [
        {
          "output_type": "execute_result",
          "data": {
            "text/html": [
              "<div>\n",
              "<style scoped>\n",
              "    .dataframe tbody tr th:only-of-type {\n",
              "        vertical-align: middle;\n",
              "    }\n",
              "\n",
              "    .dataframe tbody tr th {\n",
              "        vertical-align: top;\n",
              "    }\n",
              "\n",
              "    .dataframe thead th {\n",
              "        text-align: right;\n",
              "    }\n",
              "</style>\n",
              "<table border=\"1\" class=\"dataframe\">\n",
              "  <thead>\n",
              "    <tr style=\"text-align: right;\">\n",
              "      <th></th>\n",
              "      <th>assignment_id</th>\n",
              "      <th>problem_id</th>\n",
              "      <th>user_id</th>\n",
              "      <th>is_final</th>\n",
              "      <th>pre_score</th>\n",
              "    </tr>\n",
              "  </thead>\n",
              "  <tbody>\n",
              "    <tr>\n",
              "      <th>0</th>\n",
              "      <td>0</td>\n",
              "      <td>3</td>\n",
              "      <td>4</td>\n",
              "      <td>1</td>\n",
              "      <td>10000</td>\n",
              "    </tr>\n",
              "    <tr>\n",
              "      <th>1</th>\n",
              "      <td>0</td>\n",
              "      <td>4</td>\n",
              "      <td>4</td>\n",
              "      <td>1</td>\n",
              "      <td>10000</td>\n",
              "    </tr>\n",
              "    <tr>\n",
              "      <th>2</th>\n",
              "      <td>0</td>\n",
              "      <td>5</td>\n",
              "      <td>4</td>\n",
              "      <td>0</td>\n",
              "      <td>0</td>\n",
              "    </tr>\n",
              "    <tr>\n",
              "      <th>3</th>\n",
              "      <td>0</td>\n",
              "      <td>5</td>\n",
              "      <td>4</td>\n",
              "      <td>0</td>\n",
              "      <td>0</td>\n",
              "    </tr>\n",
              "    <tr>\n",
              "      <th>4</th>\n",
              "      <td>0</td>\n",
              "      <td>5</td>\n",
              "      <td>4</td>\n",
              "      <td>0</td>\n",
              "      <td>0</td>\n",
              "    </tr>\n",
              "    <tr>\n",
              "      <th>5</th>\n",
              "      <td>0</td>\n",
              "      <td>5</td>\n",
              "      <td>4</td>\n",
              "      <td>0</td>\n",
              "      <td>0</td>\n",
              "    </tr>\n",
              "    <tr>\n",
              "      <th>6</th>\n",
              "      <td>0</td>\n",
              "      <td>6</td>\n",
              "      <td>4</td>\n",
              "      <td>1</td>\n",
              "      <td>10000</td>\n",
              "    </tr>\n",
              "    <tr>\n",
              "      <th>7</th>\n",
              "      <td>0</td>\n",
              "      <td>7</td>\n",
              "      <td>4</td>\n",
              "      <td>1</td>\n",
              "      <td>10000</td>\n",
              "    </tr>\n",
              "    <tr>\n",
              "      <th>8</th>\n",
              "      <td>0</td>\n",
              "      <td>8</td>\n",
              "      <td>4</td>\n",
              "      <td>1</td>\n",
              "      <td>10000</td>\n",
              "    </tr>\n",
              "    <tr>\n",
              "      <th>9</th>\n",
              "      <td>0</td>\n",
              "      <td>9</td>\n",
              "      <td>4</td>\n",
              "      <td>1</td>\n",
              "      <td>10000</td>\n",
              "    </tr>\n",
              "  </tbody>\n",
              "</table>\n",
              "</div>"
            ],
            "text/plain": [
              "   assignment_id  problem_id  user_id  is_final  pre_score\n",
              "0              0           3        4         1      10000\n",
              "1              0           4        4         1      10000\n",
              "2              0           5        4         0          0\n",
              "3              0           5        4         0          0\n",
              "4              0           5        4         0          0\n",
              "5              0           5        4         0          0\n",
              "6              0           6        4         1      10000\n",
              "7              0           7        4         1      10000\n",
              "8              0           8        4         1      10000\n",
              "9              0           9        4         1      10000"
            ]
          },
          "metadata": {
            "tags": []
          },
          "execution_count": 3
        }
      ]
    },
    {
      "cell_type": "markdown",
      "metadata": {
        "id": "uf16kAtvZkJz"
      },
      "source": [
        "- Sau khi lấy ra 5 cột như trên. để dễ quan sát thì tụi em sort lại theo user_id từ bé đến lớn và sắp xếp lại các cột"
      ]
    },
    {
      "cell_type": "code",
      "metadata": {
        "id": "K2VR5C3Gz6w6",
        "colab": {
          "base_uri": "https://localhost:8080/"
        },
        "outputId": "0916e70d-7081-421f-a9a8-a88837dffa81"
      },
      "source": [
        "# sorting dựa vào user_id\n",
        "#https://pandas.pydata.org/docs/reference/api/pandas.DataFrame.sort_values.html\n",
        "\n",
        "df_wecode = df.sort_values(\n",
        "    by=[\"user_id\", \"assignment_id\",\"problem_id\", \"is_final\",\t'pre_score']\n",
        "    )[[\"user_id\", \"assignment_id\",\"problem_id\", \"is_final\",\t'pre_score']]\n",
        "print(df_wecode)\n"
      ],
      "execution_count": 4,
      "outputs": [
        {
          "output_type": "stream",
          "text": [
            "        user_id  assignment_id  problem_id  is_final  pre_score\n",
            "13940         1              0          81         1          0\n",
            "84860         1              0         370         1      10000\n",
            "0             4              0           3         1      10000\n",
            "1             4              0           4         1      10000\n",
            "2             4              0           5         0          0\n",
            "...         ...            ...         ...       ...        ...\n",
            "233958     1868            273         586         0          0\n",
            "234019     1868            273         586         1      10000\n",
            "233965     1868            273         616         1      10000\n",
            "233959     1868            273         619         1      10000\n",
            "233961     1868            273         622         1      10000\n",
            "\n",
            "[264606 rows x 5 columns]\n"
          ],
          "name": "stdout"
        }
      ]
    },
    {
      "cell_type": "markdown",
      "metadata": {
        "id": "FlbWYhJLZzAL"
      },
      "source": [
        "- Sau khi sắp xếp xong, tụi em thực hiện đếm các giá trị. Mỗi giá trị đếm sẽ được thêm vào một bảng riêng và cuối cùng sẽ merge các bảng lại với nhau. Ở đây có 4 bảng là:\n",
        "  1. ***total_problem:*** đếm số problem mà mỗi user_id đã làm\n",
        "  2. ***total_submit:*** đếm số lần submit của mỗi user_id, tính cả lần submit đúng và sai (is_final = 0 hoặc 1)\n",
        "  3. ***submit_final***: Đếm số lần mà user_id submit thành công (có điểm, is_final = 1).\n",
        "  4. ***total_score***: tính tổng số điểm của mỗi user_id. Tổng các điểm > 0."
      ]
    },
    {
      "cell_type": "code",
      "metadata": {
        "colab": {
          "base_uri": "https://localhost:8080/"
        },
        "id": "O-uYF1UIMsBs",
        "outputId": "9656dfa0-0854-4ae7-81e6-9ac46502737c"
      },
      "source": [
        "# Đếm số problem_id mà mỗi user_id đã làm \n",
        "total_problem = df_wecode.groupby('user_id')['problem_id'].count().reset_index(name='num_of_problem')\n",
        "\n",
        "print(total_problem)\n",
        "\n",
        "# Đếm số lần submit mà mỗi user_id đã làm \n",
        "total_submit = df_wecode[df_wecode['pre_score'] >= 0].groupby('user_id')['user_id'].count().reset_index(name='num_of_submit')\n",
        "\n",
        "print(total_submit)\n",
        "\n",
        "# Đếm số lần submit đúng (is_final = 1) mà mỗi user_id đã làm \n",
        "submit_final = df_wecode[df_wecode['is_final'] == 1].groupby('user_id')['is_final'].count().reset_index(name='submit_final')\n",
        "\n",
        "print(submit_final)\n",
        "\n",
        "# tổng số điểm > 0 mà mỗi user_id đã làm \n",
        "total_score = df_wecode[df_wecode['pre_score'] > 0].groupby('user_id')['pre_score'].sum().reset_index(name='total_score')\n",
        "\n",
        "print(total_score)"
      ],
      "execution_count": 34,
      "outputs": [
        {
          "output_type": "stream",
          "text": [
            "      user_id  num_of_problem\n",
            "0           1               2\n",
            "1           4              54\n",
            "2           5               6\n",
            "3           6             130\n",
            "4           7               5\n",
            "...       ...             ...\n",
            "1154     1860              76\n",
            "1155     1862              12\n",
            "1156     1864             187\n",
            "1157     1865              99\n",
            "1158     1868              47\n",
            "\n",
            "[1159 rows x 2 columns]\n",
            "      user_id  num_of_submit\n",
            "0           1              2\n",
            "1           4             54\n",
            "2           5              6\n",
            "3           6            130\n",
            "4           7              5\n",
            "...       ...            ...\n",
            "1154     1860             76\n",
            "1155     1862             12\n",
            "1156     1864            187\n",
            "1157     1865             99\n",
            "1158     1868             47\n",
            "\n",
            "[1159 rows x 2 columns]\n",
            "      user_id  submit_final\n",
            "0           1             2\n",
            "1           4            38\n",
            "2           5             5\n",
            "3           6            88\n",
            "4           7             2\n",
            "...       ...           ...\n",
            "1152     1860            48\n",
            "1153     1862             6\n",
            "1154     1864            63\n",
            "1155     1865            17\n",
            "1156     1868            27\n",
            "\n",
            "[1157 rows x 2 columns]\n",
            "      user_id  total_score\n",
            "0           1        10000\n",
            "1           4       466000\n",
            "2           5        30000\n",
            "3           6       965637\n",
            "4           7        18843\n",
            "...       ...          ...\n",
            "1140     1860       405440\n",
            "1141     1862        40000\n",
            "1142     1864       563292\n",
            "1143     1865       189460\n",
            "1144     1868       390000\n",
            "\n",
            "[1145 rows x 2 columns]\n"
          ],
          "name": "stdout"
        }
      ]
    },
    {
      "cell_type": "markdown",
      "metadata": {
        "id": "o2CdH9qQa2JJ"
      },
      "source": [
        "- merge tất cả các bảng trên thành một bảng duy nhất là **df_wecode**"
      ]
    },
    {
      "cell_type": "code",
      "metadata": {
        "colab": {
          "base_uri": "https://localhost:8080/"
        },
        "id": "sgMr2KtELYwa",
        "outputId": "b52378c2-2913-476c-b025-fdd64f391c7d"
      },
      "source": [
        "#merge total_problem vs total_submit vs submit_final\n",
        "#https://www.geeksforgeeks.org/how-to-merge-two-csv-files-by-specific-column-using-pandas-in-python/\n",
        "\n",
        "merge1 = pd.merge(total_problem, total_submit,\n",
        "                   on='user_id', \n",
        "                   how='inner')\n",
        "  \n",
        "merge2 = pd.merge(merge1, submit_final,\n",
        "                   on='user_id', \n",
        "                   how='inner')\n",
        "merge_wecode = pd.merge(merge2, total_score,\n",
        "                        on='user_id', \n",
        "                        how='inner')\n",
        "\n",
        "# displaying result\n",
        "print(merge_wecode)"
      ],
      "execution_count": 45,
      "outputs": [
        {
          "output_type": "stream",
          "text": [
            "      user_id  num_of_problem  num_of_submit  submit_final  total_score\n",
            "0           1               2              2             2        10000\n",
            "1           4              54             54            38       466000\n",
            "2           5               6              6             5        30000\n",
            "3           6             130            130            88       965637\n",
            "4           7               5              5             2        18843\n",
            "...       ...             ...            ...           ...          ...\n",
            "1139     1860              76             76            48       405440\n",
            "1140     1862              12             12             6        40000\n",
            "1141     1864             187            187            63       563292\n",
            "1142     1865              99             99            17       189460\n",
            "1143     1868              47             47            27       390000\n",
            "\n",
            "[1144 rows x 5 columns]\n"
          ],
          "name": "stdout"
        }
      ]
    },
    {
      "cell_type": "markdown",
      "metadata": {
        "id": "F3yy5ymgvrLN"
      },
      "source": [
        "## **3. Xử lý file score_training.csv**"
      ]
    },
    {
      "cell_type": "markdown",
      "metadata": {
        "id": "eiVC2L9gbWIs"
      },
      "source": [
        "- file score_training.csv chỉ lấy 2 cột là **id** *(user_id trong wecode.csv)* và **CK**"
      ]
    },
    {
      "cell_type": "code",
      "metadata": {
        "colab": {
          "base_uri": "https://localhost:8080/"
        },
        "id": "yLnSunMTpX-8",
        "outputId": "05bc5431-5efe-48bc-d39e-b8d68c987761"
      },
      "source": [
        "df_score = pd.read_csv('/content/score_training.csv', usecols = ['id', 'CK'])\n",
        "\n",
        "#https://pandas.pydata.org/pandas-docs/stable/reference/api/pandas.DataFrame.rename.html\n",
        "# đổi tên cột id thành user_id để đồng bộ với file wecoe.csv\n",
        "df_score = df_score.rename(columns = {'id': 'user_id'})\n",
        "\n",
        "print(df_score)"
      ],
      "execution_count": 36,
      "outputs": [
        {
          "output_type": "stream",
          "text": [
            "     user_id   CK\n",
            "0         22  8.5\n",
            "1         24  9.5\n",
            "2         27   10\n",
            "3         28  9.5\n",
            "4         29  8.5\n",
            "..       ...  ...\n",
            "970     1857    4\n",
            "971     1859  1.5\n",
            "972     1862  7.5\n",
            "973     1865  7.5\n",
            "974     1866    5\n",
            "\n",
            "[975 rows x 2 columns]\n"
          ],
          "name": "stdout"
        }
      ]
    },
    {
      "cell_type": "markdown",
      "metadata": {
        "id": "V1Di1N5ecFei"
      },
      "source": [
        "- Tiếp theo là merge 2 bảng là bảng **merge_wecode** và **df_score**. Ở đây dùng join left theo merge_wecode, bởi nhiều dữ liệu bên merge_wecode có nhưng bên df_score lại không và những cái thiếu bên df_score là những cái cần dự đoán.\n",
        "- những dữ liệu thiếu bên cột CK sẽ thành NaN"
      ]
    },
    {
      "cell_type": "code",
      "metadata": {
        "colab": {
          "base_uri": "https://localhost:8080/"
        },
        "id": "dhDILQt5yMs_",
        "outputId": "457bd7fb-35a9-481d-c387-39ee569439f9"
      },
      "source": [
        "#merge table \"merge_wecode\" (wecode.csv) vs table \"df_score\" (training_score.csv)\n",
        "train_data = pd.merge(merge_wecode, df_score,\n",
        "                   on='user_id', \n",
        "                   how='left')\n",
        "  \n",
        "# displaying result\n",
        "print(train_data)\n",
        "print(train_data.dtypes)"
      ],
      "execution_count": 62,
      "outputs": [
        {
          "output_type": "stream",
          "text": [
            "      user_id  num_of_problem  num_of_submit  submit_final  total_score   CK\n",
            "0           1               2              2             2        10000  NaN\n",
            "1           4              54             54            38       466000  NaN\n",
            "2           5               6              6             5        30000  NaN\n",
            "3           6             130            130            88       965637  NaN\n",
            "4           7               5              5             2        18843  NaN\n",
            "...       ...             ...            ...           ...          ...  ...\n",
            "1139     1860              76             76            48       405440  NaN\n",
            "1140     1862              12             12             6        40000  7.5\n",
            "1141     1864             187            187            63       563292  NaN\n",
            "1142     1865              99             99            17       189460  7.5\n",
            "1143     1868              47             47            27       390000  NaN\n",
            "\n",
            "[1144 rows x 6 columns]\n",
            "user_id            int64\n",
            "num_of_problem     int64\n",
            "num_of_submit      int64\n",
            "submit_final       int64\n",
            "total_score        int64\n",
            "CK                object\n",
            "dtype: object\n"
          ],
          "name": "stdout"
        }
      ]
    },
    {
      "cell_type": "markdown",
      "metadata": {
        "id": "3lQRL3m2dWt5"
      },
      "source": [
        "- Sau khi merge tất cả lại ta được bảng là **train_data**. Bước tiếp theo sẽ tính **ratio** *(tỷ lệ) được tính bằng:\\\n",
        "  *(submit_final / num_of_submit) . total_score*"
      ]
    },
    {
      "cell_type": "code",
      "metadata": {
        "id": "tVeRNb7zQoX6",
        "colab": {
          "base_uri": "https://localhost:8080/"
        },
        "outputId": "a74496e7-3890-45bb-f5c4-409925e9cdfa"
      },
      "source": [
        "#chuyển CK từ object->float64. do dữ liệu lúc đầu cột CK là object\n",
        "train_data[\"CK\"] = pd.to_numeric(train_data['CK'], errors='coerce')\n",
        "\n",
        "#Thêm cột ratio và tính toán giá trị cột\n",
        "train_data['ratio'] = (train_data['submit_final']/train_data['num_of_submit'])*train_data['total_score']\n",
        "\n",
        "print(train_data)\n"
      ],
      "execution_count": 63,
      "outputs": [
        {
          "output_type": "stream",
          "text": [
            "      user_id  num_of_problem  num_of_submit  ...  total_score   CK          ratio\n",
            "0           1               2              2  ...        10000  NaN   10000.000000\n",
            "1           4              54             54  ...       466000  NaN  327925.925926\n",
            "2           5               6              6  ...        30000  NaN   25000.000000\n",
            "3           6             130            130  ...       965637  NaN  653661.969231\n",
            "4           7               5              5  ...        18843  NaN    7537.200000\n",
            "...       ...             ...            ...  ...          ...  ...            ...\n",
            "1139     1860              76             76  ...       405440  NaN  256067.368421\n",
            "1140     1862              12             12  ...        40000  7.5   20000.000000\n",
            "1141     1864             187            187  ...       563292  NaN  189772.171123\n",
            "1142     1865              99             99  ...       189460  7.5   32533.535354\n",
            "1143     1868              47             47  ...       390000  NaN  224042.553191\n",
            "\n",
            "[1144 rows x 7 columns]\n"
          ],
          "name": "stdout"
        }
      ]
    },
    {
      "cell_type": "markdown",
      "metadata": {
        "id": "F6xSJbkSezW_"
      },
      "source": [
        "- Để cột CK là dự đoán cần tách những hàng có giá trị CK là NaN ra để làm test dự đoán.\n",
        "- Sau khi tách thì xóa những hàng có CK NaN ra train_data để thực hiện dự đoán model."
      ]
    },
    {
      "cell_type": "code",
      "metadata": {
        "colab": {
          "base_uri": "https://localhost:8080/"
        },
        "id": "tSTjRCE_GGRt",
        "outputId": "470afd03-adc6-4c2f-b966-e84ea7d9dd66"
      },
      "source": [
        "#Tách nhữn user_id có chưa có điểm CK ra\n",
        "#Đây là bảng dùng dự đoán điểm CK còn thiếu\n",
        "#https://stackoverflow.com/questions/27159189/find-empty-or-nan-entry-in-pandas-dataframe\n",
        "\n",
        "miss_CK = train_data[train_data['CK'].isna()]\n",
        "\n",
        "print(miss_CK)\n"
      ],
      "execution_count": 64,
      "outputs": [
        {
          "output_type": "stream",
          "text": [
            "      user_id  num_of_problem  num_of_submit  ...  total_score  CK          ratio\n",
            "0           1               2              2  ...        10000 NaN   10000.000000\n",
            "1           4              54             54  ...       466000 NaN  327925.925926\n",
            "2           5               6              6  ...        30000 NaN   25000.000000\n",
            "3           6             130            130  ...       965637 NaN  653661.969231\n",
            "4           7               5              5  ...        18843 NaN    7537.200000\n",
            "...       ...             ...            ...  ...          ...  ..            ...\n",
            "1134     1852              20             20  ...        50000 NaN    2500.000000\n",
            "1135     1855             134            134  ...       875665 NaN  437832.500000\n",
            "1139     1860              76             76  ...       405440 NaN  256067.368421\n",
            "1141     1864             187            187  ...       563292 NaN  189772.171123\n",
            "1143     1868              47             47  ...       390000 NaN  224042.553191\n",
            "\n",
            "[346 rows x 7 columns]\n"
          ],
          "name": "stdout"
        }
      ]
    },
    {
      "cell_type": "code",
      "metadata": {
        "colab": {
          "base_uri": "https://localhost:8080/"
        },
        "id": "ji1FW4z4fnpa",
        "outputId": "27e0c243-e93c-4765-b43f-0cd30ee947da"
      },
      "source": [
        "#Xóa những hàng có CK là NaN khỏi train_data\n",
        "train_data.dropna(subset = ['CK'], inplace=True)\n",
        "\n",
        "print(train_data)"
      ],
      "execution_count": 66,
      "outputs": [
        {
          "output_type": "stream",
          "text": [
            "      user_id  num_of_problem  num_of_submit  ...  total_score    CK          ratio\n",
            "9          24             164            164  ...      1031674   9.5  484383.524390\n",
            "10         27              13             13  ...        52000  10.0   20000.000000\n",
            "11         29             199            199  ...      1225828   8.5  492795.175879\n",
            "13         34             218            218  ...      1206981   6.5  465075.247706\n",
            "14         35             297            297  ...      1809718   4.5  920092.316498\n",
            "...       ...             ...            ...  ...          ...   ...            ...\n",
            "1136     1856              64             64  ...       329074   7.5  159395.218750\n",
            "1137     1857              55             55  ...       389000   4.0  282909.090909\n",
            "1138     1859              31             31  ...        39000   1.5   37741.935484\n",
            "1140     1862              12             12  ...        40000   7.5   20000.000000\n",
            "1142     1865              99             99  ...       189460   7.5   32533.535354\n",
            "\n",
            "[798 rows x 7 columns]\n"
          ],
          "name": "stdout"
        }
      ]
    },
    {
      "cell_type": "markdown",
      "metadata": {
        "id": "E2ed_CCqVihL"
      },
      "source": [
        "##**4. Trực quan dữ liệu**\n"
      ]
    },
    {
      "cell_type": "code",
      "metadata": {
        "colab": {
          "base_uri": "https://localhost:8080/",
          "height": 405
        },
        "id": "n3hCFtnoCiWL",
        "outputId": "9b8ec006-05ef-4146-fd4a-86e340191f37"
      },
      "source": [
        "#https://pandas.pydata.org/pandas-docs/stable/user_guide/visualization.html\n",
        "\n",
        "fig, axs = plt.subplots(figsize=(10, 6))\n",
        "axs.scatter(train_data['ratio'], train_data['CK'])\n",
        "axs.set(xlabel = 'ratio', ylabel= 'CK')"
      ],
      "execution_count": 67,
      "outputs": [
        {
          "output_type": "execute_result",
          "data": {
            "text/plain": [
              "[Text(0, 0.5, 'CK'), Text(0.5, 0, 'ratio')]"
            ]
          },
          "metadata": {
            "tags": []
          },
          "execution_count": 67
        },
        {
          "output_type": "display_data",
          "data": {
            "image/png": "[encoded data removed]",
            "text/plain": [
              "<Figure size 720x432 with 1 Axes>"
            ]
          },
          "metadata": {
            "tags": [],
            "needs_background": "light"
          }
        }
      ]
    },
    {
      "cell_type": "markdown",
      "metadata": {
        "id": "XbCoaln2lAkf"
      },
      "source": [
        "#**III. Train model**"
      ]
    },
    {
      "cell_type": "markdown",
      "metadata": {
        "id": "rUKZCJ4bi8oY"
      },
      "source": [
        "- Dùng linear Regression"
      ]
    },
    {
      "cell_type": "code",
      "metadata": {
        "id": "JvwVkkiik9gD",
        "colab": {
          "base_uri": "https://localhost:8080/",
          "height": 405
        },
        "outputId": "73665fb1-c47f-45ff-f28e-529241ae465c"
      },
      "source": [
        "X = np.array(train_data['ratio']).reshape(-1,1)\n",
        "Y = np.array(train_data['CK'])\n",
        "\n",
        "# Create linear regression object\n",
        "lr = linear_model.LinearRegression()\n",
        "\n",
        "# Chia data2.svc thành 70% dữ liệu cho train model, 30% dữ liệu cho test\n",
        "X_train, X_test, Y_train, Y_test = train_test_split(X, Y, test_size=0.3, random_state=0)\n",
        "\n",
        "# Train the model using the training sets\n",
        "lr.fit(X_train, Y_train)\n",
        "\n",
        "# Make predictions using the X_test in X\n",
        "data_y_pred = lr.predict(X_test)\n",
        "\n",
        "fig, axs = plt.subplots(figsize=(10, 6))\n",
        "axs.scatter(X_test, Y_test)\n",
        "axs.plot(X_test, data_y_pred, color='red', linewidth=2)\n",
        "axs.set(xlabel = 'ratio', ylabel= 'CK')\n",
        "\n",
        "# The mean squared error or (X_test, Y_test)\n",
        "print('Mean squared error: ', mean_squared_error(Y_test, data_y_pred))"
      ],
      "execution_count": 79,
      "outputs": [
        {
          "output_type": "stream",
          "text": [
            "Mean squared error:  3.5205682965739826\n"
          ],
          "name": "stdout"
        },
        {
          "output_type": "display_data",
          "data": {
            "image/png": "[encoded data removed]",
            "text/plain": [
              "<Figure size 720x432 with 1 Axes>"
            ]
          },
          "metadata": {
            "tags": [],
            "needs_background": "light"
          }
        }
      ]
    },
    {
      "cell_type": "markdown",
      "metadata": {
        "id": "1e6e06OnjApn"
      },
      "source": [
        "- Dùng Lasso Regression"
      ]
    },
    {
      "cell_type": "code",
      "metadata": {
        "colab": {
          "base_uri": "https://localhost:8080/",
          "height": 405
        },
        "id": "IB5MuP-cUKk7",
        "outputId": "1fa3be09-65d5-464c-fee9-52619d1b109a"
      },
      "source": [
        "X = np.array(train_data['ratio']).reshape(-1,1)\n",
        "Y = np.array(train_data['CK'])\n",
        "\n",
        "# Create lasso regression object\n",
        "lasso_reg = linear_model.Lasso(alpha=0.1)\n",
        "\n",
        "# Chia data2.svc thành 70% dữ liệu cho train model, 30% dữ liệu cho test\n",
        "X_train, X_test, Y_train, Y_test = train_test_split(X, Y, test_size=0.3, random_state=0)\n",
        "\n",
        "# Train the model using the training sets\n",
        "lasso_reg.fit(X_train, Y_train)\n",
        "\n",
        "# Make predictions using the X_test in X\n",
        "data_y_pred = lasso_reg.predict(X_test)\n",
        "\n",
        "fig, axs = plt.subplots(figsize=(10, 6))\n",
        "axs.scatter(X_test, Y_test)\n",
        "axs.plot(X_test, data_y_pred, color='red', linewidth=2)\n",
        "axs.set(xlabel = 'ratio', ylabel= 'CK')\n",
        "\n",
        "# The mean squared error or (X_test, Y_test)\n",
        "print('Mean squared error: ', mean_squared_error(Y_test, data_y_pred))"
      ],
      "execution_count": 77,
      "outputs": [
        {
          "output_type": "stream",
          "text": [
            "Mean squared error:  3.520568597832552\n"
          ],
          "name": "stdout"
        },
        {
          "output_type": "display_data",
          "data": {
            "image/png": "[encoded data removed]",
            "text/plain": [
              "<Figure size 720x432 with 1 Axes>"
            ]
          },
          "metadata": {
            "tags": [],
            "needs_background": "light"
          }
        }
      ]
    },
    {
      "cell_type": "markdown",
      "metadata": {
        "id": "bWd2OkuEjSv6"
      },
      "source": [
        "- Dùng Ridge Regression"
      ]
    },
    {
      "cell_type": "code",
      "metadata": {
        "colab": {
          "base_uri": "https://localhost:8080/",
          "height": 405
        },
        "id": "xHEWwFmtjJJ4",
        "outputId": "011f6538-3892-49f0-9656-54b60b57dcd3"
      },
      "source": [
        "X = np.array(train_data['ratio']).reshape(-1,1)\n",
        "Y = np.array(train_data['CK'])\n",
        "\n",
        "# Create ridge regression object\n",
        "ridge_reg = linear_model.Ridge(alpha=0.5)\n",
        "\n",
        "# Chia data2.svc thành 70% dữ liệu cho train model, 30% dữ liệu cho test\n",
        "X_train, X_test, Y_train, Y_test = train_test_split(X, Y, test_size=0.3, random_state=0)\n",
        "\n",
        "# Train the model using the training sets\n",
        "ridge_reg.fit(X_train, Y_train)\n",
        "\n",
        "# Make predictions using the X_test in X\n",
        "data_y_pred = ridge_reg.predict(X_test)\n",
        "\n",
        "fig, axs = plt.subplots(figsize=(10, 6))\n",
        "axs.scatter(X_test, Y_test)\n",
        "axs.plot(X_test, data_y_pred, color='red', linewidth=2)\n",
        "axs.set(xlabel = 'ratio', ylabel= 'CK')\n",
        "\n",
        "# The mean squared error or (X_test, Y_test)\n",
        "print('Mean squared error: ', mean_squared_error(Y_test, data_y_pred))"
      ],
      "execution_count": 83,
      "outputs": [
        {
          "output_type": "stream",
          "text": [
            "Mean squared error:  3.5205682463648675\n"
          ],
          "name": "stdout"
        },
        {
          "output_type": "display_data",
          "data": {
            "image/png": "[encoded data removed]",
            "text/plain": [
              "<Figure size 720x432 with 1 Axes>"
            ]
          },
          "metadata": {
            "tags": [],
            "needs_background": "light"
          }
        }
      ]
    },
    {
      "cell_type": "markdown",
      "metadata": {
        "id": "R9gp_l7JNDzf"
      },
      "source": [
        "---------------------------\n",
        "**Nháp**"
      ]
    }
  ]
}